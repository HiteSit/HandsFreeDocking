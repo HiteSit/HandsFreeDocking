{
 "cells": [
  {
   "cell_type": "code",
   "execution_count": 1,
   "metadata": {},
   "outputs": [],
   "source": [
    "import os\n",
    "import sys\n",
    "import shutil\n",
    "import subprocess\n",
    "sys.path.append(\"../\")\n",
    "\n",
    "from pathlib import Path"
   ]
  },
  {
   "cell_type": "code",
   "metadata": {
    "ExecuteTime": {
     "end_time": "2025-05-19T15:08:48.946508Z",
     "start_time": "2025-05-19T15:08:48.758707Z"
    }
   },
   "source": [
    "from HandsFreeDocking.tools.Chimera_Prep import run_chimera_script\n",
    "from HandsFreeDocking.tools.Protein_Preparation import ProteinPreparation_Protoss, ProteinPreparation_PDBFixer, ProteinPreparation_Meeko"
   ],
   "outputs": [
    {
     "ename": "ModuleNotFoundError",
     "evalue": "No module named 'HandsFreeDocking.tools.Chimera_Prep'",
     "output_type": "error",
     "traceback": [
      "\u001B[0;31m---------------------------------------------------------------------------\u001B[0m",
      "\u001B[0;31mModuleNotFoundError\u001B[0m                       Traceback (most recent call last)",
      "Cell \u001B[0;32mIn[1], line 1\u001B[0m\n\u001B[0;32m----> 1\u001B[0m \u001B[38;5;28;01mfrom\u001B[39;00m \u001B[38;5;21;01mHandsFreeDocking\u001B[39;00m\u001B[38;5;21;01m.\u001B[39;00m\u001B[38;5;21;01mtools\u001B[39;00m\u001B[38;5;21;01m.\u001B[39;00m\u001B[38;5;21;01mChimera_Prep\u001B[39;00m \u001B[38;5;28;01mimport\u001B[39;00m run_chimera_script\n\u001B[1;32m      2\u001B[0m \u001B[38;5;28;01mfrom\u001B[39;00m \u001B[38;5;21;01mHandsFreeDocking\u001B[39;00m\u001B[38;5;21;01m.\u001B[39;00m\u001B[38;5;21;01mtools\u001B[39;00m\u001B[38;5;21;01m.\u001B[39;00m\u001B[38;5;21;01mProtein_Preparation\u001B[39;00m \u001B[38;5;28;01mimport\u001B[39;00m ProteinPreparation_Protoss, ProteinPreparation_PDBFixer, ProteinPreparation_Meeko\n",
      "\u001B[0;31mModuleNotFoundError\u001B[0m: No module named 'HandsFreeDocking.tools.Chimera_Prep'"
     ]
    }
   ],
   "execution_count": 1
  },
  {
   "cell_type": "code",
   "execution_count": 3,
   "metadata": {},
   "outputs": [],
   "source": [
    "from scrubber import Scrub\n",
    "from\\x rdkit import Chem\n",
    "from rdkit.Chem import AllChem"
   ]
  },
  {
   "cell_type": "code",
   "execution_count": null,
   "metadata": {},
   "outputs": [],
   "source": []
  },
  {
   "cell_type": "markdown",
   "metadata": {},
   "source": [
    "### Scrub Trial"
   ]
  },
  {
   "cell_type": "code",
   "execution_count": 4,
   "metadata": {},
   "outputs": [
    {
     "name": "stderr",
     "output_type": "stream",
     "text": [
      "[15:52:45] Can't kekulize mol.  Unkekulized atoms: 15 16 17\n",
      "[15:52:45] Can't kekulize mol.  Unkekulized atoms: 15 16 17\n",
      "[15:52:45] Explicit valence for atom # 3 N, 4, is greater than permitted\n",
      "[15:52:45] Explicit valence for atom # 3 N, 4, is greater than permitted\n",
      "[15:52:45] Explicit valence for atom # 0 N, 4, is greater than permitted\n"
     ]
    }
   ],
   "source": [
    "scrub = Scrub(\n",
    "    ph_low=7.4,\n",
    "    ph_high=7.4,\n",
    ")\n",
    "\n",
    "mol = Chem.MolFromSmiles(\"OC(=O)C1=CC(C=C)=CC(CC2=NN=NN2)=C1\")\n",
    "\n",
    "# each state (e.g. tautomer) an rdkit mol and may have multiple conformers\n",
    "mols = []\n",
    "for mol_state in scrub(mol):\n",
    "    try:\n",
    "        Chem.SanitizeMol(mol_state)\n",
    "        mols.append(mol_state)\n",
    "    except:\n",
    "        continue"
   ]
  },
  {
   "cell_type": "code",
   "execution_count": null,
   "metadata": {},
   "outputs": [],
   "source": []
  },
  {
   "cell_type": "code",
   "execution_count": null,
   "metadata": {},
   "outputs": [],
   "source": []
  },
  {
   "cell_type": "markdown",
   "metadata": {},
   "source": [
    "### Different Protonation Methods"
   ]
  },
  {
   "cell_type": "code",
   "execution_count": 5,
   "metadata": {},
   "outputs": [],
   "source": [
    "resource_dir = Path(\"../examples/\")\n",
    "\n",
    "initial_protein = resource_dir / \"LAG3_Moloc_1.pdb\"\n",
    "protein_chimera = Path(\"protein_chimera.mol2\")\n",
    "protein_protoss = Path(\"protein_protoss.pdb\")\n",
    "protein_pdbfixer = Path(\"protein_pdbfixer.pdb\")\n",
    "protein_meeko = Path(\"protein_meeko.pdbqt\")\n",
    "\n",
    "protein_converted = Path(\"protein_conv.mol2\")"
   ]
  },
  {
   "cell_type": "code",
   "execution_count": 6,
   "metadata": {},
   "outputs": [
    {
     "data": {
      "text/plain": [
       "'protein_chimera.mol2'"
      ]
     },
     "execution_count": 6,
     "metadata": {},
     "output_type": "execute_result"
    }
   ],
   "source": [
    "run_chimera_script(initial_protein, str(protein_chimera))"
   ]
  },
  {
   "cell_type": "code",
   "execution_count": 7,
   "metadata": {},
   "outputs": [
    {
     "name": "stderr",
     "output_type": "stream",
     "text": [
      "@> 3277 atoms and 1 coordinate set(s) were parsed in 0.03s.\n"
     ]
    }
   ],
   "source": [
    "pp = ProteinPreparation_Meeko()\n",
    "output = pp(initial_protein, protein_meeko)"
   ]
  },
  {
   "cell_type": "code",
   "execution_count": 9,
   "metadata": {},
   "outputs": [
    {
     "name": "stdout",
     "output_type": "stream",
     "text": [
      "Preparing protein with ProtoSS ...\n",
      "Job 7f6af200-7f30-44fb-bdba-12476e91d54d completed with success\n"
     ]
    },
    {
     "data": {
      "text/plain": [
       "PosixPath('protein_protoss.pdb')"
      ]
     },
     "execution_count": 9,
     "metadata": {},
     "output_type": "execute_result"
    }
   ],
   "source": [
    "prep = ProteinPreparation_Protoss()\n",
    "prep(initial_protein, protein_protoss)"
   ]
  },
  {
   "cell_type": "code",
   "execution_count": 10,
   "metadata": {},
   "outputs": [
    {
     "data": {
      "text/plain": [
       "PosixPath('protein_pdbfixer.pdb')"
      ]
     },
     "execution_count": 10,
     "metadata": {},
     "output_type": "execute_result"
    }
   ],
   "source": [
    "prep = ProteinPreparation_PDBFixer()\n",
    "prep(initial_protein, protein_pdbfixer)"
   ]
  },
  {
   "cell_type": "code",
   "execution_count": 15,
   "metadata": {},
   "outputs": [],
   "source": [
    "def pdb_to_mol2(fixed_pdb, output_mol2):\n",
    "    from openbabel import pybel\n",
    "    import openbabel.openbabel as ob\n",
    "\n",
    "    \"\"\"\n",
    "    Read the fixed PDB in Pybel, kekulize, assign Gasteiger charges,\n",
    "    and write out MOL2 with atom types and partial charges.\n",
    "    \"\"\"\n",
    "    # Pybel will auto‐kekulize and assign bond orders\n",
    "    mols = list(pybel.readfile(\"pdb\", fixed_pdb))\n",
    "    if not mols:\n",
    "        raise RuntimeError(f\"Could not read any molecules from {fixed_pdb}\")\n",
    "    mol = mols[0]\n",
    "    \n",
    "    mol.calccharges(model=\"gasteiger\")\n",
    "\n",
    "    # write MOL2\n",
    "    mol.write(\"mol2\", output_mol2, overwrite=True)"
   ]
  },
  {
   "cell_type": "code",
   "execution_count": 16,
   "metadata": {},
   "outputs": [
    {
     "name": "stderr",
     "output_type": "stream",
     "text": [
      "==============================\n",
      "*** Open Babel Warning  in PerceiveBondOrders\n",
      "  Failed to kekulize aromatic bonds in OBMol::PerceiveBondOrders (title is protein_pdbfixer.pdb)\n",
      "\n"
     ]
    }
   ],
   "source": [
    "pdb_to_mol2(str(protein_pdbfixer), str(protein_converted))"
   ]
  },
  {
   "cell_type": "code",
   "execution_count": null,
   "metadata": {},
   "outputs": [],
   "source": []
  },
  {
   "cell_type": "code",
   "execution_count": null,
   "metadata": {},
   "outputs": [],
   "source": []
  },
  {
   "cell_type": "code",
   "execution_count": null,
   "metadata": {},
   "outputs": [],
   "source": []
  },
  {
   "cell_type": "markdown",
   "metadata": {},
   "source": [
    "### Meeko Based Protonation Method"
   ]
  },
  {
   "cell_type": "code",
   "execution_count": null,
   "metadata": {},
   "outputs": [],
   "source": [
    "from prody import parsePDB, writePDB, calcCenter\n",
    "from tempfile import gettempdir, NamedTemporaryFile\n",
    "\n",
    "from pymol import cmd"
   ]
  },
  {
   "cell_type": "code",
   "execution_count": null,
   "metadata": {},
   "outputs": [],
   "source": [
    "INIT = str(initial_protein)\n",
    "MIDDLE = \"protein_meeko_H.pdb\"\n",
    "FINAL = \"protein_meeko\""
   ]
  },
  {
   "cell_type": "code",
   "execution_count": null,
   "metadata": {},
   "outputs": [],
   "source": [
    "env = os.environ.copy()\n",
    "env[\"MMTBX_CCP4_MONOMER_LIB\"] = \"/home/hitesit/Software/FORK/geostd\""
   ]
  },
  {
   "cell_type": "code",
   "execution_count": null,
   "metadata": {},
   "outputs": [],
   "source": [
    "subprocess.run([\n",
    "    \"mmtbx.reduce2\",\n",
    "    INIT,\n",
    "    \"approach=add\", \"add_flip_movers=True\" , \"output.filename=\" + MIDDLE, \"--overwrite\"\n",
    "], check=True, env=env)"
   ]
  },
  {
   "cell_type": "code",
   "execution_count": null,
   "metadata": {},
   "outputs": [],
   "source": [
    "cmd.reinitialize()\n",
    "cmd.load(INIT, \"Protein\")\n",
    "cmd.load(MIDDLE, \"Protein_H\")\n",
    "\n",
    "cmd.align(\"Protein_H\", \"Protein\")\n",
    "cmd.delete(\"Protein\")\n",
    "\n",
    "cmd.load(\"Fake_Crystal.sdf\", \"Crystal\")\n",
    "\n",
    "cmd.create(\"Protein_Crystal\", \"Protein Crystal\")\n",
    "\n",
    "temp_dir = gettempdir()\n",
    "temp_file_1 = f\"{temp_dir}/TMP_1.pdb\"\n",
    "\n",
    "cmd.save(temp_file_1, \"Protein_Crystal\")"
   ]
  },
  {
   "cell_type": "code",
   "execution_count": null,
   "metadata": {},
   "outputs": [],
   "source": [
    "atoms = parsePDB(temp_file)\n",
    "receptor_atoms = atoms.select(\"chain A and not water and not hetero\")\n",
    "ligand_atoms = atoms.select(\"resname UNK\")\n",
    "\n",
    "temp_file_2 = f\"{temp_dir}/TMP_2.pdb\"\n",
    "writePDB(temp_file_2, receptor_atoms)\n",
    "\n",
    "center_x, center_y, center_z = calcCenter(ligand_atoms)\n",
    "padding_x, padding_y, padding_z = (10, 10, 10)"
   ]
  },
  {
   "cell_type": "code",
   "execution_count": null,
   "metadata": {},
   "outputs": [],
   "source": [
    "print(temp_file_2)"
   ]
  },
  {
   "cell_type": "code",
   "execution_count": null,
   "metadata": {},
   "outputs": [],
   "source": []
  },
  {
   "cell_type": "code",
   "execution_count": null,
   "metadata": {},
   "outputs": [],
   "source": [
    "# Like this requrie the SDF file\n",
    "subprocess.run([\n",
    "    \"mk_prepare_receptor.py\",\n",
    "    \"-i\", temp_file_2,\n",
    "    \"-o\", FINAL,\n",
    "    \"-p\", \"-v\",\n",
    "    \"--box_center\",\n",
    "    str(center_x), str(center_y), str(center_z),\n",
    "    \"--box_size\",\n",
    "    str(padding_x), str(padding_y), str(padding_z),\n",
    "    \"--allow_bad_res\",\n",
    "], check=True)"
   ]
  },
  {
   "cell_type": "markdown",
   "metadata": {},
   "source": [
    "# The -p flag says that will output a PDBQT file while the -v flag says that will output the vina box"
   ]
  },
  {
   "cell_type": "code",
   "execution_count": null,
   "metadata": {},
   "outputs": [],
   "source": [
    "# Like this it does not requie a PDB file\n",
    "subprocess.run([\n",
    "    \"mk_prepare_receptor.py\",\n",
    "    \"-i\", temp_file_2,\n",
    "    \"-o\", FINAL,\n",
    "    \"-p\",\n",
    "    \"--allow_bad_res\",\n",
    "], check=True)"
   ]
  },
  {
   "cell_type": "code",
   "execution_count": null,
   "metadata": {},
   "outputs": [],
   "source": []
  },
  {
   "cell_type": "code",
   "execution_count": null,
   "metadata": {},
   "outputs": [],
   "source": []
  }
 ],
 "metadata": {
  "kernelspec": {
   "display_name": "cheminf_3_11",
   "language": "python",
   "name": "python3"
  },
  "language_info": {
   "codemirror_mode": {
    "name": "ipython",
    "version": 3
   },
   "file_extension": ".py",
   "mimetype": "text/x-python",
   "name": "python",
   "nbconvert_exporter": "python",
   "pygments_lexer": "ipython3",
   "version": "3.11.8"
  }
 },
 "nbformat": 4,
 "nbformat_minor": 2
}
