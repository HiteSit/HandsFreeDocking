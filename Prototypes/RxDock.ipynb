{
 "cells": [
  {
   "cell_type": "code",
   "execution_count": 17,
   "metadata": {},
   "outputs": [],
   "source": [
    "import os\n",
    "import sys\n",
    "import shutil\n",
    "import subprocess\n",
    "sys.path.append(\"../\")\n",
    "\n",
    "from pathlib import Path"
   ]
  },
  {
   "cell_type": "code",
   "execution_count": 18,
   "metadata": {},
   "outputs": [],
   "source": [
    "from HandsFreeDocking.tools.Protein_Preparation import ProteinPreparation_Chimera"
   ]
  },
  {
   "cell_type": "code",
   "execution_count": 19,
   "metadata": {},
   "outputs": [],
   "source": [
    "resource_dir = Path(\"../examples/\")\n",
    "protein = resource_dir / \"LAG3_Moloc_1.pdb\"\n",
    "crystal = resource_dir / \"Fake_Crystal.sdf\"\n",
    "to_dock = resource_dir / \"Fake_Crystal.sdf\"\n",
    "\n",
    "protein_abs = protein.resolve()\n",
    "crystal_abs = crystal.resolve()\n",
    "to_dock_abs = to_dock.resolve()\n",
    "\n",
    "assert protein_abs.exists()\n",
    "assert crystal_abs.exists()\n",
    "assert to_dock_abs.exists()"
   ]
  },
  {
   "cell_type": "code",
   "execution_count": null,
   "metadata": {},
   "outputs": [],
   "source": []
  },
  {
   "cell_type": "code",
   "execution_count": null,
   "metadata": {},
   "outputs": [],
   "source": []
  },
  {
   "cell_type": "code",
   "execution_count": 20,
   "metadata": {},
   "outputs": [],
   "source": [
    "env = os.environ.copy()\n",
    "env[\"RBT_ROOT\"] = \"/home/hitesit/Software/rxdock/rxdock_installation\"\n",
    "env[\"PATH\"] = f\"{env['RBT_ROOT']}/bin:{env.get('PATH', '')}\"\n",
    "env[\"LD_LIBRARY_PATH\"] = f\"{env['RBT_ROOT']}/lib/x86_64-linux-gnu:{env.get('LD_LIBRARY_PATH', '')}\"\n",
    "env[\"RBT_HOME\"] = os.getcwd()"
   ]
  },
  {
   "cell_type": "code",
   "execution_count": 21,
   "metadata": {},
   "outputs": [
    {
     "name": "stdout",
     "output_type": "stream",
     "text": [
      "***********************************************\n",
      "The RxDock molecular docking program is licensed under GNU LGPL version 3.\n",
      "RxDock is maintained by Vedran Miletić, Patrik Nikolić, and Luka Vretenar.\n",
      "Visit https://www.rxdock.org/ for more information.\n",
      "Executable:\trbdock/0.1.0\n",
      "Library:\tlibrxdock.so/0.1.0\n",
      "RBT_ROOT:\t/home/hitesit/Software/rxdock/rxdock_installation\n",
      "RBT_HOME:\t/home/hitesit/Python_Packages/Docking_Pipelines/HandsFreeDocking/Prototypes\n",
      "Current dir:\t/home/hitesit/Python_Packages/Docking_Pipelines/HandsFreeDocking/Prototypes\n",
      "Date:\t\tFri May 16 17:56:27 2025\n",
      "***********************************************\n"
     ]
    },
    {
     "data": {
      "text/plain": [
       "CompletedProcess(args='rbdock', returncode=1)"
      ]
     },
     "execution_count": 21,
     "metadata": {},
     "output_type": "execute_result"
    },
    {
     "name": "stdout",
     "output_type": "stream",
     "text": [
      "Missing required parameter(s): -i, -r, or -p\n"
     ]
    }
   ],
   "source": [
    "# Run a command with subprocess\n",
    "subprocess.run(\"rbdock\", env=env)"
   ]
  },
  {
   "cell_type": "code",
   "execution_count": null,
   "metadata": {},
   "outputs": [],
   "source": []
  },
  {
   "cell_type": "code",
   "execution_count": 22,
   "metadata": {},
   "outputs": [
    {
     "name": "stdout",
     "output_type": "stream",
     "text": [
      "Preparing protein with Chimera ...\n"
     ]
    }
   ],
   "source": [
    "prep = ProteinPreparation_Chimera()\n",
    "protein_mols = prep(protein_abs, Path(\"Protein.mol2\"))"
   ]
  },
  {
   "cell_type": "code",
   "execution_count": 23,
   "metadata": {},
   "outputs": [
    {
     "data": {
      "text/plain": [
       "PosixPath('Protein.mol2')"
      ]
     },
     "execution_count": 23,
     "metadata": {},
     "output_type": "execute_result"
    }
   ],
   "source": [
    "protein_mols"
   ]
  },
  {
   "cell_type": "code",
   "execution_count": null,
   "metadata": {},
   "outputs": [],
   "source": []
  },
  {
   "cell_type": "code",
   "execution_count": 24,
   "metadata": {},
   "outputs": [],
   "source": [
    "prm = f\"\"\"RBT_PARAMETER_FILE_V1.00\n",
    "TITLE gart_DUD\n",
    "RECEPTOR_FILE {str(protein_mols)}\n",
    "RECEPTOR_FLEX 3.0\n",
    "##############################################\n",
    "## CAVITY DEFINITION: REFERENCE LIGAND METHOD\n",
    "##############################################\n",
    "SECTION MAPPER\n",
    "    SITE_MAPPER RbtLigandSiteMapper\n",
    "    REF_MOL {str(crystal_abs)}\n",
    "    RADIUS 6.0\n",
    "    SMALL_SPHERE 1.0\n",
    "    MIN_VOLUME 100\n",
    "    MAX_CAVITIES 1\n",
    "    VOL_INCR 0.0\n",
    "    GRIDSTEP 0.5\n",
    "END_SECTION\n",
    "############################\n",
    "## CAVITY RESTRAINT PENALTY\n",
    "SECTION CAVITY\n",
    "    SCORING_FUNCTION RbtCavityGridSF\n",
    "    WEIGHT 1.0\n",
    "END_SECTION\n",
    "\"\"\"\n",
    "\n",
    "prmtop_file = \"probe.prmtop\"\n",
    "with open(prmtop_file, \"w\") as f:\n",
    "    f.write(prm)"
   ]
  },
  {
   "cell_type": "code",
   "execution_count": 25,
   "metadata": {},
   "outputs": [
    {
     "name": "stdout",
     "output_type": "stream",
     "text": [
      "***********************************************\n",
      "The RxDock molecular docking program is licensed under GNU LGPL version 3.\n",
      "RxDock is maintained by Vedran Miletić, Patrik Nikolić, and Luka Vretenar.\n",
      "Visit https://www.rxdock.org/ for more information.\n",
      "Executable:\trbcavity/0.1.0\n",
      "Library:\tlibrxdock.so/0.1.0\n",
      "RBT_ROOT:\t/home/hitesit/Software/rxdock/rxdock_installation\n",
      "RBT_HOME:\t/home/hitesit/Python_Packages/Docking_Pipelines/HandsFreeDocking/Prototypes\n",
      "Current dir:\t/home/hitesit/Python_Packages/Docking_Pipelines/HandsFreeDocking/Prototypes\n",
      "Date:\t\tFri May 16 17:56:29 2025\n",
      "***********************************************\n",
      "Command line arguments:\n",
      "-r probe.prmtop\n",
      "-W\n",
      "-d\n",
      "\n",
      "MAPPER\n",
      "CLASS\tRbtLigandSiteMapper\n",
      "ENABLED\tTRUE\n",
      "GRIDSTEP\t0.5\n",
      "MAX_CAVITIES\t1\n",
      "MIN_VOLUME\t100\n",
      "NAME\tMAPPER\n",
      "RADIUS\t6.0\n",
      "REF_MOL\t/home/hitesit/Python_Packages/Docking_Pipelines/HandsFreeDocking/examples/Fake_Crystal.sdf\n",
      "SMALL_SPHERE\t1.0\n",
      "TRACE\t0\n",
      "VOL_INCR\t0.0\n",
      "\n",
      "\n",
      "DOCKING SITE\n",
      "Total volume 1306.75 A^3\n",
      "Cavity #1\tSize=10454 points; Vol=1306.75 A^3; Min=(-62,44.5,-26.5); Max=(-43,60,-9.5); Center=(-53.9358,51.424,-17.0139); Extent=(19,15.5,17)\n",
      "\n",
      "Cav = 10454; total = 10454\n",
      "\n"
     ]
    }
   ],
   "source": [
    "params = [\n",
    "    \"rbcavity\",\n",
    "    \"-W\",\n",
    "    \"-d\",\n",
    "    \"-r\",\n",
    "    \"probe.prmtop\"\n",
    "]\n",
    "\n",
    "result = subprocess.run(params, capture_output=True, text=True, env=env)\n",
    "print(result.stdout)\n",
    "if result.returncode != 0:\n",
    "    print(f\"Error: {result.stderr}\")"
   ]
  },
  {
   "cell_type": "code",
   "execution_count": 28,
   "metadata": {},
   "outputs": [
    {
     "name": "stdout",
     "output_type": "stream",
     "text": [
      "Running docking with command: rbdock -i /home/hitesit/Python_Packages/Docking_Pipelines/HandsFreeDocking/examples/Fake_Crystal.sdf -o docking_results -r probe.prmtop -p dock.prm -n 50\n",
      "***********************************************\n",
      "The RxDock molecular docking program is licensed under GNU LGPL version 3.\n",
      "RxDock is maintained by Vedran Miletić, Patrik Nikolić, and Luka Vretenar.\n",
      "Visit https://www.rxdock.org/ for more information.\n",
      "Executable:\trbdock/0.1.0\n",
      "Library:\tlibrxdock.so/0.1.0\n",
      "RBT_ROOT:\t/home/hitesit/Software/rxdock/rxdock_installation\n",
      "RBT_HOME:\t/home/hitesit/Python_Packages/Docking_Pipelines/HandsFreeDocking/Prototypes\n",
      "Current dir:\t/home/hitesit/Python_Packages/Docking_Pipelines/HandsFreeDocking/Prototypes\n",
      "Date:\t\tFri May 16 17:58:20 2025\n",
      "***********************************************\n",
      "\n",
      "Command line args:\n",
      " -i /home/hitesit/Python_Packages/Docking_Pipelines/HandsFreeDocking/examples/Fake_Crystal.sdf\n",
      " -r probe.prmtop\n",
      " -p dock.prm\n",
      " -o docking_results\n",
      " -n 50\n",
      "Reading polar hydrogens only from ligand SD file\n",
      "\n",
      "DOCKING PROTOCOL:\n",
      "/home/hitesit/Software/rxdock/rxdock_installation/data/scripts/dock.prm\n",
      "Free docking (indexed VDW)\n",
      "\n",
      "RECEPTOR:\n",
      "probe.prmtop\n",
      "gart_DUD\n",
      "\n",
      "DOCKING SITE\n",
      "Total volume 1306.75 A^3\n",
      "Cavity #1\tSize=10454 points; Vol=1306.75 A^3; Min=(-62,44.5,-26.5); Max=(-43,60,-9.5); Center=(-53.9358,51.424,-17.0139); Extent=(19,15.5,17)\n",
      "\n",
      "\n",
      "No solvent\n",
      "\n",
      "------------- Terminate filter 0------------\n",
      "\n",
      "if (SCORE.NRUNS - 49 ) > 0 then\n",
      "\t0.0 \n",
      "else\n",
      "\t-1.0 \n",
      "end\n",
      "\n",
      "\n",
      "**************************************************\n",
      "RECORD #1\n",
      "NAME:   ligand\n",
      "RNG seed:                     std::random_device\n",
      "Numer of docking runs done:   50 (0 errors)\n",
      "Ligand docking duration:      11.928 second(s)\n",
      "\n",
      "Average duration per ligand:  11.928 second(s)\n",
      "Approximately 0 record(s) remaining, will finish Fri May 16 17:58:32 2025\n",
      "\n",
      "**************************************************\n",
      "Total number of ligands: 1, all ligands docked without errors\n",
      "Docking duration for 1 ligand(s): 11.928 second(s)\n",
      "\n",
      "END OF RUN\n",
      "\n",
      "Please cite the following article: Morley, S David and Afshar, Mohammad.\n",
      "Validation of an empirical RNA-ligand scoring function for fast flexible docking\n",
      "using RiboDock®. Journal of computer-aided molecular design 18(3), 189--208\n",
      "(2004).\n",
      "Please cite the following article: Ruiz-Carmona, Sergio and Alvarez-Garcia,\n",
      "Daniel and Foloppe, Nicolas and Garmendia-Doval, A Beatriz and Juhos,\n",
      "Szilveszter and Schmidtke, Peter and Barril, Xavier and Hubbard, Roderick E and\n",
      "Morley, S David. rDock: a fast, versatile and open source program for docking\n",
      "ligands to proteins and nucleic acids. PLoS computational biology 10(4),\n",
      "e1003571 (2014).\n",
      "Please cite the following techreport: Melissa E. O'Neill. PCG: A Family of\n",
      "Simple Fast Space-Efficient Statistically Good Algorithms for Random Number\n",
      "Generation. https://www.cs.hmc.edu/tr/hmc-cs-2014-0905.pdf (2014).\n",
      "\n",
      "Thank you for using RxDock 0.1.0.\n",
      "\n"
     ]
    }
   ],
   "source": [
    "params = [\n",
    "    \"rbdock\",\n",
    "    \"-i\", str(crystal_abs),\n",
    "    \"-o\", \"docking_results\",\n",
    "    \"-r\", \"probe.prmtop\",\n",
    "    \"-p\", \"dock.prm\",\n",
    "    \"-n\", \"50\"\n",
    "]\n",
    "\n",
    "# Run the docking command\n",
    "print(f\"Running docking with command: {' '.join(params)}\")\n",
    "result = subprocess.run(params, capture_output=True, text=True, env=env)\n",
    "\n",
    "# Print the output\n",
    "print(result.stdout)"
   ]
  },
  {
   "cell_type": "code",
   "execution_count": null,
   "metadata": {},
   "outputs": [],
   "source": []
  }
 ],
 "metadata": {
  "kernelspec": {
   "display_name": "cheminf_3_11",
   "language": "python",
   "name": "python3"
  },
  "language_info": {
   "codemirror_mode": {
    "name": "ipython",
    "version": 3
   },
   "file_extension": ".py",
   "mimetype": "text/x-python",
   "name": "python",
   "nbconvert_exporter": "python",
   "pygments_lexer": "ipython3",
   "version": "3.11.8"
  }
 },
 "nbformat": 4,
 "nbformat_minor": 2
}
