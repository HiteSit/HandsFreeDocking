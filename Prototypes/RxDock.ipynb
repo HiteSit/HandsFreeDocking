{
 "cells": [
  {
   "cell_type": "code",
   "execution_count": null,
   "metadata": {},
   "outputs": [],
   "source": [
    "import os\n",
    "import sys\n",
    "import shutil\n",
    "import subprocess\n",
    "sys.path.append(\"../\")\n",
    "\n",
    "from pathlib import Path"
   ]
  },
  {
   "cell_type": "code",
   "execution_count": null,
   "metadata": {},
   "outputs": [],
   "source": [
    "from HandsFreeDocking.tools.Protein_Preparation import ProteinPreparation_Chimera"
   ]
  },
  {
   "cell_type": "code",
   "execution_count": null,
   "metadata": {},
   "outputs": [],
   "source": [
    "resource_dir = Path(\"../examples/\")\n",
    "protein = resource_dir / \"LAG3_Moloc_1.pdb\"\n",
    "crystal = resource_dir / \"Fake_Crystal.sdf\"\n",
    "to_dock = resource_dir / \"Fake_Crystal.sdf\"\n",
    "\n",
    "protein_abs = protein.resolve()\n",
    "crystal_abs = crystal.resolve()\n",
    "to_dock_abs = to_dock.resolve()\n",
    "\n",
    "assert protein_abs.exists()\n",
    "assert crystal_abs.exists()\n",
    "assert to_dock_abs.exists()"
   ]
  },
  {
   "cell_type": "code",
   "execution_count": null,
   "metadata": {},
   "outputs": [],
   "source": []
  },
  {
   "cell_type": "code",
   "execution_count": null,
   "metadata": {},
   "outputs": [],
   "source": []
  },
  {
   "cell_type": "code",
   "execution_count": null,
   "metadata": {},
   "outputs": [],
   "source": [
    "env = os.environ.copy()\n",
    "env[\"RBT_ROOT\"] = \"/home/hitesit/Software/rxdock/rxdock_installation\"\n",
    "env[\"PATH\"] = f\"{env['RBT_ROOT']}/bin:{env.get('PATH', '')}\"\n",
    "env[\"LD_LIBRARY_PATH\"] = f\"{env['RBT_ROOT']}/lib/x86_64-linux-gnu:{env.get('LD_LIBRARY_PATH', '')}\"\n",
    "env[\"RBT_HOME\"] = os.getcwd()"
   ]
  },
  {
   "cell_type": "code",
   "execution_count": null,
   "metadata": {},
   "outputs": [],
   "source": [
    "# Run a command with subprocess\n",
    "subprocess.run(\"rbdock\", env=env)"
   ]
  },
  {
   "cell_type": "code",
   "execution_count": null,
   "metadata": {},
   "outputs": [],
   "source": []
  },
  {
   "cell_type": "code",
   "execution_count": null,
   "metadata": {},
   "outputs": [],
   "source": [
    "prep = ProteinPreparation_Chimera()\n",
    "protein_mols = prep(protein_abs, Path(\"Protein.mol2\"))"
   ]
  },
  {
   "cell_type": "code",
   "execution_count": null,
   "metadata": {},
   "outputs": [],
   "source": [
    "prm = f\"\"\"RBT_PARAMETER_FILE_V1.00\n",
    "TITLE gart_DUD\n",
    "RECEPTOR_FILE {str(protein_mols)}\n",
    "RECEPTOR_FLEX 3.0\n",
    "##############################################\n",
    "## CAVITY DEFINITION: REFERENCE LIGAND METHOD\n",
    "##############################################\n",
    "SECTION MAPPER\n",
    "    SITE_MAPPER RbtLigandSiteMapper\n",
    "    REF_MOL {str(crystal_abs)}\n",
    "    RADIUS 6.0\n",
    "    SMALL_SPHERE 1.0\n",
    "    MIN_VOLUME 100\n",
    "    MAX_CAVITIES 1\n",
    "    VOL_INCR 0.0\n",
    "    GRIDSTEP 0.5\n",
    "END_SECTION\n",
    "############################\n",
    "## CAVITY RESTRAINT PENALTY\n",
    "SECTION CAVITY\n",
    "    SCORING_FUNCTION RbtCavityGridSF\n",
    "    WEIGHT 1.0\n",
    "END_SECTION\n",
    "\"\"\"\n",
    "\n",
    "prmtop_file = \"probe.prmtop\"\n",
    "with open(prmtop_file, \"w\") as f:\n",
    "    f.write(prm)"
   ]
  },
  {
   "cell_type": "code",
   "execution_count": null,
   "metadata": {},
   "outputs": [],
   "source": [
    "params = [\n",
    "    \"rbcavity\",\n",
    "    \"-W\",\n",
    "    \"-d\",\n",
    "    \"-r\",\n",
    "    \"probe.prmtop\"\n",
    "]\n",
    "\n",
    "result = subprocess.run(params, capture_output=True, text=True, env=env)\n",
    "print(result.stdout)\n",
    "if result.returncode != 0:\n",
    "    print(f\"Error: {result.stderr}\")"
   ]
  },
  {
   "cell_type": "code",
   "execution_count": null,
   "metadata": {},
   "outputs": [],
   "source": [
    "params = [\n",
    "    \"rbdock\",\n",
    "    \"-i\", str(to_dock),\n",
    "    \"-o\", \"docking_results\",\n",
    "    \"-r\", \"probe.prmtop\",\n",
    "    \"-p\", \"dock.prm\",\n",
    "    \"-n\", \"50\"\n",
    "]\n",
    "\n",
    "# Run the docking command\n",
    "print(f\"Running docking with command: {' '.join(params)}\")\n",
    "result = subprocess.run(params, capture_output=True, text=True, env=env)\n",
    "\n",
    "# Print the output\n",
    "print(result.stdout)"
   ]
  },
  {
   "cell_type": "code",
   "execution_count": null,
   "metadata": {},
   "outputs": [],
   "source": []
  }
 ],
 "metadata": {
  "kernelspec": {
   "display_name": "cheminf_3_11",
   "language": "python",
   "name": "python3"
  },
  "language_info": {
   "codemirror_mode": {
    "name": "ipython",
    "version": 3
   },
   "file_extension": ".py",
   "mimetype": "text/x-python",
   "name": "python",
   "nbconvert_exporter": "python",
   "pygments_lexer": "ipython3",
   "version": "3.11.8"
  }
 },
 "nbformat": 4,
 "nbformat_minor": 2
}
