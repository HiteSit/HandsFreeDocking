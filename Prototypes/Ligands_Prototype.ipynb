{
 "cells": [
  {
   "cell_type": "code",
   "execution_count": 92,
   "id": "716eb3f4",
   "metadata": {},
   "outputs": [],
   "source": [
    "import os\n",
    "from pathlib import Path\n",
    "\n",
    "import datamol as dm\n",
    "from rdkit import Chem\n",
    "\n",
    "from openeye import oechem\n",
    "from openeye import oequacpac"
   ]
  },
  {
   "cell_type": "code",
   "execution_count": 93,
   "id": "5cf6b232",
   "metadata": {},
   "outputs": [],
   "source": [
    "ligands_path = Path(\"../examples/Ligands_To_Dock.sdf\")"
   ]
  },
  {
   "cell_type": "code",
   "execution_count": 116,
   "id": "cc10f4b3",
   "metadata": {},
   "outputs": [],
   "source": [
    "def oe_protonate(smile, kekule=False) -> str:\n",
    "    \"\"\"\n",
    "    Protonate a SMILES string using OpenEye toolkit.\n",
    "    \n",
    "    This function takes a SMILES string, converts it to an OpenEye molecule,\n",
    "    removes salts, adds explicit hydrogens, applies reasonable protonation states,\n",
    "    and optionally converts to Kekule form before returning the protonated SMILES.\n",
    "    \n",
    "    Parameters:\n",
    "    -----------\n",
    "    smile : str\n",
    "        Input SMILES string to be protonated\n",
    "    kekule : bool, optional\n",
    "        If True (default), convert aromatic bonds to Kekule form\n",
    "        \n",
    "    Returns:\n",
    "    --------\n",
    "    str\n",
    "        Protonated SMILES string\n",
    "        \n",
    "    Example:\n",
    "    --------\n",
    "    >>> smiles = \"C1=CC=C(C=C1)C(=O)O\"\n",
    "    >>> protonated = protonate_smiles(smiles)\n",
    "    \"\"\"\n",
    "    from openeye import oechem\n",
    "    from openeye import oequacpac\n",
    "\n",
    "    # Convert SMILES to OpenEye molecule\n",
    "    oemol = oechem.OEMol()\n",
    "    oechem.OESmilesToMol(oemol, smile)\n",
    "\n",
    "    # Strip Salt\n",
    "    oechem.OEDeleteEverythingExceptTheFirstLargestComponent(oemol)\n",
    "\n",
    "    oechem.OEFindRingAtomsAndBonds(oemol)\n",
    "    oechem.OEAssignAromaticFlags(oemol, oechem.OEAroModel_OpenEye)\n",
    "    smiflag = oechem.OESMILESFlag_Canonical\n",
    "    smiflag |= oechem.OESMILESFlag_ISOMERIC\n",
    "\n",
    "    oechem.OEAddExplicitHydrogens(oemol)\n",
    "    oequacpac.OEGetReasonableProtomer(oemol)\n",
    "\n",
    "    if kekule:\n",
    "        for bond in oemol.GetBonds(oechem.OEIsAromaticBond()):\n",
    "            bond.SetIntType(5)\n",
    "        oechem.OECanonicalOrderAtoms(oemol)\n",
    "        oechem.OECanonicalOrderBonds(oemol)\n",
    "        oechem.OEClearAromaticFlags(oemol)\n",
    "        oechem.OEKekulize(oemol)\n",
    "\n",
    "    smile = oechem.OECreateSmiString(oemol, smiflag)\n",
    "    return smile"
   ]
  },
  {
   "cell_type": "code",
   "execution_count": 121,
   "id": "060e45e6",
   "metadata": {},
   "outputs": [],
   "source": [
    "def cdp_protonate(smiles: str) -> str:\n",
    "    \"\"\"\n",
    "    Takes a SMILES string and returns a protonated SMILES at physiological pH.\n",
    "    \n",
    "    Parameters:\n",
    "    -----------\n",
    "    smiles : str\n",
    "        Input SMILES string\n",
    "        \n",
    "    Returns:\n",
    "    --------\n",
    "    str\n",
    "        Protonated SMILES string at physiological pH\n",
    "        \n",
    "    Raises:\n",
    "    -------\n",
    "    Exception\n",
    "        If SMILES parsing fails or protonation fails\n",
    "    \"\"\"\n",
    "    import CDPL.Chem as Chem\n",
    "\n",
    "    # Parse the SMILES string to create a molecule object\n",
    "    mol = Chem.parseSMILES(smiles)\n",
    "    \n",
    "    if mol is None:\n",
    "        raise Exception(f\"Failed to parse SMILES: {smiles}\")\n",
    "    \n",
    "    # Create a BasicMolecule to store the result\n",
    "    out_mol = Chem.BasicMolecule(mol)\n",
    "    \n",
    "    # Prepare the molecule - calculate required properties\n",
    "    # These are necessary for the protonation algorithm to work correctly\n",
    "    Chem.calcImplicitHydrogenCounts(out_mol, False)\n",
    "    Chem.perceiveHybridizationStates(out_mol, False)\n",
    "    Chem.perceiveSSSR(out_mol, False)  # Smallest Set of Smallest Rings\n",
    "    Chem.setRingFlags(out_mol, False)\n",
    "    Chem.setAromaticityFlags(out_mol, False)\n",
    "    Chem.perceiveComponents(out_mol, False)\n",
    "    \n",
    "    # Create and apply the protonation state standardizer\n",
    "    prot_state_gen = Chem.ProtonationStateStandardizer()\n",
    "    \n",
    "    # Apply physiological condition protonation\n",
    "    prot_state_gen.standardize(out_mol, Chem.ProtonationStateStandardizer.PHYSIOLOGICAL_CONDITION_STATE)\n",
    "    \n",
    "    # Update component perception as structure might have changed\n",
    "    Chem.perceiveComponents(out_mol, True)\n",
    "    \n",
    "    # Generate and return the SMILES string\n",
    "    # Using canonical SMILES for consistency\n",
    "    return Chem.generateSMILES(out_mol, False, True)  # (molecule, with_stereo, canonical)"
   ]
  },
  {
   "cell_type": "code",
   "execution_count": 122,
   "id": "aa086731",
   "metadata": {},
   "outputs": [],
   "source": [
    "smiles = \"C1C=C2C(=NS(=O)(=O)C2=CC=1CN)NC(C)C1C=C(C(O)=O)C=CC=1\""
   ]
  },
  {
   "cell_type": "code",
   "execution_count": 123,
   "id": "d3a04ead",
   "metadata": {},
   "outputs": [
    {
     "name": "stdout",
     "output_type": "stream",
     "text": [
      "CC(c1cccc(c1)C(=O)[O-])N=C2c3ccc(cc3S(=O)(=O)N2)C[NH3+]\n"
     ]
    }
   ],
   "source": [
    "oe_smiles_prot = oe_protonate(smiles)\n",
    "print(oe_smiles_prot)"
   ]
  },
  {
   "cell_type": "code",
   "execution_count": 124,
   "id": "0329718d",
   "metadata": {},
   "outputs": [
    {
     "name": "stdout",
     "output_type": "stream",
     "text": [
      "c1cc2C(=NS(=O)(=O)c2cc1C[NH3+])NC(C)c1cc(C([O-])=O)ccc1\n"
     ]
    }
   ],
   "source": [
    "cdp_smiles_prot = cdp_protonate(smiles)\n",
    "print(cdp_smiles_prot)"
   ]
  },
  {
   "cell_type": "code",
   "execution_count": null,
   "id": "34ea598c",
   "metadata": {},
   "outputs": [],
   "source": []
  },
  {
   "cell_type": "code",
   "execution_count": null,
   "id": "6ec9ed2b",
   "metadata": {},
   "outputs": [],
   "source": []
  }
 ],
 "metadata": {
  "kernelspec": {
   "display_name": "cheminf_3_11",
   "language": "python",
   "name": "python3"
  },
  "language_info": {
   "codemirror_mode": {
    "name": "ipython",
    "version": 3
   },
   "file_extension": ".py",
   "mimetype": "text/x-python",
   "name": "python",
   "nbconvert_exporter": "python",
   "pygments_lexer": "ipython3",
   "version": "3.11.8"
  }
 },
 "nbformat": 4,
 "nbformat_minor": 5
}
