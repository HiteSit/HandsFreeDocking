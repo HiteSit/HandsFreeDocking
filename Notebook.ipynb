{
 "cells": [
  {
   "cell_type": "code",
   "id": "983d6300",
   "metadata": {
    "ExecuteTime": {
     "end_time": "2025-05-19T15:57:37.403899Z",
     "start_time": "2025-05-19T15:57:22.164161Z"
    }
   },
   "source": [
    "import os\n",
    "import shutil\n",
    "import logging\n",
    "import tabulate\n",
    "import cloudpickle as pickle\n",
    "import pandas as pd\n",
    "import numpy as np\n",
    "from functools import partial\n",
    "import time\n",
    "from pathlib import Path\n",
    "import datamol as dm\n",
    "from IPython.display import clear_output\n",
    "from tempfile import NamedTemporaryFile, TemporaryDirectory\n",
    "from itertools import combinations\n",
    "from joblib import Parallel, delayed\n",
    "from rdkit import Chem\n",
    "from rdkit.Chem import rdFMCS\n",
    "import concurrent.futures\n",
    "from spyrmsd import rmsd, molecule\n",
    "from espsim import GetEspSim\n",
    "from sklearn.preprocessing import MinMaxScaler\n",
    "from sklearn.cluster import DBSCAN\n",
    "\n",
    "import oddt\n",
    "import oddt.fingerprints\n",
    "import oddt.shape\n",
    "import oddt.toolkits.rdk\n",
    "\n",
    "from HandsFreeDocking.Wrapper_Docking import PipelineDocking\n",
    "from HandsFreeDocking.analysis.clustering import (\n",
    "    OptimizedDBSCANClustering, PairwiseMatrixComputer, OptimizedKMedoidsClustering,\n",
    "    calc_rmsd_mcs_with_timeout, calc_usr_similarity, calc_splif\n",
    ")\n",
    "\n",
    "from HandsFreeDocking.tools.Protein_Minimization import ProteinMinimizer\n",
    "from HandsFreeDocking.analysis.clustering import OptimizedHierarchicalClustering"
   ],
   "outputs": [],
   "execution_count": 1
  },
  {
   "cell_type": "code",
   "id": "33df468f",
   "metadata": {
    "ExecuteTime": {
     "end_time": "2025-05-19T15:57:37.417382Z",
     "start_time": "2025-05-19T15:57:37.413272Z"
    }
   },
   "source": [
    "protein_pdb = Path(\"./examples/LAG3_Moloc_2.pdb\")\n",
    "ligands_sdf = Path(\"./examples/Ligands_To_Dock.sdf\")\n",
    "cystal_sdf = Path(\"./examples/Fake_Crystal.sdf\")\n",
    "\n",
    "docking_pkl = Path(\"./examples/TMP_Docking/docking_results.pkl\")\n",
    "docking_dir = Path(\"./examples/TMP_Docking\")\n",
    "docking_dir_RXDOCK = Path(\"./examples/TMP_Docking_RXDOCK\")\n",
    "docking_pkl_RXDOCK = docking_dir_RXDOCK / \"docking_results.pkl\"\n",
    "\n",
    "docking_dir_PLANTS = Path(\"./examples/TMP_Docking_PLANTS\")\n",
    "docking_pkl_PLANTS = docking_dir_PLANTS / \"docking_results.pkl\"\n",
    "\n",
    "# Check if all files exist\n",
    "files_to_check = [protein_pdb, ligands_sdf, cystal_sdf]\n",
    "all_files_exist = all(file.exists() for file in files_to_check)\n",
    "\n",
    "RERUN = True"
   ],
   "outputs": [],
   "execution_count": 2
  },
  {
   "cell_type": "markdown",
   "id": "a2c5eb95",
   "metadata": {},
   "source": [
    "from HandsFreeDocking.RxDock_Pipeline import RxDock_Docking\n",
    "from HandsFreeDocking.Plants_Pipeline import Plants_Docking"
   ]
  },
  {
   "cell_type": "markdown",
   "id": "aff699cb",
   "metadata": {},
   "source": [
    "rxdock_pipeline = RxDock_Docking(docking_dir_RXDOCK, protein_pdb, cystal_sdf, ligands_sdf, toolkit=\"openeye\")\n",
    "rxdock_pipeline.main(n_poses=10, n_cpus=2)"
   ]
  },
  {
   "cell_type": "markdown",
   "id": "ae280f17",
   "metadata": {},
   "source": [
    "plants_pipeline = Plants_Docking(docking_dir_PLANTS, protein_pdb, cystal_sdf, ligands_sdf, toolkit=\"openeye\")\n",
    "plants_pipeline.main(n_confs=10, n_cpus=2)"
   ]
  },
  {
   "cell_type": "code",
   "id": "2ace6566",
   "metadata": {
    "ExecuteTime": {
     "end_time": "2025-05-19T13:33:49.700947Z",
     "start_time": "2025-05-19T13:33:49.697824Z"
    }
   },
   "source": [],
   "outputs": [],
   "execution_count": null
  },
  {
   "cell_type": "code",
   "id": "44ea000b",
   "metadata": {
    "ExecuteTime": {
     "end_time": "2025-05-19T13:33:51.736206Z",
     "start_time": "2025-05-19T13:33:51.732412Z"
    }
   },
   "source": [],
   "outputs": [],
   "execution_count": null
  },
  {
   "cell_type": "markdown",
   "id": "585e5847",
   "metadata": {},
   "source": [
    "---"
   ]
  },
  {
   "cell_type": "code",
   "id": "c4c4f2a1",
   "metadata": {
    "ExecuteTime": {
     "end_time": "2025-05-19T15:57:51.274124Z",
     "start_time": "2025-05-19T15:57:37.472927Z"
    }
   },
   "source": [
    "if RERUN == True:\n",
    "    shutil.rmtree(docking_dir, ignore_errors=True)\n",
    "    \n",
    "    # Initialize the docking pipeline\n",
    "    docking = PipelineDocking(\n",
    "        workdir=docking_dir,\n",
    "        docking_software=[\"rxdock\"],      # Choose one or more: \"plants\", \"gnina\", \"openeye\"\n",
    "        settings=(10, 4),                                     # (n_conformers, n_cpus)\n",
    "        protein_pdb=protein_pdb,\n",
    "        ligands_input=ligands_sdf,                            # Can be SDF or SMILES file\n",
    "        crystal_sdf=cystal_sdf,\n",
    "        toolkit=\"openeye\"                                     # Choose \"cdpkit\" or \"openeye\"\n",
    "    )\n",
    "\n",
    "    # Run the docking and get results\n",
    "    results = docking.run()\n",
    "    FULL_DF = docking.concat_df()\n",
    "\n",
    "    with open(docking_pkl, \"wb\") as f:\n",
    "        pickle.dump(FULL_DF, f)\n",
    "\n",
    "    # clear_output()\n",
    "else:\n",
    "    with open(docking_pkl, \"rb\") as f:\n",
    "        FULL_DF = pickle.load(f)"
   ],
   "outputs": [
    {
     "name": "stderr",
     "output_type": "stream",
     "text": [
      "2025-05-19 17:57:37,551 - HandsFreeDocking.Wrapper_Docking - INFO - Using SDF input directly: examples/Ligands_To_Dock.sdf\n",
      "2025-05-19 17:57:37,551 - HandsFreeDocking.Wrapper_Docking - INFO - Starting RxDock docking\n",
      "2025-05-19 17:57:37,553 - HandsFreeDocking.RxDock_Pipeline - INFO - Starting RxDock docking pipeline...\n",
      "2025-05-19 17:57:37,554 - HandsFreeDocking.RxDock_Pipeline - INFO - Step 1: Sourcing macro (cleaning protein)...\n",
      "2025-05-19 17:57:37,728 - HandsFreeDocking.RxDock_Pipeline - INFO - Step 2: Preparing protein...\n"
     ]
    },
    {
     "name": "stdout",
     "output_type": "stream",
     "text": [
      "Preparing protein with Chimera ...\n"
     ]
    },
    {
     "name": "stderr",
     "output_type": "stream",
     "text": [
      "2025-05-19 17:57:39,532 - HandsFreeDocking.RxDock_Pipeline - INFO - Step 3: Defining binding site...\n",
      "2025-05-19 17:57:39,533 - HandsFreeDocking.RxDock_Pipeline - INFO - Creating RxDock parameter file and defining binding site...\n",
      "2025-05-19 17:57:39,534 - HandsFreeDocking.RxDock_Pipeline - INFO - Running command: rbcavity -W -d -r examples/TMP_Docking/RxDock/rxdock.prm\n",
      "2025-05-19 17:57:40,149 - HandsFreeDocking.RxDock_Pipeline - INFO - ***********************************************\n",
      "The RxDock molecular docking program is licensed under GNU LGPL version 3.\n",
      "RxDock is maintained by Vedran Miletić, Patrik Nikolić, and Luka Vretenar.\n",
      "Visit https://www.rxdock.org/ for more information.\n",
      "Executable:\trbcavity/0.1.0\n",
      "Library:\tlibrxdock.so/0.1.0\n",
      "RBT_ROOT:\t/home/hitesit/Software/rxdock/rxdock_installation\n",
      "RBT_HOME:\t/home/hitesit/Python_Packages/Docking_Pipelines/HandsFreeDocking/examples/TMP_Docking/RxDock\n",
      "Current dir:\t/home/hitesit/Python_Packages/Docking_Pipelines/HandsFreeDocking\n",
      "Date:\t\tMon May 19 17:57:39 2025\n",
      "***********************************************\n",
      "Command line arguments:\n",
      "-r examples/TMP_Docking/RxDock/rxdock.prm\n",
      "-W\n",
      "-d\n",
      "\n",
      "MAPPER\n",
      "CLASS\tRbtLigandSiteMapper\n",
      "ENABLED\tTRUE\n",
      "GRIDSTEP\t0.5\n",
      "MAX_CAVITIES\t1\n",
      "MIN_VOLUME\t100\n",
      "NAME\tMAPPER\n",
      "RADIUS\t6.0\n",
      "REF_MOL\t/home/hitesit/Python_Packages/Docking_Pipelines/HandsFreeDocking/examples/Fake_Crystal.sdf\n",
      "SMALL_SPHERE\t1.0\n",
      "TRACE\t0\n",
      "VOL_INCR\t0.0\n",
      "\n",
      "\n",
      "DOCKING SITE\n",
      "Total volume 1284 A^3\n",
      "Cavity #1\tSize=10272 points; Vol=1284 A^3; Min=(-62,44.5,-27); Max=(-43,60,-9.5); Center=(-54.1794,51.5939,-17.3759); Extent=(19,15.5,17.5)\n",
      "\n",
      "Cav = 10272; total = 10272\n",
      "\n",
      "2025-05-19 17:57:40,150 - HandsFreeDocking.RxDock_Pipeline - INFO - Cavity file created: examples/TMP_Docking/RxDock/rxdock.as\n",
      "2025-05-19 17:57:40,150 - HandsFreeDocking.RxDock_Pipeline - INFO - Step 4: Preparing ligands...\n",
      "2025-05-19 17:57:40,151 - HandsFreeDocking.RxDock_Pipeline - INFO - Extracting SMILES from SDF file to prepare with OpenEye toolkit\n",
      "2025-05-19 17:57:40,175 - HandsFreeDocking.RxDock_Pipeline - INFO - Generating 3D structures with OpenEye toolkit\n",
      "2025-05-19 17:57:40,370 - HandsFreeDocking.tools.OpeneEye_Utils - INFO - Protonating the molecule\n",
      "2025-05-19 17:57:40,427 - HandsFreeDocking.tools.OpeneEye_Utils - INFO - Generating 3D coordinates\n",
      "2025-05-19 17:57:41,719 - HandsFreeDocking.RxDock_Pipeline - INFO - Generated 1 stereoisomers for Apigenin\n",
      "2025-05-19 17:57:41,873 - HandsFreeDocking.tools.OpeneEye_Utils - INFO - Protonating the molecule\n",
      "2025-05-19 17:57:41,875 - HandsFreeDocking.tools.OpeneEye_Utils - INFO - Generating 3D coordinates\n",
      "2025-05-19 17:57:41,898 - HandsFreeDocking.RxDock_Pipeline - INFO - Generated 1 stereoisomers for 6-methylflavone\n",
      "2025-05-19 17:57:42,047 - HandsFreeDocking.tools.OpeneEye_Utils - INFO - Protonating the molecule\n",
      "2025-05-19 17:57:42,050 - HandsFreeDocking.tools.OpeneEye_Utils - INFO - Generating 3D coordinates\n",
      "2025-05-19 17:57:42,070 - HandsFreeDocking.RxDock_Pipeline - INFO - Generated 1 stereoisomers for Chrysin\n",
      "2025-05-19 17:57:42,212 - HandsFreeDocking.tools.OpeneEye_Utils - INFO - Protonating the molecule\n",
      "2025-05-19 17:57:42,237 - HandsFreeDocking.tools.OpeneEye_Utils - INFO - Generating 3D coordinates\n",
      "2025-05-19 17:57:42,259 - HandsFreeDocking.RxDock_Pipeline - INFO - Generated 1 stereoisomers for Luteolin\n",
      "2025-05-19 17:57:42,399 - HandsFreeDocking.tools.OpeneEye_Utils - INFO - Protonating the molecule\n",
      "2025-05-19 17:57:42,423 - HandsFreeDocking.tools.OpeneEye_Utils - INFO - Generating 3D coordinates\n",
      "2025-05-19 17:57:42,446 - HandsFreeDocking.RxDock_Pipeline - INFO - Generated 1 stereoisomers for Kaempferol\n",
      "2025-05-19 17:57:42,607 - HandsFreeDocking.tools.OpeneEye_Utils - INFO - Protonating the molecule\n",
      "2025-05-19 17:57:42,628 - HandsFreeDocking.tools.OpeneEye_Utils - INFO - Generating 3D coordinates\n",
      "2025-05-19 17:57:42,651 - HandsFreeDocking.tools.OpeneEye_Utils - INFO - Generating 3D coordinates\n",
      "2025-05-19 17:57:42,676 - HandsFreeDocking.RxDock_Pipeline - INFO - Generated 2 stereoisomers for Eriodictyol\n",
      "2025-05-19 17:57:42,828 - HandsFreeDocking.tools.OpeneEye_Utils - INFO - Protonating the molecule\n",
      "2025-05-19 17:57:42,854 - HandsFreeDocking.tools.OpeneEye_Utils - INFO - Generating 3D coordinates\n",
      "2025-05-19 17:57:42,876 - HandsFreeDocking.RxDock_Pipeline - INFO - Generated 1 stereoisomers for Fisetin\n",
      "2025-05-19 17:57:42,877 - HandsFreeDocking.RxDock_Pipeline - INFO - Successfully prepared 8 ligands for docking\n",
      "2025-05-19 17:57:42,877 - HandsFreeDocking.RxDock_Pipeline - INFO - Step 5: Running docking...\n",
      "2025-05-19 17:57:42,879 - HandsFreeDocking.RxDock_Pipeline - INFO - Running docking in parallel with 4 CPUs...\n",
      "Docking progress:   0%|          | 0/8 [00:00<?, ?it/s]2025-05-19 17:57:42,936 - HandsFreeDocking.RxDock_Pipeline - INFO - Running command: rbdock -i /home/hitesit/Python_Packages/Docking_Pipelines/HandsFreeDocking/examples/TMP_Docking/RxDock/ligands_split/Apigenin_Iso0.sdf -o /home/hitesit/Python_Packages/Docking_Pipelines/HandsFreeDocking/examples/TMP_Docking/RxDock/output/Apigenin_Iso0 -r /home/hitesit/Python_Packages/Docking_Pipelines/HandsFreeDocking/examples/TMP_Docking/RxDock/rxdock.prm -p dock.prm -n 10\n",
      "2025-05-19 17:57:42,935 - HandsFreeDocking.RxDock_Pipeline - INFO - Running command: rbdock -i /home/hitesit/Python_Packages/Docking_Pipelines/HandsFreeDocking/examples/TMP_Docking/RxDock/ligands_split/Chrysin_Iso0.sdf -o /home/hitesit/Python_Packages/Docking_Pipelines/HandsFreeDocking/examples/TMP_Docking/RxDock/output/Chrysin_Iso0 -r /home/hitesit/Python_Packages/Docking_Pipelines/HandsFreeDocking/examples/TMP_Docking/RxDock/rxdock.prm -p dock.prm -n 10\n",
      "2025-05-19 17:57:42,935 - HandsFreeDocking.RxDock_Pipeline - INFO - Running command: rbdock -i /home/hitesit/Python_Packages/Docking_Pipelines/HandsFreeDocking/examples/TMP_Docking/RxDock/ligands_split/Luteolin_Iso0.sdf -o /home/hitesit/Python_Packages/Docking_Pipelines/HandsFreeDocking/examples/TMP_Docking/RxDock/output/Luteolin_Iso0 -r /home/hitesit/Python_Packages/Docking_Pipelines/HandsFreeDocking/examples/TMP_Docking/RxDock/rxdock.prm -p dock.prm -n 10\n",
      "2025-05-19 17:57:42,935 - HandsFreeDocking.RxDock_Pipeline - INFO - Running command: rbdock -i /home/hitesit/Python_Packages/Docking_Pipelines/HandsFreeDocking/examples/TMP_Docking/RxDock/ligands_split/6-methylflavone_Iso0.sdf -o /home/hitesit/Python_Packages/Docking_Pipelines/HandsFreeDocking/examples/TMP_Docking/RxDock/output/6-methylflavone_Iso0 -r /home/hitesit/Python_Packages/Docking_Pipelines/HandsFreeDocking/examples/TMP_Docking/RxDock/rxdock.prm -p dock.prm -n 10\n",
      "2025-05-19 17:57:44,858 - HandsFreeDocking.RxDock_Pipeline - INFO - Docking completed: examples/TMP_Docking/RxDock/output/6-methylflavone_Iso0.sd\n",
      "Docking progress:  12%|█▎        | 1/8 [00:01<00:13,  1.92s/it]2025-05-19 17:57:44,860 - HandsFreeDocking.RxDock_Pipeline - INFO - Running command: rbdock -i /home/hitesit/Python_Packages/Docking_Pipelines/HandsFreeDocking/examples/TMP_Docking/RxDock/ligands_split/Kaempferol_Iso0.sdf -o /home/hitesit/Python_Packages/Docking_Pipelines/HandsFreeDocking/examples/TMP_Docking/RxDock/output/Kaempferol_Iso0 -r /home/hitesit/Python_Packages/Docking_Pipelines/HandsFreeDocking/examples/TMP_Docking/RxDock/rxdock.prm -p dock.prm -n 10\n",
      "2025-05-19 17:57:45,541 - HandsFreeDocking.RxDock_Pipeline - INFO - Docking completed: examples/TMP_Docking/RxDock/output/Chrysin_Iso0.sd\n",
      "Docking progress:  25%|██▌       | 2/8 [00:02<00:07,  1.19s/it]2025-05-19 17:57:45,545 - HandsFreeDocking.RxDock_Pipeline - INFO - Running command: rbdock -i /home/hitesit/Python_Packages/Docking_Pipelines/HandsFreeDocking/examples/TMP_Docking/RxDock/ligands_split/Eriodictyol_Iso0.sdf -o /home/hitesit/Python_Packages/Docking_Pipelines/HandsFreeDocking/examples/TMP_Docking/RxDock/output/Eriodictyol_Iso0 -r /home/hitesit/Python_Packages/Docking_Pipelines/HandsFreeDocking/examples/TMP_Docking/RxDock/rxdock.prm -p dock.prm -n 10\n",
      "2025-05-19 17:57:46,243 - HandsFreeDocking.RxDock_Pipeline - INFO - Docking completed: examples/TMP_Docking/RxDock/output/Apigenin_Iso0.sd\n",
      "Docking progress:  38%|███▊      | 3/8 [00:03<00:04,  1.03it/s]2025-05-19 17:57:46,246 - HandsFreeDocking.RxDock_Pipeline - INFO - Running command: rbdock -i /home/hitesit/Python_Packages/Docking_Pipelines/HandsFreeDocking/examples/TMP_Docking/RxDock/ligands_split/Eriodictyol_Iso1.sdf -o /home/hitesit/Python_Packages/Docking_Pipelines/HandsFreeDocking/examples/TMP_Docking/RxDock/output/Eriodictyol_Iso1 -r /home/hitesit/Python_Packages/Docking_Pipelines/HandsFreeDocking/examples/TMP_Docking/RxDock/rxdock.prm -p dock.prm -n 10\n",
      "2025-05-19 17:57:47,328 - HandsFreeDocking.RxDock_Pipeline - INFO - Docking completed: examples/TMP_Docking/RxDock/output/Luteolin_Iso0.sd\n",
      "Docking progress:  50%|█████     | 4/8 [00:04<00:04,  1.01s/it]2025-05-19 17:57:47,331 - HandsFreeDocking.RxDock_Pipeline - INFO - Running command: rbdock -i /home/hitesit/Python_Packages/Docking_Pipelines/HandsFreeDocking/examples/TMP_Docking/RxDock/ligands_split/Fisetin_Iso0.sdf -o /home/hitesit/Python_Packages/Docking_Pipelines/HandsFreeDocking/examples/TMP_Docking/RxDock/output/Fisetin_Iso0 -r /home/hitesit/Python_Packages/Docking_Pipelines/HandsFreeDocking/examples/TMP_Docking/RxDock/rxdock.prm -p dock.prm -n 10\n",
      "2025-05-19 17:57:47,567 - HandsFreeDocking.RxDock_Pipeline - INFO - Docking completed: examples/TMP_Docking/RxDock/output/Kaempferol_Iso0.sd\n",
      "Docking progress:  62%|██████▎   | 5/8 [00:04<00:02,  1.36it/s]2025-05-19 17:57:49,048 - HandsFreeDocking.RxDock_Pipeline - INFO - Docking completed: examples/TMP_Docking/RxDock/output/Eriodictyol_Iso0.sd\n",
      "Docking progress:  75%|███████▌  | 6/8 [00:06<00:01,  1.01it/s]2025-05-19 17:57:50,058 - HandsFreeDocking.RxDock_Pipeline - INFO - Docking completed: examples/TMP_Docking/RxDock/output/Eriodictyol_Iso1.sd\n",
      "Docking progress:  88%|████████▊ | 7/8 [00:07<00:00,  1.00it/s]2025-05-19 17:57:50,830 - HandsFreeDocking.RxDock_Pipeline - INFO - Docking completed: examples/TMP_Docking/RxDock/output/Fisetin_Iso0.sd\n",
      "Docking progress: 100%|██████████| 8/8 [00:07<00:00,  1.01it/s]\n",
      "2025-05-19 17:57:50,847 - HandsFreeDocking.RxDock_Pipeline - INFO - Completed docking for 8 ligands\n",
      "2025-05-19 17:57:50,848 - HandsFreeDocking.RxDock_Pipeline - INFO - Step 6: Processing docking results...\n",
      "2025-05-19 17:57:50,906 - HandsFreeDocking.RxDock_Pipeline - INFO - Found 10 docked poses in examples/TMP_Docking/RxDock/output/6-methylflavone_Iso0.sd\n",
      "2025-05-19 17:57:50,954 - HandsFreeDocking.RxDock_Pipeline - INFO - Found scores for 10 poses\n",
      "2025-05-19 17:57:50,977 - HandsFreeDocking.RxDock_Pipeline - INFO - Updated SDF file with 10 properly named poses: examples/TMP_Docking/RxDock/output/6-methylflavone_Iso0.sd\n",
      "2025-05-19 17:57:50,978 - HandsFreeDocking.RxDock_Pipeline - INFO - Successfully updated RxDock output file: examples/TMP_Docking/RxDock/output/6-methylflavone_Iso0.sd\n",
      "2025-05-19 17:57:50,982 - HandsFreeDocking.RxDock_Pipeline - INFO - Found 10 docked poses in examples/TMP_Docking/RxDock/output/Chrysin_Iso0.sd\n",
      "2025-05-19 17:57:50,989 - HandsFreeDocking.RxDock_Pipeline - INFO - Found scores for 10 poses\n",
      "2025-05-19 17:57:50,993 - HandsFreeDocking.RxDock_Pipeline - INFO - Updated SDF file with 10 properly named poses: examples/TMP_Docking/RxDock/output/Chrysin_Iso0.sd\n",
      "2025-05-19 17:57:50,994 - HandsFreeDocking.RxDock_Pipeline - INFO - Successfully updated RxDock output file: examples/TMP_Docking/RxDock/output/Chrysin_Iso0.sd\n",
      "2025-05-19 17:57:50,997 - HandsFreeDocking.RxDock_Pipeline - INFO - Found 10 docked poses in examples/TMP_Docking/RxDock/output/Apigenin_Iso0.sd\n",
      "2025-05-19 17:57:51,005 - HandsFreeDocking.RxDock_Pipeline - INFO - Found scores for 10 poses\n",
      "2025-05-19 17:57:51,009 - HandsFreeDocking.RxDock_Pipeline - INFO - Updated SDF file with 10 properly named poses: examples/TMP_Docking/RxDock/output/Apigenin_Iso0.sd\n",
      "2025-05-19 17:57:51,009 - HandsFreeDocking.RxDock_Pipeline - INFO - Successfully updated RxDock output file: examples/TMP_Docking/RxDock/output/Apigenin_Iso0.sd\n",
      "2025-05-19 17:57:51,012 - HandsFreeDocking.RxDock_Pipeline - INFO - Found 10 docked poses in examples/TMP_Docking/RxDock/output/Luteolin_Iso0.sd\n",
      "2025-05-19 17:57:51,020 - HandsFreeDocking.RxDock_Pipeline - INFO - Found scores for 10 poses\n",
      "2025-05-19 17:57:51,024 - HandsFreeDocking.RxDock_Pipeline - INFO - Updated SDF file with 10 properly named poses: examples/TMP_Docking/RxDock/output/Luteolin_Iso0.sd\n",
      "2025-05-19 17:57:51,025 - HandsFreeDocking.RxDock_Pipeline - INFO - Successfully updated RxDock output file: examples/TMP_Docking/RxDock/output/Luteolin_Iso0.sd\n",
      "2025-05-19 17:57:51,027 - HandsFreeDocking.RxDock_Pipeline - INFO - Found 10 docked poses in examples/TMP_Docking/RxDock/output/Kaempferol_Iso0.sd\n",
      "2025-05-19 17:57:51,035 - HandsFreeDocking.RxDock_Pipeline - INFO - Found scores for 10 poses\n",
      "2025-05-19 17:57:51,040 - HandsFreeDocking.RxDock_Pipeline - INFO - Updated SDF file with 10 properly named poses: examples/TMP_Docking/RxDock/output/Kaempferol_Iso0.sd\n",
      "2025-05-19 17:57:51,041 - HandsFreeDocking.RxDock_Pipeline - INFO - Successfully updated RxDock output file: examples/TMP_Docking/RxDock/output/Kaempferol_Iso0.sd\n",
      "2025-05-19 17:57:51,044 - HandsFreeDocking.RxDock_Pipeline - INFO - Found 10 docked poses in examples/TMP_Docking/RxDock/output/Eriodictyol_Iso0.sd\n",
      "2025-05-19 17:57:51,165 - HandsFreeDocking.RxDock_Pipeline - INFO - Found scores for 10 poses\n",
      "2025-05-19 17:57:51,170 - HandsFreeDocking.RxDock_Pipeline - INFO - Updated SDF file with 10 properly named poses: examples/TMP_Docking/RxDock/output/Eriodictyol_Iso0.sd\n",
      "2025-05-19 17:57:51,170 - HandsFreeDocking.RxDock_Pipeline - INFO - Successfully updated RxDock output file: examples/TMP_Docking/RxDock/output/Eriodictyol_Iso0.sd\n",
      "2025-05-19 17:57:51,173 - HandsFreeDocking.RxDock_Pipeline - INFO - Found 10 docked poses in examples/TMP_Docking/RxDock/output/Eriodictyol_Iso1.sd\n",
      "2025-05-19 17:57:51,181 - HandsFreeDocking.RxDock_Pipeline - INFO - Found scores for 10 poses\n",
      "2025-05-19 17:57:51,185 - HandsFreeDocking.RxDock_Pipeline - INFO - Updated SDF file with 10 properly named poses: examples/TMP_Docking/RxDock/output/Eriodictyol_Iso1.sd\n",
      "2025-05-19 17:57:51,186 - HandsFreeDocking.RxDock_Pipeline - INFO - Successfully updated RxDock output file: examples/TMP_Docking/RxDock/output/Eriodictyol_Iso1.sd\n",
      "2025-05-19 17:57:51,188 - HandsFreeDocking.RxDock_Pipeline - INFO - Found 10 docked poses in examples/TMP_Docking/RxDock/output/Fisetin_Iso0.sd\n",
      "2025-05-19 17:57:51,196 - HandsFreeDocking.RxDock_Pipeline - INFO - Found scores for 10 poses\n",
      "2025-05-19 17:57:51,201 - HandsFreeDocking.RxDock_Pipeline - INFO - Updated SDF file with 10 properly named poses: examples/TMP_Docking/RxDock/output/Fisetin_Iso0.sd\n",
      "2025-05-19 17:57:51,201 - HandsFreeDocking.RxDock_Pipeline - INFO - Successfully updated RxDock output file: examples/TMP_Docking/RxDock/output/Fisetin_Iso0.sd\n",
      "2025-05-19 17:57:51,204 - HandsFreeDocking.RxDock_Pipeline - INFO - Updated 8 RxDock output files with proper molecule naming\n",
      "2025-05-19 17:57:51,205 - HandsFreeDocking.Wrapper_Docking - INFO - Processing 8 RxDock SDF files\n",
      "2025-05-19 17:57:51,261 - HandsFreeDocking.Wrapper_Docking - INFO - RxDock docking completed with 80 results\n"
     ]
    }
   ],
   "execution_count": 3
  },
  {
   "cell_type": "code",
   "execution_count": null,
   "id": "5fbe1b02",
   "metadata": {},
   "outputs": [],
   "source": []
  },
  {
   "cell_type": "code",
   "execution_count": null,
   "id": "0827a032",
   "metadata": {},
   "outputs": [],
   "source": []
  },
  {
   "cell_type": "code",
   "execution_count": null,
   "id": "697ce5be",
   "metadata": {},
   "outputs": [],
   "source": [
    "FULL_DF = FULL_DF[~FULL_DF['ID'].str.contains('L17')]\n",
    "lig_name_series = FULL_DF[\"ID\"].str.split(\"_\").str[0]\n",
    "\n",
    "FULL_DF.insert(1, \"Lig_Name\", lig_name_series)"
   ]
  },
  {
   "cell_type": "code",
   "execution_count": null,
   "id": "add66f8d",
   "metadata": {},
   "outputs": [],
   "source": [
    "ALL_MOLS = FULL_DF[\"Molecule\"].tolist()"
   ]
  },
  {
   "cell_type": "code",
   "execution_count": null,
   "metadata": {},
   "outputs": [],
   "source": [
    "# Compute the distance matrix using your existing PairwiseMatrixComputer\n",
    "computer = PairwiseMatrixComputer(ALL_MOLS, n_jobs=8, timeout=60)\n",
    "rmsd_func = partial(calc_rmsd_mcs_with_timeout, timeout=60)\n",
    "distance_matrix = computer.compute_matrix(rmsd_func)"
   ],
   "id": "40cac38ee885fefa"
  },
  {
   "cell_type": "code",
   "execution_count": null,
   "id": "84547d02",
   "metadata": {},
   "outputs": [],
   "source": [
    "# Initialize the hierarchical clustering\n",
    "clustering = OptimizedHierarchicalClustering(\n",
    "    linkage_methods=('ward', 'complete', 'average'),\n",
    "    use_dimensionality_reduction=True,\n",
    "    verbose=True\n",
    ")\n",
    "\n",
    "# Perform hierarchical clustering with automatic parameter optimization\n",
    "labels = clustering.fit(distance_matrix)"
   ]
  },
  {
   "cell_type": "code",
   "execution_count": null,
   "id": "27237b64",
   "metadata": {},
   "outputs": [],
   "source": [
    "# Extract clusters at different distance thresholds\n",
    "tight_clusters = clustering.get_clusters_by_distance(0.4)  # More stringent similarity\n",
    "loose_clusters = clustering.get_clusters_by_distance(1.5)  # More relaxed similarity\n",
    "\n",
    "# Compare different clustering solutions\n",
    "print(f\"Optimal clustering has {len(np.unique(labels))} clusters\")\n",
    "print(f\"Tight clustering has {len(np.unique(tight_clusters))} clusters\")\n",
    "print(f\"Loose clustering has {len(np.unique(loose_clusters))} clusters\")\n",
    "\n",
    "# custom_labels = clustering.get_clusters_constrained(\n",
    "#     distance_threshold=0.4,\n",
    "#     min_clusters=3,\n",
    "#     max_clusters=10\n",
    "# )\n",
    "# print(f\"Custom clustering has {len(np.unique(custom_labels))} clusters\")"
   ]
  },
  {
   "cell_type": "code",
   "execution_count": null,
   "id": "94de99a1",
   "metadata": {},
   "outputs": [],
   "source": [
    "FULL_DF[\"Type_3\"] = tight_clusters"
   ]
  },
  {
   "cell_type": "code",
   "execution_count": null,
   "id": "d35c7809",
   "metadata": {},
   "outputs": [],
   "source": [
    "from pymol import cmd\n",
    "cmd.reinitialize()\n",
    "cmd.load(protein_pdb)\n",
    "\n",
    "def tmp_save(mol: Chem.rdchem.Mol):\n",
    "    with NamedTemporaryFile(suffix=\".sdf\", delete=False) as f:\n",
    "        dm.to_sdf(mol, f.name)\n",
    "        return f.name\n",
    "\n",
    "for cluster, df in FULL_DF.groupby(\"Type_3\"):\n",
    "    IDs = []\n",
    "    for ndx, sub_df in df.groupby(\"Lig_Name\"):\n",
    "        sub_df.sort_values(by=\"Score\", ascending=False, inplace=True)\n",
    "        TOP = sub_df.iloc[0]\n",
    "        \n",
    "        ID = TOP[\"ID\"]\n",
    "        IDs.append(ID)\n",
    "        TMP_MOL = tmp_save(TOP[\"Molecule\"])\n",
    "    \n",
    "        cmd.load(TMP_MOL, ID)\n",
    "    \n",
    "    cmd.group(f\"Cluster_{cluster}\", \" \".join(IDs))\n",
    "\n",
    "cmd.save(\"TMP.pse\")"
   ]
  },
  {
   "cell_type": "code",
   "execution_count": null,
   "id": "ee190115",
   "metadata": {},
   "outputs": [],
   "source": []
  },
  {
   "cell_type": "markdown",
   "id": "19dd2689",
   "metadata": {},
   "source": [
    "## Paiwise Calculation"
   ]
  },
  {
   "cell_type": "markdown",
   "id": "23e5a000",
   "metadata": {},
   "source": [
    "```python\n",
    "clustering_kmed = OptimizedKMedoidsClustering(\n",
    "    k_range=(2, 20),\n",
    "    use_dimensionality_reduction=True,\n",
    "    verbose=True\n",
    ")\n",
    "labels_kmed = clustering_kmed.fit(rmsd_matrix)\n",
    "results_kmed = clustering_kmed.get_results()\n",
    "```"
   ]
  },
  {
   "cell_type": "markdown",
   "id": "6cf83a21",
   "metadata": {},
   "source": [
    "```python\n",
    "clustering_dbscan = OptimizedDBSCANClustering(\n",
    "    eps_range=(0.5, 5.0, 0.5),\n",
    "    min_samples_range=(2, 15),\n",
    "    max_noise_percent=15.0,\n",
    "    max_clusters = 10,\n",
    "    use_dimensionality_reduction=True,\n",
    "    verbose=True\n",
    ")\n",
    "labels_dbscan = clustering_dbscan.fit(rmsd_matrix)\n",
    "results_dbscan = clustering_dbscan.get_results()\n",
    "```"
   ]
  },
  {
   "cell_type": "code",
   "execution_count": null,
   "id": "de4b992d",
   "metadata": {},
   "outputs": [],
   "source": [
    "computer = PairwiseMatrixComputer(ALL_MOLS, n_jobs=8, timeout=60)\n",
    "rmsd_funct = partial(calc_rmsd_mcs_with_timeout, timeout=60)\n",
    "rmsd_matrix = computer.compute_matrix(rmsd_funct)"
   ]
  },
  {
   "cell_type": "code",
   "execution_count": null,
   "id": "b4c5de7f",
   "metadata": {},
   "outputs": [],
   "source": [
    "clustering_dbscan = OptimizedDBSCANClustering(\n",
    "    eps_range=(0.5, 5.0, 0.5),\n",
    "    min_samples_range=(2, 15),\n",
    "    max_noise_percent=15.0,\n",
    "    max_clusters = 10,\n",
    "    use_dimensionality_reduction=True,\n",
    "    verbose=True\n",
    ")\n",
    "labels_dbscan = clustering_dbscan.fit(rmsd_matrix)\n",
    "results_dbscan = clustering_dbscan.get_results()"
   ]
  },
  {
   "cell_type": "code",
   "execution_count": null,
   "id": "48304416",
   "metadata": {},
   "outputs": [],
   "source": [
    "FULL_DF[\"Cluster_DBSCAN\"] = labels_dbscan"
   ]
  },
  {
   "cell_type": "code",
   "execution_count": null,
   "id": "ae6af27b",
   "metadata": {},
   "outputs": [],
   "source": [
    "from pymol import cmd\n",
    "cmd.reinitialize()\n",
    "cmd.load(protein_pdb)\n",
    "\n",
    "def tmp_save(mol: Chem.rdchem.Mol):\n",
    "    with NamedTemporaryFile(suffix=\".sdf\", delete=False) as f:\n",
    "        dm.to_sdf(mol, f.name)\n",
    "        return f.name\n",
    "\n",
    "for cluster, df in FULL_DF.groupby(\"Cluster_DBSCAN\"):\n",
    "    IDs = []\n",
    "    for ndx, sub_df in df.groupby(\"Lig_Name\"):\n",
    "        sub_df.sort_values(by=\"Score\", ascending=False, inplace=True)\n",
    "        TOP = sub_df.iloc[0]\n",
    "        \n",
    "        ID = TOP[\"ID\"]\n",
    "        IDs.append(ID)\n",
    "        TMP_MOL = tmp_save(TOP[\"Molecule\"])\n",
    "    \n",
    "        cmd.load(TMP_MOL, ID)\n",
    "    \n",
    "    cmd.group(f\"Cluster_{cluster}\", \" \".join(IDs))\n",
    "\n",
    "cmd.save(\"TMP.pse\")"
   ]
  },
  {
   "cell_type": "markdown",
   "id": "d99bbd5a",
   "metadata": {},
   "source": [
    "## Protein Minimization"
   ]
  },
  {
   "cell_type": "code",
   "execution_count": null,
   "id": "f2dd6ec9",
   "metadata": {},
   "outputs": [],
   "source": [
    "from HandsFreeDocking.tools.Protein_Minimization import ProteinMinimizer"
   ]
  },
  {
   "cell_type": "markdown",
   "id": "f97b64b7",
   "metadata": {},
   "source": [
    "```python\n",
    "protein_minimizer = ProteinMinimizer(FULL_DF, \"Molecule\", \"PDB_Path\")\n",
    "protein_minimizer(protein_pdb, protein_pdb)\n",
    "```"
   ]
  },
  {
   "cell_type": "code",
   "execution_count": null,
   "id": "c597f042",
   "metadata": {},
   "outputs": [],
   "source": []
  }
 ],
 "metadata": {
  "kernelspec": {
   "display_name": "cheminf_3_11",
   "language": "python",
   "name": "python3"
  },
  "language_info": {
   "codemirror_mode": {
    "name": "ipython",
    "version": 3
   },
   "file_extension": ".py",
   "mimetype": "text/x-python",
   "name": "python",
   "nbconvert_exporter": "python",
   "pygments_lexer": "ipython3",
   "version": "3.11.8"
  }
 },
 "nbformat": 4,
 "nbformat_minor": 5
}
