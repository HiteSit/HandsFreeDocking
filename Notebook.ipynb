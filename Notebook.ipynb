{
 "cells": [
  {
   "cell_type": "code",
   "execution_count": 6,
   "id": "983d6300",
   "metadata": {
    "ExecuteTime": {
     "end_time": "2025-05-19T15:57:37.403899Z",
     "start_time": "2025-05-19T15:57:22.164161Z"
    }
   },
   "outputs": [],
   "source": [
    "import os\n",
    "import shutil\n",
    "import logging\n",
    "import tabulate\n",
    "import cloudpickle as pickle\n",
    "import pandas as pd\n",
    "import numpy as np\n",
    "from functools import partial\n",
    "import time\n",
    "from pathlib import Path\n",
    "import datamol as dm\n",
    "from IPython.display import clear_output\n",
    "from tempfile import NamedTemporaryFile, TemporaryDirectory\n",
    "from itertools import combinations\n",
    "from joblib import Parallel, delayed\n",
    "from rdkit import Chem\n",
    "from rdkit.Chem import rdFMCS\n",
    "import concurrent.futures\n",
    "from spyrmsd import rmsd, molecule\n",
    "from espsim import GetEspSim\n",
    "from sklearn.preprocessing import MinMaxScaler\n",
    "from sklearn.cluster import DBSCAN\n",
    "\n",
    "import oddt\n",
    "import oddt.fingerprints\n",
    "import oddt.shape\n",
    "import oddt.toolkits.rdk\n",
    "\n",
    "from HandsFreeDocking.Wrapper_Docking import PipelineDocking\n",
    "from HandsFreeDocking.analysis.clustering import (\n",
    "    OptimizedDBSCANClustering, PairwiseMatrixComputer, OptimizedKMedoidsClustering,\n",
    "    calc_rmsd_mcs_with_timeout, calc_usr_similarity, calc_splif\n",
    ")\n",
    "\n",
    "from HandsFreeDocking.tools.Protein_Minimization import ProteinMinimizer\n",
    "from HandsFreeDocking.analysis.clustering import OptimizedHierarchicalClustering"
   ]
  },
  {
   "cell_type": "code",
   "execution_count": 7,
   "id": "33df468f",
   "metadata": {
    "ExecuteTime": {
     "end_time": "2025-05-19T15:57:37.417382Z",
     "start_time": "2025-05-19T15:57:37.413272Z"
    }
   },
   "outputs": [],
   "source": [
    "protein_pdb = Path(\"./examples/LAG3_Moloc_2.pdb\")\n",
    "ligands_sdf = Path(\"./examples/Ligands_To_Dock.sdf\")\n",
    "cystal_sdf = Path(\"./examples/Fake_Crystal.sdf\")\n",
    "\n",
    "docking_pkl = Path(\"./examples/TMP_Docking/docking_results.pkl\")\n",
    "docking_dir = Path(\"./examples/TMP_Docking\")\n",
    "docking_dir_RXDOCK = Path(\"./examples/TMP_Docking_RXDOCK\")\n",
    "docking_pkl_RXDOCK = docking_dir_RXDOCK / \"docking_results.pkl\"\n",
    "\n",
    "docking_dir_PLANTS = Path(\"./examples/TMP_Docking_PLANTS\")\n",
    "docking_pkl_PLANTS = docking_dir_PLANTS / \"docking_results.pkl\"\n",
    "\n",
    "# Check if all files exist\n",
    "files_to_check = [protein_pdb, ligands_sdf, cystal_sdf]\n",
    "all_files_exist = all(file.exists() for file in files_to_check)\n",
    "\n",
    "RERUN = True"
   ]
  },
  {
   "cell_type": "markdown",
   "id": "a2c5eb95",
   "metadata": {},
   "source": [
    "from HandsFreeDocking.RxDock_Pipeline import RxDock_Docking\n",
    "from HandsFreeDocking.Plants_Pipeline import Plants_Docking"
   ]
  },
  {
   "cell_type": "markdown",
   "id": "aff699cb",
   "metadata": {},
   "source": [
    "rxdock_pipeline = RxDock_Docking(docking_dir_RXDOCK, protein_pdb, cystal_sdf, ligands_sdf, toolkit=\"openeye\")\n",
    "rxdock_pipeline.main(n_poses=10, n_cpus=2)"
   ]
  },
  {
   "cell_type": "markdown",
   "id": "ae280f17",
   "metadata": {},
   "source": [
    "plants_pipeline = Plants_Docking(docking_dir_PLANTS, protein_pdb, cystal_sdf, ligands_sdf, toolkit=\"openeye\")\n",
    "plants_pipeline.main(n_confs=10, n_cpus=2)"
   ]
  },
  {
   "cell_type": "code",
   "execution_count": null,
   "id": "2ace6566",
   "metadata": {
    "ExecuteTime": {
     "end_time": "2025-05-19T13:33:49.700947Z",
     "start_time": "2025-05-19T13:33:49.697824Z"
    }
   },
   "outputs": [],
   "source": []
  },
  {
   "cell_type": "code",
   "execution_count": null,
   "id": "44ea000b",
   "metadata": {
    "ExecuteTime": {
     "end_time": "2025-05-19T13:33:51.736206Z",
     "start_time": "2025-05-19T13:33:51.732412Z"
    }
   },
   "outputs": [],
   "source": []
  },
  {
   "cell_type": "markdown",
   "id": "585e5847",
   "metadata": {},
   "source": [
    "---"
   ]
  },
  {
   "cell_type": "code",
   "execution_count": 8,
   "id": "c4c4f2a1",
   "metadata": {
    "ExecuteTime": {
     "end_time": "2025-05-19T15:57:51.274124Z",
     "start_time": "2025-05-19T15:57:37.472927Z"
    }
   },
   "outputs": [
    {
     "name": "stderr",
     "output_type": "stream",
     "text": [
      "2025-05-30 12:19:37,445 - HandsFreeDocking.Wrapper_Docking - INFO - Using SDF input directly: examples/Ligands_To_Dock.sdf\n",
      "2025-05-30 12:19:37,447 - HandsFreeDocking.Wrapper_Docking - INFO - Starting RxDock docking\n",
      "2025-05-30 12:19:37,448 - HandsFreeDocking.RxDock_Pipeline - INFO - Starting RxDock docking pipeline...\n",
      "2025-05-30 12:19:37,449 - HandsFreeDocking.RxDock_Pipeline - INFO - Step 1: Sourcing macro (cleaning protein)...\n",
      "2025-05-30 12:19:37,518 - HandsFreeDocking.RxDock_Pipeline - INFO - Step 2: Preparing protein...\n"
     ]
    },
    {
     "name": "stdout",
     "output_type": "stream",
     "text": [
      "Preparing protein with Chimera ...\n"
     ]
    },
    {
     "name": "stderr",
     "output_type": "stream",
     "text": [
      "2025-05-30 12:19:39,017 - HandsFreeDocking.RxDock_Pipeline - INFO - Step 3: Defining binding site...\n",
      "2025-05-30 12:19:39,017 - HandsFreeDocking.RxDock_Pipeline - INFO - Creating RxDock parameter file and defining binding site...\n",
      "2025-05-30 12:19:39,018 - HandsFreeDocking.RxDock_Pipeline - INFO - Running command: rbcavity -W -d -r examples/TMP_Docking/RxDock/rxdock.prm\n",
      "2025-05-30 12:19:39,560 - HandsFreeDocking.Wrapper_Docking - ERROR - Error running rxdock docking: 'ascii' codec can't decode byte 0xc4 in position 160: ordinal not in range(128)\n",
      "2025-05-30 12:19:39,561 - HandsFreeDocking.Wrapper_Docking - INFO - Starting Plants docking\n"
     ]
    },
    {
     "name": "stdout",
     "output_type": "stream",
     "text": [
      "Preparing protein with Chimera ...\n"
     ]
    },
    {
     "name": "stderr",
     "output_type": "stream",
     "text": [
      "2025-05-30 12:19:40,987 - HandsFreeDocking.Plants_Pipeline - INFO - Enumerating stereoisomers with RDKit for examples/Ligands_To_Dock.sdf\n",
      "2025-05-30 12:19:40,993 - HandsFreeDocking.Plants_Pipeline - INFO - Preparing ligands with CDPKit\n",
      "2025-05-30 12:19:41,152 - HandsFreeDocking.Plants_Pipeline - INFO - Converting prepared ligands to mol2 format\n",
      "2025-05-30 12:19:41,162 - HandsFreeDocking.Plants_Pipeline - INFO - Running: plants.64bit --mode screen Apigenin_Iso0_conf.txt\n",
      "2025-05-30 12:19:41,163 - HandsFreeDocking.Plants_Pipeline - INFO - Running: plants.64bit --mode screen 6-methylflavone_Iso0_conf.txt\n",
      "2025-05-30 12:19:41,164 - HandsFreeDocking.Plants_Pipeline - INFO - Running: plants.64bit --mode screen Chrysin_Iso0_conf.txt\n",
      "2025-05-30 12:19:41,165 - HandsFreeDocking.Plants_Pipeline - INFO - Running: plants.64bit --mode screen Luteolin_Iso0_conf.txt\n",
      "[12:19:41] Can't kekulize mol.  Unkekulized atoms: 1 2 3 4 5 6 13 16 17\n",
      "[12:19:41] sanitize [12:19:41] 6-methylflavone_Iso0_entry_00001_conf_10: [12:19:41] Can't kekulize mol.  Unkekulized atoms: 1 2 3 4 5 6 13 16 17\n",
      "[12:19:41] sanitize [12:19:41] 6-methylflavone_Iso0_entry_00001_conf_09: [12:19:41] Can't kekulize mol.  Unkekulized atoms: 1 2 3 4 5 6 13 16 17\n",
      "[12:19:41] sanitize [12:19:41] 6-methylflavone_Iso0_entry_00001_conf_08: [12:19:41] Can't kekulize mol.  Unkekulized atoms: 1 2 3 4 5 6 13 16 17\n",
      "[12:19:41] sanitize [12:19:41] 6-methylflavone_Iso0_entry_00001_conf_07: [12:19:41] Can't kekulize mol.  Unkekulized atoms: 1 2 3 4 5 6 13 16 17\n",
      "[12:19:41] sanitize [12:19:41] 6-methylflavone_Iso0_entry_00001_conf_06: [12:19:41] Can't kekulize mol.  Unkekulized atoms: 1 2 3 4 5 6 13 16 17\n",
      "[12:19:41] sanitize [12:19:41] 6-methylflavone_Iso0_entry_00001_conf_05: [12:19:41] Can't kekulize mol.  Unkekulized atoms: 1 2 3 4 5 6 13 16 17\n",
      "[12:19:41] sanitize [12:19:41] 6-methylflavone_Iso0_entry_00001_conf_04: [12:19:41] Can't kekulize mol.  Unkekulized atoms: 1 2 3 4 5 6 13 16 17\n",
      "[12:19:41] sanitize [12:19:41] 6-methylflavone_Iso0_entry_00001_conf_03: [12:19:41] Can't kekulize mol.  Unkekulized atoms: 1 2 3 4 5 6 13 16 17\n",
      "[12:19:41] sanitize [12:19:41] 6-methylflavone_Iso0_entry_00001_conf_02: [12:19:41] Can't kekulize mol.  Unkekulized atoms: 1 2 3 4 5 6 13 16 17\n",
      "[12:19:41] sanitize [12:19:41] 6-methylflavone_Iso0_entry_00001_conf_01: 2025-05-30 12:19:41,780 - HandsFreeDocking.Plants_Pipeline - ERROR - Error processing ligand 6-methylflavone_Iso0: 'NoneType' object has no attribute 'GetProp'\n",
      "2025-05-30 12:19:41,782 - HandsFreeDocking.Plants_Pipeline - INFO - Running: plants.64bit --mode screen Kaempferol_Iso0_conf.txt\n",
      "[12:19:42] Can't kekulize mol.  Unkekulized atoms: 2 3 10 11 12 13 15 16 18\n",
      "[12:19:42] sanitize [12:19:42] Chrysin_Iso0_entry_00001_conf_10: [12:19:42] Can't kekulize mol.  Unkekulized atoms: 2 3 10 11 12 13 15 16 18\n",
      "[12:19:42] sanitize [12:19:42] Chrysin_Iso0_entry_00001_conf_09: [12:19:42] Can't kekulize mol.  Unkekulized atoms: 2 3 10 11 12 13 15 16 18\n",
      "[12:19:42] sanitize [12:19:42] Chrysin_Iso0_entry_00001_conf_08: [12:19:42] Can't kekulize mol.  Unkekulized atoms: 2 3 10 11 12 13 15 16 18\n",
      "[12:19:42] sanitize [12:19:42] Chrysin_Iso0_entry_00001_conf_07: [12:19:42] Can't kekulize mol.  Unkekulized atoms: 2 3 10 11 12 13 15 16 18\n",
      "[12:19:42] sanitize [12:19:42] Chrysin_Iso0_entry_00001_conf_06: [12:19:42] Can't kekulize mol.  Unkekulized atoms: 2 3 10 11 12 13 15 16 18\n",
      "[12:19:42] sanitize [12:19:42] Chrysin_Iso0_entry_00001_conf_05: [12:19:42] Can't kekulize mol.  Unkekulized atoms: 2 3 10 11 12 13 15 16 18\n",
      "[12:19:42] sanitize [12:19:42] Chrysin_Iso0_entry_00001_conf_04: [12:19:42] Can't kekulize mol.  Unkekulized atoms: 2 3 10 11 12 13 15 16 18\n",
      "[12:19:42] sanitize [12:19:42] Chrysin_Iso0_entry_00001_conf_03: [12:19:42] Can't kekulize mol.  Unkekulized atoms: 2 3 10 11 12 13 15 16 18\n",
      "[12:19:42] sanitize [12:19:42] Chrysin_Iso0_entry_00001_conf_02: [12:19:42] Can't kekulize mol.  Unkekulized atoms: 2 3 10 11 12 13 15 16 18\n",
      "[12:19:42] sanitize [12:19:42] Chrysin_Iso0_entry_00001_conf_01: 2025-05-30 12:19:42,095 - HandsFreeDocking.Plants_Pipeline - ERROR - Error processing ligand Chrysin_Iso0: 'NoneType' object has no attribute 'GetProp'\n",
      "2025-05-30 12:19:42,097 - HandsFreeDocking.Plants_Pipeline - INFO - Running: plants.64bit --mode screen Eriodictyol_Iso0_conf.txt\n",
      "[12:19:42] Can't kekulize mol.  Unkekulized atoms: 2 3 11 12 13 14 16 17 19\n",
      "[12:19:42] sanitize [12:19:42] Apigenin_Iso0_entry_00001_conf_10: [12:19:42] Can't kekulize mol.  Unkekulized atoms: 2 3 11 12 13 14 16 17 19\n",
      "[12:19:42] sanitize [12:19:42] Apigenin_Iso0_entry_00001_conf_09: [12:19:42] Can't kekulize mol.  Unkekulized atoms: 2 3 11 12 13 14 16 17 19\n",
      "[12:19:42] sanitize [12:19:42] Apigenin_Iso0_entry_00001_conf_08: [12:19:42] Can't kekulize mol.  Unkekulized atoms: 2 3 11 12 13 14 16 17 19\n",
      "[12:19:42] sanitize [12:19:42] Apigenin_Iso0_entry_00001_conf_07: [12:19:42] Can't kekulize mol.  Unkekulized atoms: 2 3 11 12 13 14 16 17 19\n",
      "[12:19:42] sanitize [12:19:42] Apigenin_Iso0_entry_00001_conf_06: [12:19:42] Can't kekulize mol.  Unkekulized atoms: 2 3 11 12 13 14 16 17 19\n",
      "[12:19:42] sanitize [12:19:42] Apigenin_Iso0_entry_00001_conf_05: [12:19:42] Can't kekulize mol.  Unkekulized atoms: 2 3 11 12 13 14 16 17 19\n",
      "[12:19:42] sanitize [12:19:42] Apigenin_Iso0_entry_00001_conf_04: [12:19:42] Can't kekulize mol.  Unkekulized atoms: 2 3 11 12 13 14 16 17 19\n",
      "[12:19:42] sanitize [12:19:42] Apigenin_Iso0_entry_00001_conf_03: [12:19:42] Can't kekulize mol.  Unkekulized atoms: 2 3 11 12 13 14 16 17 19\n",
      "[12:19:42] sanitize [12:19:42] Apigenin_Iso0_entry_00001_conf_02: [12:19:42] Can't kekulize mol.  Unkekulized atoms: 2 3 11 12 13 14 16 17 19\n",
      "[12:19:42] sanitize [12:19:42] Apigenin_Iso0_entry_00001_conf_01: 2025-05-30 12:19:42,375 - HandsFreeDocking.Plants_Pipeline - ERROR - Error processing ligand Apigenin_Iso0: 'NoneType' object has no attribute 'GetProp'\n",
      "2025-05-30 12:19:42,376 - HandsFreeDocking.Plants_Pipeline - INFO - Running: plants.64bit --mode screen Fisetin_Iso0_conf.txt\n",
      "[12:19:42] Can't kekulize mol.  Unkekulized atoms: 2 3 12 13 14 15 17 18 20\n",
      "[12:19:42] sanitize [12:19:42] Luteolin_Iso0_entry_00001_conf_10: [12:19:42] Can't kekulize mol.  Unkekulized atoms: 2 3 12 13 14 15 17 18 20\n",
      "[12:19:42] sanitize [12:19:42] Luteolin_Iso0_entry_00001_conf_09: [12:19:42] Can't kekulize mol.  Unkekulized atoms: 2 3 12 13 14 15 17 18 20\n",
      "[12:19:42] sanitize [12:19:42] Luteolin_Iso0_entry_00001_conf_08: [12:19:42] Can't kekulize mol.  Unkekulized atoms: 2 3 12 13 14 15 17 18 20\n",
      "[12:19:42] sanitize [12:19:42] Luteolin_Iso0_entry_00001_conf_07: [12:19:42] Can't kekulize mol.  Unkekulized atoms: 2 3 12 13 14 15 17 18 20\n",
      "[12:19:42] sanitize [12:19:42] Luteolin_Iso0_entry_00001_conf_06: [12:19:42] Can't kekulize mol.  Unkekulized atoms: 2 3 12 13 14 15 17 18 20\n",
      "[12:19:42] sanitize [12:19:42] Luteolin_Iso0_entry_00001_conf_05: [12:19:42] Can't kekulize mol.  Unkekulized atoms: 2 3 12 13 14 15 17 18 20\n",
      "[12:19:42] sanitize [12:19:42] Luteolin_Iso0_entry_00001_conf_04: [12:19:42] Can't kekulize mol.  Unkekulized atoms: 2 3 12 13 14 15 17 18 20\n",
      "[12:19:42] sanitize [12:19:42] Luteolin_Iso0_entry_00001_conf_03: [12:19:42] Can't kekulize mol.  Unkekulized atoms: 2 3 12 13 14 15 17 18 20\n",
      "[12:19:42] sanitize [12:19:42] Luteolin_Iso0_entry_00001_conf_02: [12:19:42] Can't kekulize mol.  Unkekulized atoms: 2 3 12 13 14 15 17 18 20\n",
      "[12:19:42] sanitize [12:19:42] Luteolin_Iso0_entry_00001_conf_01: 2025-05-30 12:19:42,743 - HandsFreeDocking.Plants_Pipeline - ERROR - Error processing ligand Luteolin_Iso0: 'NoneType' object has no attribute 'GetProp'\n",
      "[12:19:43] Can't kekulize mol.  Unkekulized atoms: 2 4 12 13 14 15 17 18 20\n",
      "[12:19:43] sanitize [12:19:43] Kaempferol_Iso0_entry_00001_conf_10: [12:19:43] Can't kekulize mol.  Unkekulized atoms: 2 4 12 13 14 15 17 18 20\n",
      "[12:19:43] sanitize [12:19:43] Kaempferol_Iso0_entry_00001_conf_09: [12:19:43] Can't kekulize mol.  Unkekulized atoms: 2 4 12 13 14 15 17 18 20\n",
      "[12:19:43] sanitize [12:19:43] Kaempferol_Iso0_entry_00001_conf_08: [12:19:43] Can't kekulize mol.  Unkekulized atoms: 2 4 12 13 14 15 17 18 20\n",
      "[12:19:43] sanitize [12:19:43] Kaempferol_Iso0_entry_00001_conf_07: [12:19:43] Can't kekulize mol.  Unkekulized atoms: 2 4 12 13 14 15 17 18 20\n",
      "[12:19:43] sanitize [12:19:43] Kaempferol_Iso0_entry_00001_conf_06: [12:19:43] Can't kekulize mol.  Unkekulized atoms: 2 4 12 13 14 15 17 18 20\n",
      "[12:19:43] sanitize [12:19:43] Kaempferol_Iso0_entry_00001_conf_05: [12:19:43] Can't kekulize mol.  Unkekulized atoms: 2 4 12 13 14 15 17 18 20\n",
      "[12:19:43] sanitize [12:19:43] Kaempferol_Iso0_entry_00001_conf_04: [12:19:43] Can't kekulize mol.  Unkekulized atoms: 2 4 12 13 14 15 17 18 20\n",
      "[12:19:43] sanitize [12:19:43] Kaempferol_Iso0_entry_00001_conf_03: [12:19:43] Can't kekulize mol.  Unkekulized atoms: 2 4 12 13 14 15 17 18 20\n",
      "[12:19:43] sanitize [12:19:43] Kaempferol_Iso0_entry_00001_conf_02: [12:19:43] Can't kekulize mol.  Unkekulized atoms: 2 4 12 13 14 15 17 18 20\n",
      "[12:19:43] sanitize [12:19:43] Kaempferol_Iso0_entry_00001_conf_01: 2025-05-30 12:19:43,423 - HandsFreeDocking.Plants_Pipeline - ERROR - Error processing ligand Kaempferol_Iso0: 'NoneType' object has no attribute 'GetProp'\n",
      "2025-05-30 12:19:43,633 - HandsFreeDocking.Plants_Pipeline - INFO - Saving results for Eriodictyol_Iso0 to examples/TMP_Docking/Plants/output/Eriodictyol_Iso0_Plants.sdf\n",
      "[12:19:44] Can't kekulize mol.  Unkekulized atoms: 2 4 13 14 15 16 18 19 20\n",
      "[12:19:44] sanitize [12:19:44] Fisetin_Iso0_entry_00001_conf_10: [12:19:44] Can't kekulize mol.  Unkekulized atoms: 2 4 13 14 15 16 18 19 20\n",
      "[12:19:44] sanitize [12:19:44] Fisetin_Iso0_entry_00001_conf_09: [12:19:44] Can't kekulize mol.  Unkekulized atoms: 2 4 13 14 15 16 18 19 20\n",
      "[12:19:44] sanitize [12:19:44] Fisetin_Iso0_entry_00001_conf_08: [12:19:44] Can't kekulize mol.  Unkekulized atoms: 2 4 13 14 15 16 18 19 20\n",
      "[12:19:44] sanitize [12:19:44] Fisetin_Iso0_entry_00001_conf_07: [12:19:44] Can't kekulize mol.  Unkekulized atoms: 2 4 13 14 15 16 18 19 20\n",
      "[12:19:44] sanitize [12:19:44] Fisetin_Iso0_entry_00001_conf_06: [12:19:44] Can't kekulize mol.  Unkekulized atoms: 2 4 13 14 15 16 18 19 20\n",
      "[12:19:44] sanitize [12:19:44] Fisetin_Iso0_entry_00001_conf_05: [12:19:44] Can't kekulize mol.  Unkekulized atoms: 2 4 13 14 15 16 18 19 20\n",
      "[12:19:44] sanitize [12:19:44] Fisetin_Iso0_entry_00001_conf_04: [12:19:44] Can't kekulize mol.  Unkekulized atoms: 2 4 13 14 15 16 18 19 20\n",
      "[12:19:44] sanitize [12:19:44] Fisetin_Iso0_entry_00001_conf_03: [12:19:44] Can't kekulize mol.  Unkekulized atoms: 2 4 13 14 15 16 18 19 20\n",
      "[12:19:44] sanitize [12:19:44] Fisetin_Iso0_entry_00001_conf_02: [12:19:44] Can't kekulize mol.  Unkekulized atoms: 2 4 13 14 15 16 18 19 20\n",
      "[12:19:44] sanitize [12:19:44] Fisetin_Iso0_entry_00001_conf_01: 2025-05-30 12:19:44,018 - HandsFreeDocking.Plants_Pipeline - ERROR - Error processing ligand Fisetin_Iso0: 'NoneType' object has no attribute 'GetProp'\n",
      "2025-05-30 12:19:44,028 - HandsFreeDocking.Plants_Pipeline - INFO - Docking completed: 1 successful out of 7 ligands\n",
      "2025-05-30 12:19:44,034 - HandsFreeDocking.Wrapper_Docking - INFO - Plants docking completed with 1 results\n"
     ]
    }
   ],
   "source": [
    "if RERUN == True:\n",
    "    shutil.rmtree(docking_dir, ignore_errors=True)\n",
    "    \n",
    "    # Initialize the docking pipeline\n",
    "    docking = PipelineDocking(\n",
    "        workdir=docking_dir,\n",
    "        docking_software=[\"rxdock\", \"plants\"],                # Choose one or more: \"plants\", \"gnina\", \"openeye\"\n",
    "        settings=(10, 4),                                     # (n_conformers, n_cpus)\n",
    "        protein_pdb=protein_pdb,\n",
    "        ligands_input=ligands_sdf,                            # Can be SDF or SMILES file\n",
    "        crystal_sdf=cystal_sdf,\n",
    "        toolkit=\"cdpkit\"                                     # Choose \"cdpkit\" or \"openeye\"\n",
    "    )\n",
    "\n",
    "    # Run the docking and get results\n",
    "    results = docking.run()\n",
    "    FULL_DF = docking.concat_df()\n",
    "\n",
    "    with open(docking_pkl, \"wb\") as f:\n",
    "        pickle.dump(FULL_DF, f)\n",
    "\n",
    "    # clear_output()\n",
    "else:\n",
    "    with open(docking_pkl, \"rb\") as f:\n",
    "        FULL_DF = pickle.load(f)"
   ]
  },
  {
   "cell_type": "code",
   "execution_count": 14,
   "id": "8c7d7c32",
   "metadata": {},
   "outputs": [
    {
     "data": {
      "application/vnd.microsoft.datawrangler.viewer.v0+json": {
       "columns": [
        {
         "name": "index",
         "rawType": "int64",
         "type": "integer"
        },
        {
         "name": "ID",
         "rawType": "object",
         "type": "string"
        },
        {
         "name": "Score",
         "rawType": "float64",
         "type": "float"
        },
        {
         "name": "Molecule",
         "rawType": "object",
         "type": "unknown"
        },
        {
         "name": "Software",
         "rawType": "object",
         "type": "string"
        },
        {
         "name": "Protein_Path",
         "rawType": "object",
         "type": "unknown"
        }
       ],
       "ref": "eecb6df9-8567-451c-a549-4e4bc2fe1cad",
       "rows": [
        [
         "0",
         "Eriodictyol_Iso0_Plants-P1",
         "0.0",
         "<rdkit.Chem.rdchem.Mol object at 0x7fa9d86cf990>",
         "plants",
         "/home/hitesit/Python_Packages/Docking_Pipelines/HandsFreeDocking/examples/LAG3_Moloc_2.pdb"
        ],
        [
         "1",
         "Eriodictyol_Iso0_Plants-P2",
         "0.14235493936880417",
         "<rdkit.Chem.rdchem.Mol object at 0x7fa9d86cfa00>",
         "plants",
         "/home/hitesit/Python_Packages/Docking_Pipelines/HandsFreeDocking/examples/LAG3_Moloc_2.pdb"
        ],
        [
         "2",
         "Eriodictyol_Iso0_Plants-P3",
         "0.4580222775210334",
         "<rdkit.Chem.rdchem.Mol object at 0x7fa9d86cfa70>",
         "plants",
         "/home/hitesit/Python_Packages/Docking_Pipelines/HandsFreeDocking/examples/LAG3_Moloc_2.pdb"
        ],
        [
         "3",
         "Eriodictyol_Iso0_Plants-P4",
         "0.46550736659161807",
         "<rdkit.Chem.rdchem.Mol object at 0x7fa9b3d3ed50>",
         "plants",
         "/home/hitesit/Python_Packages/Docking_Pipelines/HandsFreeDocking/examples/LAG3_Moloc_2.pdb"
        ],
        [
         "4",
         "Eriodictyol_Iso0_Plants-P5",
         "0.6232768495477341",
         "<rdkit.Chem.rdchem.Mol object at 0x7fa9b3d3eb90>",
         "plants",
         "/home/hitesit/Python_Packages/Docking_Pipelines/HandsFreeDocking/examples/LAG3_Moloc_2.pdb"
        ],
        [
         "5",
         "Eriodictyol_Iso0_Plants-P6",
         "0.6770944424694871",
         "<rdkit.Chem.rdchem.Mol object at 0x7fa9b3d3ec00>",
         "plants",
         "/home/hitesit/Python_Packages/Docking_Pipelines/HandsFreeDocking/examples/LAG3_Moloc_2.pdb"
        ],
        [
         "6",
         "Eriodictyol_Iso0_Plants-P7",
         "0.746119208437019",
         "<rdkit.Chem.rdchem.Mol object at 0x7fa9b3d3ece0>",
         "plants",
         "/home/hitesit/Python_Packages/Docking_Pipelines/HandsFreeDocking/examples/LAG3_Moloc_2.pdb"
        ],
        [
         "7",
         "Eriodictyol_Iso0_Plants-P8",
         "0.7614251293597185",
         "<rdkit.Chem.rdchem.Mol object at 0x7fa9b3d3ec70>",
         "plants",
         "/home/hitesit/Python_Packages/Docking_Pipelines/HandsFreeDocking/examples/LAG3_Moloc_2.pdb"
        ],
        [
         "8",
         "Eriodictyol_Iso0_Plants-P9",
         "0.9446024410475165",
         "<rdkit.Chem.rdchem.Mol object at 0x7fa9b3d3edc0>",
         "plants",
         "/home/hitesit/Python_Packages/Docking_Pipelines/HandsFreeDocking/examples/LAG3_Moloc_2.pdb"
        ],
        [
         "9",
         "Eriodictyol_Iso0_Plants-P10",
         "1.0",
         "<rdkit.Chem.rdchem.Mol object at 0x7fa9b3d3ee30>",
         "plants",
         "/home/hitesit/Python_Packages/Docking_Pipelines/HandsFreeDocking/examples/LAG3_Moloc_2.pdb"
        ]
       ],
       "shape": {
        "columns": 5,
        "rows": 10
       }
      },
      "text/html": [
       "<div>\n",
       "<style scoped>\n",
       "    .dataframe tbody tr th:only-of-type {\n",
       "        vertical-align: middle;\n",
       "    }\n",
       "\n",
       "    .dataframe tbody tr th {\n",
       "        vertical-align: top;\n",
       "    }\n",
       "\n",
       "    .dataframe thead th {\n",
       "        text-align: right;\n",
       "    }\n",
       "</style>\n",
       "<table border=\"1\" class=\"dataframe\">\n",
       "  <thead>\n",
       "    <tr style=\"text-align: right;\">\n",
       "      <th></th>\n",
       "      <th>ID</th>\n",
       "      <th>Score</th>\n",
       "      <th>Molecule</th>\n",
       "      <th>Software</th>\n",
       "      <th>Protein_Path</th>\n",
       "    </tr>\n",
       "  </thead>\n",
       "  <tbody>\n",
       "    <tr>\n",
       "      <th>0</th>\n",
       "      <td>Eriodictyol_Iso0_Plants-P1</td>\n",
       "      <td>0.000000</td>\n",
       "      <td>&lt;rdkit.Chem.rdchem.Mol object at 0x7fa9d86cf990&gt;</td>\n",
       "      <td>plants</td>\n",
       "      <td>/home/hitesit/Python_Packages/Docking_Pipeline...</td>\n",
       "    </tr>\n",
       "    <tr>\n",
       "      <th>1</th>\n",
       "      <td>Eriodictyol_Iso0_Plants-P2</td>\n",
       "      <td>0.142355</td>\n",
       "      <td>&lt;rdkit.Chem.rdchem.Mol object at 0x7fa9d86cfa00&gt;</td>\n",
       "      <td>plants</td>\n",
       "      <td>/home/hitesit/Python_Packages/Docking_Pipeline...</td>\n",
       "    </tr>\n",
       "    <tr>\n",
       "      <th>2</th>\n",
       "      <td>Eriodictyol_Iso0_Plants-P3</td>\n",
       "      <td>0.458022</td>\n",
       "      <td>&lt;rdkit.Chem.rdchem.Mol object at 0x7fa9d86cfa70&gt;</td>\n",
       "      <td>plants</td>\n",
       "      <td>/home/hitesit/Python_Packages/Docking_Pipeline...</td>\n",
       "    </tr>\n",
       "    <tr>\n",
       "      <th>3</th>\n",
       "      <td>Eriodictyol_Iso0_Plants-P4</td>\n",
       "      <td>0.465507</td>\n",
       "      <td>&lt;rdkit.Chem.rdchem.Mol object at 0x7fa9b3d3ed50&gt;</td>\n",
       "      <td>plants</td>\n",
       "      <td>/home/hitesit/Python_Packages/Docking_Pipeline...</td>\n",
       "    </tr>\n",
       "    <tr>\n",
       "      <th>4</th>\n",
       "      <td>Eriodictyol_Iso0_Plants-P5</td>\n",
       "      <td>0.623277</td>\n",
       "      <td>&lt;rdkit.Chem.rdchem.Mol object at 0x7fa9b3d3eb90&gt;</td>\n",
       "      <td>plants</td>\n",
       "      <td>/home/hitesit/Python_Packages/Docking_Pipeline...</td>\n",
       "    </tr>\n",
       "    <tr>\n",
       "      <th>5</th>\n",
       "      <td>Eriodictyol_Iso0_Plants-P6</td>\n",
       "      <td>0.677094</td>\n",
       "      <td>&lt;rdkit.Chem.rdchem.Mol object at 0x7fa9b3d3ec00&gt;</td>\n",
       "      <td>plants</td>\n",
       "      <td>/home/hitesit/Python_Packages/Docking_Pipeline...</td>\n",
       "    </tr>\n",
       "    <tr>\n",
       "      <th>6</th>\n",
       "      <td>Eriodictyol_Iso0_Plants-P7</td>\n",
       "      <td>0.746119</td>\n",
       "      <td>&lt;rdkit.Chem.rdchem.Mol object at 0x7fa9b3d3ece0&gt;</td>\n",
       "      <td>plants</td>\n",
       "      <td>/home/hitesit/Python_Packages/Docking_Pipeline...</td>\n",
       "    </tr>\n",
       "    <tr>\n",
       "      <th>7</th>\n",
       "      <td>Eriodictyol_Iso0_Plants-P8</td>\n",
       "      <td>0.761425</td>\n",
       "      <td>&lt;rdkit.Chem.rdchem.Mol object at 0x7fa9b3d3ec70&gt;</td>\n",
       "      <td>plants</td>\n",
       "      <td>/home/hitesit/Python_Packages/Docking_Pipeline...</td>\n",
       "    </tr>\n",
       "    <tr>\n",
       "      <th>8</th>\n",
       "      <td>Eriodictyol_Iso0_Plants-P9</td>\n",
       "      <td>0.944602</td>\n",
       "      <td>&lt;rdkit.Chem.rdchem.Mol object at 0x7fa9b3d3edc0&gt;</td>\n",
       "      <td>plants</td>\n",
       "      <td>/home/hitesit/Python_Packages/Docking_Pipeline...</td>\n",
       "    </tr>\n",
       "    <tr>\n",
       "      <th>9</th>\n",
       "      <td>Eriodictyol_Iso0_Plants-P10</td>\n",
       "      <td>1.000000</td>\n",
       "      <td>&lt;rdkit.Chem.rdchem.Mol object at 0x7fa9b3d3ee30&gt;</td>\n",
       "      <td>plants</td>\n",
       "      <td>/home/hitesit/Python_Packages/Docking_Pipeline...</td>\n",
       "    </tr>\n",
       "  </tbody>\n",
       "</table>\n",
       "</div>"
      ],
      "text/plain": [
       "                            ID     Score  \\\n",
       "0   Eriodictyol_Iso0_Plants-P1  0.000000   \n",
       "1   Eriodictyol_Iso0_Plants-P2  0.142355   \n",
       "2   Eriodictyol_Iso0_Plants-P3  0.458022   \n",
       "3   Eriodictyol_Iso0_Plants-P4  0.465507   \n",
       "4   Eriodictyol_Iso0_Plants-P5  0.623277   \n",
       "5   Eriodictyol_Iso0_Plants-P6  0.677094   \n",
       "6   Eriodictyol_Iso0_Plants-P7  0.746119   \n",
       "7   Eriodictyol_Iso0_Plants-P8  0.761425   \n",
       "8   Eriodictyol_Iso0_Plants-P9  0.944602   \n",
       "9  Eriodictyol_Iso0_Plants-P10  1.000000   \n",
       "\n",
       "                                           Molecule Software  \\\n",
       "0  <rdkit.Chem.rdchem.Mol object at 0x7fa9d86cf990>   plants   \n",
       "1  <rdkit.Chem.rdchem.Mol object at 0x7fa9d86cfa00>   plants   \n",
       "2  <rdkit.Chem.rdchem.Mol object at 0x7fa9d86cfa70>   plants   \n",
       "3  <rdkit.Chem.rdchem.Mol object at 0x7fa9b3d3ed50>   plants   \n",
       "4  <rdkit.Chem.rdchem.Mol object at 0x7fa9b3d3eb90>   plants   \n",
       "5  <rdkit.Chem.rdchem.Mol object at 0x7fa9b3d3ec00>   plants   \n",
       "6  <rdkit.Chem.rdchem.Mol object at 0x7fa9b3d3ece0>   plants   \n",
       "7  <rdkit.Chem.rdchem.Mol object at 0x7fa9b3d3ec70>   plants   \n",
       "8  <rdkit.Chem.rdchem.Mol object at 0x7fa9b3d3edc0>   plants   \n",
       "9  <rdkit.Chem.rdchem.Mol object at 0x7fa9b3d3ee30>   plants   \n",
       "\n",
       "                                        Protein_Path  \n",
       "0  /home/hitesit/Python_Packages/Docking_Pipeline...  \n",
       "1  /home/hitesit/Python_Packages/Docking_Pipeline...  \n",
       "2  /home/hitesit/Python_Packages/Docking_Pipeline...  \n",
       "3  /home/hitesit/Python_Packages/Docking_Pipeline...  \n",
       "4  /home/hitesit/Python_Packages/Docking_Pipeline...  \n",
       "5  /home/hitesit/Python_Packages/Docking_Pipeline...  \n",
       "6  /home/hitesit/Python_Packages/Docking_Pipeline...  \n",
       "7  /home/hitesit/Python_Packages/Docking_Pipeline...  \n",
       "8  /home/hitesit/Python_Packages/Docking_Pipeline...  \n",
       "9  /home/hitesit/Python_Packages/Docking_Pipeline...  "
      ]
     },
     "execution_count": 14,
     "metadata": {},
     "output_type": "execute_result"
    }
   ],
   "source": [
    "FULL_DF"
   ]
  },
  {
   "cell_type": "code",
   "execution_count": null,
   "id": "f94789e0",
   "metadata": {},
   "outputs": [],
   "source": []
  },
  {
   "cell_type": "code",
   "execution_count": null,
   "id": "0827a032",
   "metadata": {},
   "outputs": [],
   "source": []
  },
  {
   "cell_type": "code",
   "execution_count": null,
   "id": "697ce5be",
   "metadata": {},
   "outputs": [],
   "source": [
    "FULL_DF = FULL_DF[~FULL_DF['ID'].str.contains('L17')]\n",
    "lig_name_series = FULL_DF[\"ID\"].str.split(\"_\").str[0]\n",
    "\n",
    "FULL_DF.insert(1, \"Lig_Name\", lig_name_series)"
   ]
  },
  {
   "cell_type": "code",
   "execution_count": null,
   "id": "add66f8d",
   "metadata": {},
   "outputs": [],
   "source": [
    "ALL_MOLS = FULL_DF[\"Molecule\"].tolist()"
   ]
  },
  {
   "cell_type": "code",
   "execution_count": null,
   "id": "40cac38ee885fefa",
   "metadata": {},
   "outputs": [],
   "source": [
    "# Compute the distance matrix using your existing PairwiseMatrixComputer\n",
    "computer = PairwiseMatrixComputer(ALL_MOLS, n_jobs=8, timeout=60)\n",
    "rmsd_func = partial(calc_rmsd_mcs_with_timeout, timeout=60)\n",
    "distance_matrix = computer.compute_matrix(rmsd_func)"
   ]
  },
  {
   "cell_type": "code",
   "execution_count": null,
   "id": "84547d02",
   "metadata": {},
   "outputs": [],
   "source": [
    "# Initialize the hierarchical clustering\n",
    "clustering = OptimizedHierarchicalClustering(\n",
    "    linkage_methods=('ward', 'complete', 'average'),\n",
    "    use_dimensionality_reduction=True,\n",
    "    verbose=True\n",
    ")\n",
    "\n",
    "# Perform hierarchical clustering with automatic parameter optimization\n",
    "labels = clustering.fit(distance_matrix)"
   ]
  },
  {
   "cell_type": "code",
   "execution_count": null,
   "id": "27237b64",
   "metadata": {},
   "outputs": [],
   "source": [
    "# Extract clusters at different distance thresholds\n",
    "tight_clusters = clustering.get_clusters_by_distance(0.4)  # More stringent similarity\n",
    "loose_clusters = clustering.get_clusters_by_distance(1.5)  # More relaxed similarity\n",
    "\n",
    "# Compare different clustering solutions\n",
    "print(f\"Optimal clustering has {len(np.unique(labels))} clusters\")\n",
    "print(f\"Tight clustering has {len(np.unique(tight_clusters))} clusters\")\n",
    "print(f\"Loose clustering has {len(np.unique(loose_clusters))} clusters\")\n",
    "\n",
    "# custom_labels = clustering.get_clusters_constrained(\n",
    "#     distance_threshold=0.4,\n",
    "#     min_clusters=3,\n",
    "#     max_clusters=10\n",
    "# )\n",
    "# print(f\"Custom clustering has {len(np.unique(custom_labels))} clusters\")"
   ]
  },
  {
   "cell_type": "code",
   "execution_count": null,
   "id": "94de99a1",
   "metadata": {},
   "outputs": [],
   "source": [
    "FULL_DF[\"Type_3\"] = tight_clusters"
   ]
  },
  {
   "cell_type": "code",
   "execution_count": null,
   "id": "d35c7809",
   "metadata": {},
   "outputs": [],
   "source": [
    "from pymol import cmd\n",
    "cmd.reinitialize()\n",
    "cmd.load(protein_pdb)\n",
    "\n",
    "def tmp_save(mol: Chem.rdchem.Mol):\n",
    "    with NamedTemporaryFile(suffix=\".sdf\", delete=False) as f:\n",
    "        dm.to_sdf(mol, f.name)\n",
    "        return f.name\n",
    "\n",
    "for cluster, df in FULL_DF.groupby(\"Type_3\"):\n",
    "    IDs = []\n",
    "    for ndx, sub_df in df.groupby(\"Lig_Name\"):\n",
    "        sub_df.sort_values(by=\"Score\", ascending=False, inplace=True)\n",
    "        TOP = sub_df.iloc[0]\n",
    "        \n",
    "        ID = TOP[\"ID\"]\n",
    "        IDs.append(ID)\n",
    "        TMP_MOL = tmp_save(TOP[\"Molecule\"])\n",
    "    \n",
    "        cmd.load(TMP_MOL, ID)\n",
    "    \n",
    "    cmd.group(f\"Cluster_{cluster}\", \" \".join(IDs))\n",
    "\n",
    "cmd.save(\"TMP.pse\")"
   ]
  },
  {
   "cell_type": "code",
   "execution_count": null,
   "id": "ee190115",
   "metadata": {},
   "outputs": [],
   "source": []
  },
  {
   "cell_type": "markdown",
   "id": "19dd2689",
   "metadata": {},
   "source": [
    "## Paiwise Calculation"
   ]
  },
  {
   "cell_type": "markdown",
   "id": "23e5a000",
   "metadata": {},
   "source": [
    "```python\n",
    "clustering_kmed = OptimizedKMedoidsClustering(\n",
    "    k_range=(2, 20),\n",
    "    use_dimensionality_reduction=True,\n",
    "    verbose=True\n",
    ")\n",
    "labels_kmed = clustering_kmed.fit(rmsd_matrix)\n",
    "results_kmed = clustering_kmed.get_results()\n",
    "```"
   ]
  },
  {
   "cell_type": "markdown",
   "id": "6cf83a21",
   "metadata": {},
   "source": [
    "```python\n",
    "clustering_dbscan = OptimizedDBSCANClustering(\n",
    "    eps_range=(0.5, 5.0, 0.5),\n",
    "    min_samples_range=(2, 15),\n",
    "    max_noise_percent=15.0,\n",
    "    max_clusters = 10,\n",
    "    use_dimensionality_reduction=True,\n",
    "    verbose=True\n",
    ")\n",
    "labels_dbscan = clustering_dbscan.fit(rmsd_matrix)\n",
    "results_dbscan = clustering_dbscan.get_results()\n",
    "```"
   ]
  },
  {
   "cell_type": "code",
   "execution_count": null,
   "id": "de4b992d",
   "metadata": {},
   "outputs": [],
   "source": [
    "computer = PairwiseMatrixComputer(ALL_MOLS, n_jobs=8, timeout=60)\n",
    "rmsd_funct = partial(calc_rmsd_mcs_with_timeout, timeout=60)\n",
    "rmsd_matrix = computer.compute_matrix(rmsd_funct)"
   ]
  },
  {
   "cell_type": "code",
   "execution_count": null,
   "id": "b4c5de7f",
   "metadata": {},
   "outputs": [],
   "source": [
    "clustering_dbscan = OptimizedDBSCANClustering(\n",
    "    eps_range=(0.5, 5.0, 0.5),\n",
    "    min_samples_range=(2, 15),\n",
    "    max_noise_percent=15.0,\n",
    "    max_clusters = 10,\n",
    "    use_dimensionality_reduction=True,\n",
    "    verbose=True\n",
    ")\n",
    "labels_dbscan = clustering_dbscan.fit(rmsd_matrix)\n",
    "results_dbscan = clustering_dbscan.get_results()"
   ]
  },
  {
   "cell_type": "code",
   "execution_count": null,
   "id": "48304416",
   "metadata": {},
   "outputs": [],
   "source": [
    "FULL_DF[\"Cluster_DBSCAN\"] = labels_dbscan"
   ]
  },
  {
   "cell_type": "code",
   "execution_count": null,
   "id": "ae6af27b",
   "metadata": {},
   "outputs": [],
   "source": [
    "from pymol import cmd\n",
    "cmd.reinitialize()\n",
    "cmd.load(protein_pdb)\n",
    "\n",
    "def tmp_save(mol: Chem.rdchem.Mol):\n",
    "    with NamedTemporaryFile(suffix=\".sdf\", delete=False) as f:\n",
    "        dm.to_sdf(mol, f.name)\n",
    "        return f.name\n",
    "\n",
    "for cluster, df in FULL_DF.groupby(\"Cluster_DBSCAN\"):\n",
    "    IDs = []\n",
    "    for ndx, sub_df in df.groupby(\"Lig_Name\"):\n",
    "        sub_df.sort_values(by=\"Score\", ascending=False, inplace=True)\n",
    "        TOP = sub_df.iloc[0]\n",
    "        \n",
    "        ID = TOP[\"ID\"]\n",
    "        IDs.append(ID)\n",
    "        TMP_MOL = tmp_save(TOP[\"Molecule\"])\n",
    "    \n",
    "        cmd.load(TMP_MOL, ID)\n",
    "    \n",
    "    cmd.group(f\"Cluster_{cluster}\", \" \".join(IDs))\n",
    "\n",
    "cmd.save(\"TMP.pse\")"
   ]
  },
  {
   "cell_type": "markdown",
   "id": "d99bbd5a",
   "metadata": {},
   "source": [
    "## Protein Minimization"
   ]
  },
  {
   "cell_type": "code",
   "execution_count": null,
   "id": "f2dd6ec9",
   "metadata": {},
   "outputs": [],
   "source": [
    "from HandsFreeDocking.tools.Protein_Minimization import ProteinMinimizer"
   ]
  },
  {
   "cell_type": "markdown",
   "id": "f97b64b7",
   "metadata": {},
   "source": [
    "```python\n",
    "protein_minimizer = ProteinMinimizer(FULL_DF, \"Molecule\", \"PDB_Path\")\n",
    "protein_minimizer(protein_pdb, protein_pdb)\n",
    "```"
   ]
  },
  {
   "cell_type": "code",
   "execution_count": null,
   "id": "c597f042",
   "metadata": {},
   "outputs": [],
   "source": []
  }
 ],
 "metadata": {
  "kernelspec": {
   "display_name": "cheminf_3_11",
   "language": "python",
   "name": "python3"
  },
  "language_info": {
   "codemirror_mode": {
    "name": "ipython",
    "version": 3
   },
   "file_extension": ".py",
   "mimetype": "text/x-python",
   "name": "python",
   "nbconvert_exporter": "python",
   "pygments_lexer": "ipython3",
   "version": "3.11.8"
  }
 },
 "nbformat": 4,
 "nbformat_minor": 5
}
