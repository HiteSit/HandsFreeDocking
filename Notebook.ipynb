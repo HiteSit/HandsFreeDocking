{
 "cells": [
  {
   "cell_type": "code",
   "execution_count": 1,
   "id": "983d6300",
   "metadata": {
    "ExecuteTime": {
     "end_time": "2025-05-19T15:57:37.403899Z",
     "start_time": "2025-05-19T15:57:22.164161Z"
    }
   },
   "outputs": [],
   "source": [
    "import os\n",
    "import shutil\n",
    "import logging\n",
    "import tabulate\n",
    "import cloudpickle as pickle\n",
    "import pandas as pd\n",
    "import numpy as np\n",
    "from functools import partial\n",
    "import time\n",
    "from pathlib import Path\n",
    "import datamol as dm\n",
    "from IPython.display import clear_output\n",
    "from tempfile import NamedTemporaryFile, TemporaryDirectory\n",
    "from itertools import combinations\n",
    "from joblib import Parallel, delayed\n",
    "from rdkit import Chem\n",
    "from rdkit.Chem import rdFMCS\n",
    "import concurrent.futures\n",
    "from spyrmsd import rmsd, molecule\n",
    "from espsim import GetEspSim\n",
    "from sklearn.preprocessing import MinMaxScaler\n",
    "from sklearn.cluster import DBSCAN\n",
    "\n",
    "import oddt\n",
    "import oddt.fingerprints\n",
    "import oddt.shape\n",
    "import oddt.toolkits.rdk\n",
    "\n",
    "from HandsFreeDocking.Wrapper_Docking import PipelineDocking\n",
    "from HandsFreeDocking.analysis.clustering import (\n",
    "    OptimizedDBSCANClustering, PairwiseMatrixComputer, OptimizedKMedoidsClustering,\n",
    "    calc_rmsd_mcs_with_timeout, calc_usr_similarity, calc_splif\n",
    ")\n",
    "\n",
    "from HandsFreeDocking.tools.Protein_Minimization import ProteinMinimizer\n",
    "from HandsFreeDocking.analysis.clustering import OptimizedHierarchicalClustering"
   ]
  },
  {
   "cell_type": "code",
   "execution_count": 2,
   "id": "33df468f",
   "metadata": {
    "ExecuteTime": {
     "end_time": "2025-05-19T15:57:37.417382Z",
     "start_time": "2025-05-19T15:57:37.413272Z"
    }
   },
   "outputs": [],
   "source": [
    "protein_pdb = Path(\"./examples/LAG3_Moloc_2.pdb\")\n",
    "ligands_sdf = Path(\"./examples/Ligands_To_Dock.sdf\")\n",
    "cystal_sdf = Path(\"./examples/Fake_Crystal.sdf\")\n",
    "\n",
    "docking_pkl = Path(\"./examples/TMP_Docking/docking_results.pkl\")\n",
    "docking_dir = Path(\"./examples/TMP_Docking\")\n",
    "docking_dir_RXDOCK = Path(\"./examples/TMP_Docking_RXDOCK\")\n",
    "docking_pkl_RXDOCK = docking_dir_RXDOCK / \"docking_results.pkl\"\n",
    "\n",
    "docking_dir_PLANTS = Path(\"./examples/TMP_Docking_PLANTS\")\n",
    "docking_pkl_PLANTS = docking_dir_PLANTS / \"docking_results.pkl\"\n",
    "\n",
    "# Check if all files exist\n",
    "files_to_check = [protein_pdb, ligands_sdf, cystal_sdf]\n",
    "all_files_exist = all(file.exists() for file in files_to_check)\n",
    "\n",
    "RERUN = True"
   ]
  },
  {
   "cell_type": "markdown",
   "id": "a2c5eb95",
   "metadata": {},
   "source": [
    "from HandsFreeDocking.RxDock_Pipeline import RxDock_Docking\n",
    "from HandsFreeDocking.Plants_Pipeline import Plants_Docking"
   ]
  },
  {
   "cell_type": "markdown",
   "id": "aff699cb",
   "metadata": {},
   "source": [
    "rxdock_pipeline = RxDock_Docking(docking_dir_RXDOCK, protein_pdb, cystal_sdf, ligands_sdf, toolkit=\"openeye\")\n",
    "rxdock_pipeline.main(n_poses=10, n_cpus=2)"
   ]
  },
  {
   "cell_type": "markdown",
   "id": "ae280f17",
   "metadata": {},
   "source": [
    "plants_pipeline = Plants_Docking(docking_dir_PLANTS, protein_pdb, cystal_sdf, ligands_sdf, toolkit=\"openeye\")\n",
    "plants_pipeline.main(n_confs=10, n_cpus=2)"
   ]
  },
  {
   "cell_type": "code",
   "execution_count": null,
   "id": "2ace6566",
   "metadata": {
    "ExecuteTime": {
     "end_time": "2025-05-19T13:33:49.700947Z",
     "start_time": "2025-05-19T13:33:49.697824Z"
    }
   },
   "outputs": [],
   "source": []
  },
  {
   "cell_type": "code",
   "execution_count": null,
   "id": "44ea000b",
   "metadata": {
    "ExecuteTime": {
     "end_time": "2025-05-19T13:33:51.736206Z",
     "start_time": "2025-05-19T13:33:51.732412Z"
    }
   },
   "outputs": [],
   "source": []
  },
  {
   "cell_type": "markdown",
   "id": "585e5847",
   "metadata": {},
   "source": [
    "---"
   ]
  },
  {
   "cell_type": "code",
   "execution_count": 3,
   "id": "c4c4f2a1",
   "metadata": {
    "ExecuteTime": {
     "end_time": "2025-05-19T15:57:51.274124Z",
     "start_time": "2025-05-19T15:57:37.472927Z"
    }
   },
   "outputs": [
    {
     "name": "stderr",
     "output_type": "stream",
     "text": [
      "2025-05-30 16:23:07,616 - HandsFreeDocking.Wrapper_Docking - INFO - Using SDF input directly: examples/Ligands_To_Dock.sdf\n",
      "2025-05-30 16:23:07,616 - HandsFreeDocking.Wrapper_Docking - INFO - Starting RxDock docking\n",
      "2025-05-30 16:23:07,618 - HandsFreeDocking.RxDock_Pipeline - INFO - Starting RxDock docking pipeline...\n",
      "2025-05-30 16:23:07,619 - HandsFreeDocking.RxDock_Pipeline - INFO - Step 1: Sourcing macro (cleaning protein)...\n",
      "2025-05-30 16:23:07,766 - HandsFreeDocking.RxDock_Pipeline - INFO - Step 2: Preparing protein...\n"
     ]
    },
    {
     "name": "stdout",
     "output_type": "stream",
     "text": [
      "Preparing protein with Chimera ...\n"
     ]
    },
    {
     "name": "stderr",
     "output_type": "stream",
     "text": [
      "2025-05-30 16:23:09,565 - HandsFreeDocking.RxDock_Pipeline - INFO - Step 3: Defining binding site...\n",
      "2025-05-30 16:23:09,566 - HandsFreeDocking.RxDock_Pipeline - INFO - Creating RxDock parameter file and defining binding site...\n",
      "2025-05-30 16:23:09,566 - HandsFreeDocking.RxDock_Pipeline - INFO - Running command: rbcavity -W -d -r examples/TMP_Docking/RxDock/rxdock.prm\n",
      "2025-05-30 16:23:10,154 - HandsFreeDocking.RxDock_Pipeline - INFO - ***********************************************\n",
      "The RxDock molecular docking program is licensed under GNU LGPL version 3.\n",
      "RxDock is maintained by Vedran Miletić, Patrik Nikolić, and Luka Vretenar.\n",
      "Visit https://www.rxdock.org/ for more information.\n",
      "Executable:\trbcavity/0.1.0\n",
      "Library:\tlibrxdock.so/0.1.0\n",
      "RBT_ROOT:\t/home/hitesit/Software/rxdock/rxdock_installation\n",
      "RBT_HOME:\t/home/hitesit/Python_Packages/Docking_Pipelines/HandsFreeDocking/examples/TMP_Docking/RxDock\n",
      "Current dir:\t/home/hitesit/Python_Packages/Docking_Pipelines/HandsFreeDocking\n",
      "Date:\t\tFri May 30 16:23:09 2025\n",
      "***********************************************\n",
      "Command line arguments:\n",
      "-r examples/TMP_Docking/RxDock/rxdock.prm\n",
      "-W\n",
      "-d\n",
      "\n",
      "MAPPER\n",
      "CLASS\tRbtLigandSiteMapper\n",
      "ENABLED\tTRUE\n",
      "GRIDSTEP\t0.5\n",
      "MAX_CAVITIES\t1\n",
      "MIN_VOLUME\t100\n",
      "NAME\tMAPPER\n",
      "RADIUS\t6.0\n",
      "REF_MOL\t/home/hitesit/Python_Packages/Docking_Pipelines/HandsFreeDocking/examples/Fake_Crystal.sdf\n",
      "SMALL_SPHERE\t1.0\n",
      "TRACE\t0\n",
      "VOL_INCR\t0.0\n",
      "\n",
      "\n",
      "DOCKING SITE\n",
      "Total volume 1284 A^3\n",
      "Cavity #1\tSize=10272 points; Vol=1284 A^3; Min=(-62,44.5,-27); Max=(-43,60,-9.5); Center=(-54.1794,51.5939,-17.3759); Extent=(19,15.5,17.5)\n",
      "\n",
      "Cav = 10272; total = 10272\n",
      "\n",
      "2025-05-30 16:23:10,154 - HandsFreeDocking.RxDock_Pipeline - INFO - Cavity file created: examples/TMP_Docking/RxDock/rxdock.as\n",
      "2025-05-30 16:23:10,155 - HandsFreeDocking.RxDock_Pipeline - INFO - Step 4: Preparing ligands...\n",
      "2025-05-30 16:23:10,155 - HandsFreeDocking.RxDock_Pipeline - INFO - Enumerating stereoisomers with RDKit for examples/Ligands_To_Dock.sdf\n",
      "2025-05-30 16:23:10,177 - HandsFreeDocking.RxDock_Pipeline - INFO - Preparing ligands with CDPKit\n",
      "2025-05-30 16:23:10,430 - HandsFreeDocking.RxDock_Pipeline - INFO - Splitting prepared ligands into individual files\n",
      "2025-05-30 16:23:10,434 - HandsFreeDocking.RxDock_Pipeline - INFO - Successfully prepared 7 ligands for docking\n",
      "2025-05-30 16:23:10,435 - HandsFreeDocking.RxDock_Pipeline - INFO - Step 5: Running docking...\n",
      "2025-05-30 16:23:10,435 - HandsFreeDocking.RxDock_Pipeline - INFO - Running docking in parallel with 4 CPUs...\n",
      "Docking progress:   0%|          | 0/7 [00:00<?, ?it/s]2025-05-30 16:23:10,490 - HandsFreeDocking.RxDock_Pipeline - INFO - Running command: rbdock -i /home/hitesit/Python_Packages/Docking_Pipelines/HandsFreeDocking/examples/TMP_Docking/RxDock/ligands_split/Apigenin_Iso0.sdf -o /home/hitesit/Python_Packages/Docking_Pipelines/HandsFreeDocking/examples/TMP_Docking/RxDock/output/Apigenin_Iso0 -r /home/hitesit/Python_Packages/Docking_Pipelines/HandsFreeDocking/examples/TMP_Docking/RxDock/rxdock.prm -p dock.prm -n 10\n",
      "2025-05-30 16:23:10,491 - HandsFreeDocking.RxDock_Pipeline - INFO - Running command: rbdock -i /home/hitesit/Python_Packages/Docking_Pipelines/HandsFreeDocking/examples/TMP_Docking/RxDock/ligands_split/6-methylflavone_Iso0.sdf -o /home/hitesit/Python_Packages/Docking_Pipelines/HandsFreeDocking/examples/TMP_Docking/RxDock/output/6-methylflavone_Iso0 -r /home/hitesit/Python_Packages/Docking_Pipelines/HandsFreeDocking/examples/TMP_Docking/RxDock/rxdock.prm -p dock.prm -n 10\n",
      "2025-05-30 16:23:10,491 - HandsFreeDocking.RxDock_Pipeline - INFO - Running command: rbdock -i /home/hitesit/Python_Packages/Docking_Pipelines/HandsFreeDocking/examples/TMP_Docking/RxDock/ligands_split/Chrysin_Iso0.sdf -o /home/hitesit/Python_Packages/Docking_Pipelines/HandsFreeDocking/examples/TMP_Docking/RxDock/output/Chrysin_Iso0 -r /home/hitesit/Python_Packages/Docking_Pipelines/HandsFreeDocking/examples/TMP_Docking/RxDock/rxdock.prm -p dock.prm -n 10\n",
      "2025-05-30 16:23:10,496 - HandsFreeDocking.RxDock_Pipeline - INFO - Running command: rbdock -i /home/hitesit/Python_Packages/Docking_Pipelines/HandsFreeDocking/examples/TMP_Docking/RxDock/ligands_split/Luteolin_Iso0.sdf -o /home/hitesit/Python_Packages/Docking_Pipelines/HandsFreeDocking/examples/TMP_Docking/RxDock/output/Luteolin_Iso0 -r /home/hitesit/Python_Packages/Docking_Pipelines/HandsFreeDocking/examples/TMP_Docking/RxDock/rxdock.prm -p dock.prm -n 10\n",
      "2025-05-30 16:23:11,999 - HandsFreeDocking.RxDock_Pipeline - INFO - Docking completed: examples/TMP_Docking/RxDock/output/6-methylflavone_Iso0.sd\n",
      "Docking progress:  14%|█▍        | 1/7 [00:01<00:09,  1.51s/it]2025-05-30 16:23:12,001 - HandsFreeDocking.RxDock_Pipeline - INFO - Running command: rbdock -i /home/hitesit/Python_Packages/Docking_Pipelines/HandsFreeDocking/examples/TMP_Docking/RxDock/ligands_split/Kaempferol_Iso0.sdf -o /home/hitesit/Python_Packages/Docking_Pipelines/HandsFreeDocking/examples/TMP_Docking/RxDock/output/Kaempferol_Iso0 -r /home/hitesit/Python_Packages/Docking_Pipelines/HandsFreeDocking/examples/TMP_Docking/RxDock/rxdock.prm -p dock.prm -n 10\n",
      "2025-05-30 16:23:12,092 - HandsFreeDocking.RxDock_Pipeline - INFO - Docking completed: examples/TMP_Docking/RxDock/output/Chrysin_Iso0.sd\n",
      "2025-05-30 16:23:12,093 - HandsFreeDocking.RxDock_Pipeline - INFO - Running command: rbdock -i /home/hitesit/Python_Packages/Docking_Pipelines/HandsFreeDocking/examples/TMP_Docking/RxDock/ligands_split/Eriodictyol_Iso0.sdf -o /home/hitesit/Python_Packages/Docking_Pipelines/HandsFreeDocking/examples/TMP_Docking/RxDock/output/Eriodictyol_Iso0 -r /home/hitesit/Python_Packages/Docking_Pipelines/HandsFreeDocking/examples/TMP_Docking/RxDock/rxdock.prm -p dock.prm -n 10\n",
      "2025-05-30 16:23:12,120 - HandsFreeDocking.RxDock_Pipeline - INFO - Docking completed: examples/TMP_Docking/RxDock/output/Apigenin_Iso0.sd\n",
      "2025-05-30 16:23:12,121 - HandsFreeDocking.RxDock_Pipeline - INFO - Docking completed: examples/TMP_Docking/RxDock/output/Luteolin_Iso0.sd\n",
      "Docking progress:  43%|████▎     | 3/7 [00:01<00:01,  2.30it/s]2025-05-30 16:23:12,122 - HandsFreeDocking.RxDock_Pipeline - INFO - Running command: rbdock -i /home/hitesit/Python_Packages/Docking_Pipelines/HandsFreeDocking/examples/TMP_Docking/RxDock/ligands_split/Fisetin_Iso0.sdf -o /home/hitesit/Python_Packages/Docking_Pipelines/HandsFreeDocking/examples/TMP_Docking/RxDock/output/Fisetin_Iso0 -r /home/hitesit/Python_Packages/Docking_Pipelines/HandsFreeDocking/examples/TMP_Docking/RxDock/rxdock.prm -p dock.prm -n 10\n",
      "2025-05-30 16:23:13,591 - HandsFreeDocking.RxDock_Pipeline - INFO - Docking completed: examples/TMP_Docking/RxDock/output/Kaempferol_Iso0.sd\n",
      "Docking progress:  71%|███████▏  | 5/7 [00:03<00:01,  1.70it/s]2025-05-30 16:23:13,711 - HandsFreeDocking.RxDock_Pipeline - INFO - Docking completed: examples/TMP_Docking/RxDock/output/Eriodictyol_Iso0.sd\n",
      "Docking progress:  86%|████████▌ | 6/7 [00:03<00:00,  2.16it/s]2025-05-30 16:23:13,925 - HandsFreeDocking.RxDock_Pipeline - INFO - Docking completed: examples/TMP_Docking/RxDock/output/Fisetin_Iso0.sd\n",
      "Docking progress: 100%|██████████| 7/7 [00:03<00:00,  2.04it/s]\n",
      "2025-05-30 16:23:13,938 - HandsFreeDocking.RxDock_Pipeline - INFO - Completed docking for 7 ligands\n",
      "2025-05-30 16:23:13,939 - HandsFreeDocking.RxDock_Pipeline - INFO - Step 6: Processing docking results...\n",
      "2025-05-30 16:23:14,036 - HandsFreeDocking.RxDock_Pipeline - INFO - Found 10 docked poses in examples/TMP_Docking/RxDock/output/6-methylflavone_Iso0.sd\n",
      "2025-05-30 16:23:14,085 - HandsFreeDocking.RxDock_Pipeline - INFO - Found scores for 10 poses\n",
      "2025-05-30 16:23:14,100 - HandsFreeDocking.RxDock_Pipeline - INFO - Updated SDF file with 10 properly named poses: examples/TMP_Docking/RxDock/output/6-methylflavone_Iso0.sd\n",
      "2025-05-30 16:23:14,101 - HandsFreeDocking.RxDock_Pipeline - INFO - Successfully updated RxDock output file: examples/TMP_Docking/RxDock/output/6-methylflavone_Iso0.sd\n",
      "2025-05-30 16:23:14,104 - HandsFreeDocking.RxDock_Pipeline - INFO - Found 10 docked poses in examples/TMP_Docking/RxDock/output/Chrysin_Iso0.sd\n",
      "2025-05-30 16:23:14,112 - HandsFreeDocking.RxDock_Pipeline - INFO - Found scores for 10 poses\n",
      "2025-05-30 16:23:14,117 - HandsFreeDocking.RxDock_Pipeline - INFO - Updated SDF file with 10 properly named poses: examples/TMP_Docking/RxDock/output/Chrysin_Iso0.sd\n",
      "2025-05-30 16:23:14,118 - HandsFreeDocking.RxDock_Pipeline - INFO - Successfully updated RxDock output file: examples/TMP_Docking/RxDock/output/Chrysin_Iso0.sd\n",
      "2025-05-30 16:23:14,121 - HandsFreeDocking.RxDock_Pipeline - INFO - Found 10 docked poses in examples/TMP_Docking/RxDock/output/Apigenin_Iso0.sd\n",
      "2025-05-30 16:23:14,130 - HandsFreeDocking.RxDock_Pipeline - INFO - Found scores for 10 poses\n",
      "2025-05-30 16:23:14,135 - HandsFreeDocking.RxDock_Pipeline - INFO - Updated SDF file with 10 properly named poses: examples/TMP_Docking/RxDock/output/Apigenin_Iso0.sd\n",
      "2025-05-30 16:23:14,136 - HandsFreeDocking.RxDock_Pipeline - INFO - Successfully updated RxDock output file: examples/TMP_Docking/RxDock/output/Apigenin_Iso0.sd\n",
      "2025-05-30 16:23:14,139 - HandsFreeDocking.RxDock_Pipeline - INFO - Found 10 docked poses in examples/TMP_Docking/RxDock/output/Luteolin_Iso0.sd\n",
      "2025-05-30 16:23:14,147 - HandsFreeDocking.RxDock_Pipeline - INFO - Found scores for 10 poses\n",
      "2025-05-30 16:23:14,153 - HandsFreeDocking.RxDock_Pipeline - INFO - Updated SDF file with 10 properly named poses: examples/TMP_Docking/RxDock/output/Luteolin_Iso0.sd\n",
      "2025-05-30 16:23:14,153 - HandsFreeDocking.RxDock_Pipeline - INFO - Successfully updated RxDock output file: examples/TMP_Docking/RxDock/output/Luteolin_Iso0.sd\n",
      "2025-05-30 16:23:14,156 - HandsFreeDocking.RxDock_Pipeline - INFO - Found 10 docked poses in examples/TMP_Docking/RxDock/output/Kaempferol_Iso0.sd\n",
      "2025-05-30 16:23:14,163 - HandsFreeDocking.RxDock_Pipeline - INFO - Found scores for 10 poses\n",
      "2025-05-30 16:23:14,169 - HandsFreeDocking.RxDock_Pipeline - INFO - Updated SDF file with 10 properly named poses: examples/TMP_Docking/RxDock/output/Kaempferol_Iso0.sd\n",
      "2025-05-30 16:23:14,169 - HandsFreeDocking.RxDock_Pipeline - INFO - Successfully updated RxDock output file: examples/TMP_Docking/RxDock/output/Kaempferol_Iso0.sd\n",
      "2025-05-30 16:23:14,172 - HandsFreeDocking.RxDock_Pipeline - INFO - Found 10 docked poses in examples/TMP_Docking/RxDock/output/Eriodictyol_Iso0.sd\n",
      "2025-05-30 16:23:14,180 - HandsFreeDocking.RxDock_Pipeline - INFO - Found scores for 10 poses\n",
      "2025-05-30 16:23:14,185 - HandsFreeDocking.RxDock_Pipeline - INFO - Updated SDF file with 10 properly named poses: examples/TMP_Docking/RxDock/output/Eriodictyol_Iso0.sd\n",
      "2025-05-30 16:23:14,186 - HandsFreeDocking.RxDock_Pipeline - INFO - Successfully updated RxDock output file: examples/TMP_Docking/RxDock/output/Eriodictyol_Iso0.sd\n",
      "2025-05-30 16:23:14,188 - HandsFreeDocking.RxDock_Pipeline - INFO - Found 10 docked poses in examples/TMP_Docking/RxDock/output/Fisetin_Iso0.sd\n",
      "2025-05-30 16:23:14,196 - HandsFreeDocking.RxDock_Pipeline - INFO - Found scores for 10 poses\n",
      "2025-05-30 16:23:14,201 - HandsFreeDocking.RxDock_Pipeline - INFO - Updated SDF file with 10 properly named poses: examples/TMP_Docking/RxDock/output/Fisetin_Iso0.sd\n",
      "2025-05-30 16:23:14,201 - HandsFreeDocking.RxDock_Pipeline - INFO - Successfully updated RxDock output file: examples/TMP_Docking/RxDock/output/Fisetin_Iso0.sd\n",
      "2025-05-30 16:23:14,204 - HandsFreeDocking.RxDock_Pipeline - INFO - Updated 7 RxDock output files with proper molecule naming\n",
      "2025-05-30 16:23:14,204 - HandsFreeDocking.Wrapper_Docking - INFO - Processing 7 RxDock SDF files\n",
      "2025-05-30 16:23:14,247 - HandsFreeDocking.Wrapper_Docking - INFO - RxDock docking completed with 70 results\n",
      "2025-05-30 16:23:14,248 - HandsFreeDocking.Wrapper_Docking - INFO - Starting Plants docking\n"
     ]
    },
    {
     "name": "stdout",
     "output_type": "stream",
     "text": [
      "Preparing protein with Chimera ...\n"
     ]
    },
    {
     "name": "stderr",
     "output_type": "stream",
     "text": [
      "2025-05-30 16:23:15,724 - HandsFreeDocking.Plants_Pipeline - INFO - Enumerating stereoisomers with RDKit for examples/Ligands_To_Dock.sdf\n",
      "2025-05-30 16:23:15,728 - HandsFreeDocking.Plants_Pipeline - INFO - Preparing ligands with CDPKit\n",
      "2025-05-30 16:23:15,756 - HandsFreeDocking.Plants_Pipeline - INFO - Converting prepared ligands to mol2 format\n",
      "2025-05-30 16:23:21,747 - HandsFreeDocking.Plants_Pipeline - INFO - Running: plants.64bit --mode screen Chrysin_Iso0_conf.txt\n",
      "2025-05-30 16:23:21,747 - HandsFreeDocking.Plants_Pipeline - INFO - Running: plants.64bit --mode screen Luteolin_Iso0_conf.txt\n",
      "2025-05-30 16:23:21,747 - HandsFreeDocking.Plants_Pipeline - INFO - Running: plants.64bit --mode screen 6-methylflavone_Iso0_conf.txt\n",
      "2025-05-30 16:23:21,747 - HandsFreeDocking.Plants_Pipeline - INFO - Running: plants.64bit --mode screen Apigenin_Iso0_conf.txt\n",
      "[16:23:22] Can't kekulize mol.  Unkekulized atoms: 1 2 3 4 5 6 13 16 17\n",
      "[16:23:22] sanitize [16:23:22] 6-methylflavone_Iso0_entry_00001_conf_10: [16:23:22] Can't kekulize mol.  Unkekulized atoms: 1 2 3 4 5 6 13 16 17\n",
      "[16:23:22] sanitize [16:23:22] 6-methylflavone_Iso0_entry_00001_conf_09: [16:23:22] Can't kekulize mol.  Unkekulized atoms: 1 2 3 4 5 6 13 16 17\n",
      "[16:23:22] sanitize [16:23:22] 6-methylflavone_Iso0_entry_00001_conf_08: [16:23:22] Can't kekulize mol.  Unkekulized atoms: 1 2 3 4 5 6 13 16 17\n",
      "[16:23:22] sanitize [16:23:22] 6-methylflavone_Iso0_entry_00001_conf_07: [16:23:22] Can't kekulize mol.  Unkekulized atoms: 1 2 3 4 5 6 13 16 17\n",
      "[16:23:22] sanitize [16:23:22] 6-methylflavone_Iso0_entry_00001_conf_06: [16:23:22] Can't kekulize mol.  Unkekulized atoms: 1 2 3 4 5 6 13 16 17\n",
      "[16:23:22] sanitize [16:23:22] 6-methylflavone_Iso0_entry_00001_conf_05: [16:23:22] Can't kekulize mol.  Unkekulized atoms: 1 2 3 4 5 6 13 16 17\n",
      "[16:23:22] sanitize [16:23:22] 6-methylflavone_Iso0_entry_00001_conf_04: [16:23:22] Can't kekulize mol.  Unkekulized atoms: 1 2 3 4 5 6 13 16 17\n",
      "[16:23:22] sanitize [16:23:22] 6-methylflavone_Iso0_entry_00001_conf_03: [16:23:22] Can't kekulize mol.  Unkekulized atoms: 1 2 3 4 5 6 13 16 17\n",
      "[16:23:22] sanitize [16:23:22] 6-methylflavone_Iso0_entry_00001_conf_02: [16:23:22] Can't kekulize mol.  Unkekulized atoms: 1 2 3 4 5 6 13 16 17\n",
      "[16:23:22] sanitize [16:23:22] 6-methylflavone_Iso0_entry_00001_conf_01: 2025-05-30 16:23:22,461 - HandsFreeDocking.Plants_Pipeline - ERROR - Error processing ligand 6-methylflavone_Iso0: 'NoneType' object has no attribute 'GetProp'\n",
      "2025-05-30 16:23:22,512 - HandsFreeDocking.Plants_Pipeline - INFO - Running: plants.64bit --mode screen Kaempferol_Iso0_conf.txt\n",
      "[16:23:22] Can't kekulize mol.  Unkekulized atoms: 2 3 10 11 12 13 15 16 18\n",
      "[16:23:22] sanitize [16:23:22] Chrysin_Iso0_entry_00001_conf_10: [16:23:22] Can't kekulize mol.  Unkekulized atoms: 2 3 10 11 12 13 15 16 18\n",
      "[16:23:22] sanitize [16:23:22] Chrysin_Iso0_entry_00001_conf_09: [16:23:22] Can't kekulize mol.  Unkekulized atoms: 2 3 10 11 12 13 15 16 18\n",
      "[16:23:22] sanitize [16:23:22] Chrysin_Iso0_entry_00001_conf_08: [16:23:22] Can't kekulize mol.  Unkekulized atoms: 2 3 10 11 12 13 15 16 18\n",
      "[16:23:22] sanitize [16:23:22] Chrysin_Iso0_entry_00001_conf_07: [16:23:22] Can't kekulize mol.  Unkekulized atoms: 2 3 10 11 12 13 15 16 18\n",
      "[16:23:22] sanitize [16:23:22] Chrysin_Iso0_entry_00001_conf_06: [16:23:22] Can't kekulize mol.  Unkekulized atoms: 2 3 10 11 12 13 15 16 18\n",
      "[16:23:22] sanitize [16:23:22] Chrysin_Iso0_entry_00001_conf_05: [16:23:22] Can't kekulize mol.  Unkekulized atoms: 2 3 10 11 12 13 15 16 18\n",
      "[16:23:22] sanitize [16:23:22] Chrysin_Iso0_entry_00001_conf_04: [16:23:22] Can't kekulize mol.  Unkekulized atoms: 2 3 10 11 12 13 15 16 18\n",
      "[16:23:22] sanitize [16:23:22] Chrysin_Iso0_entry_00001_conf_03: [16:23:22] Can't kekulize mol.  Unkekulized atoms: 2 3 10 11 12 13 15 16 18\n",
      "[16:23:22] sanitize [16:23:22] Chrysin_Iso0_entry_00001_conf_02: [16:23:22] Can't kekulize mol.  Unkekulized atoms: 2 3 10 11 12 13 15 16 18\n",
      "[16:23:22] sanitize [16:23:22] Chrysin_Iso0_entry_00001_conf_01: 2025-05-30 16:23:22,903 - HandsFreeDocking.Plants_Pipeline - ERROR - Error processing ligand Chrysin_Iso0: 'NoneType' object has no attribute 'GetProp'\n",
      "2025-05-30 16:23:22,947 - HandsFreeDocking.Plants_Pipeline - INFO - Running: plants.64bit --mode screen Eriodictyol_Iso0_conf.txt\n",
      "[16:23:23] Can't kekulize mol.  Unkekulized atoms: 2 3 11 12 13 14 16 17 19\n",
      "[16:23:23] sanitize [16:23:23] Apigenin_Iso0_entry_00001_conf_10: [16:23:23] Can't kekulize mol.  Unkekulized atoms: 2 3 11 12 13 14 16 17 19\n",
      "[16:23:23] sanitize [16:23:23] Apigenin_Iso0_entry_00001_conf_09: [16:23:23] Can't kekulize mol.  Unkekulized atoms: 2 3 11 12 13 14 16 17 19\n",
      "[16:23:23] sanitize [16:23:23] Apigenin_Iso0_entry_00001_conf_08: [16:23:23] Can't kekulize mol.  Unkekulized atoms: 2 3 11 12 13 14 16 17 19\n",
      "[16:23:23] sanitize [16:23:23] Apigenin_Iso0_entry_00001_conf_07: [16:23:23] Can't kekulize mol.  Unkekulized atoms: 2 3 11 12 13 14 16 17 19\n",
      "[16:23:23] sanitize [16:23:23] Apigenin_Iso0_entry_00001_conf_06: [16:23:23] Can't kekulize mol.  Unkekulized atoms: 2 3 11 12 13 14 16 17 19\n",
      "[16:23:23] sanitize [16:23:23] Apigenin_Iso0_entry_00001_conf_05: [16:23:23] Can't kekulize mol.  Unkekulized atoms: 2 3 11 12 13 14 16 17 19\n",
      "[16:23:23] sanitize [16:23:23] Apigenin_Iso0_entry_00001_conf_04: [16:23:23] Can't kekulize mol.  Unkekulized atoms: 2 3 11 12 13 14 16 17 19\n",
      "[16:23:23] sanitize [16:23:23] Apigenin_Iso0_entry_00001_conf_03: [16:23:23] Can't kekulize mol.  Unkekulized atoms: 2 3 11 12 13 14 16 17 19\n",
      "[16:23:23] sanitize [16:23:23] Apigenin_Iso0_entry_00001_conf_02: [16:23:23] Can't kekulize mol.  Unkekulized atoms: 2 3 11 12 13 14 16 17 19\n",
      "[16:23:23] sanitize [16:23:23] Apigenin_Iso0_entry_00001_conf_01: 2025-05-30 16:23:23,195 - HandsFreeDocking.Plants_Pipeline - ERROR - Error processing ligand Apigenin_Iso0: 'NoneType' object has no attribute 'GetProp'\n",
      "2025-05-30 16:23:23,239 - HandsFreeDocking.Plants_Pipeline - INFO - Running: plants.64bit --mode screen Fisetin_Iso0_conf.txt\n",
      "[16:23:23] Can't kekulize mol.  Unkekulized atoms: 2 3 12 13 14 15 17 18 20\n",
      "[16:23:23] sanitize [16:23:23] Luteolin_Iso0_entry_00001_conf_10: [16:23:23] Can't kekulize mol.  Unkekulized atoms: 2 3 12 13 14 15 17 18 20\n",
      "[16:23:23] sanitize [16:23:23] Luteolin_Iso0_entry_00001_conf_09: [16:23:23] Can't kekulize mol.  Unkekulized atoms: 2 3 12 13 14 15 17 18 20\n",
      "[16:23:23] sanitize [16:23:23] Luteolin_Iso0_entry_00001_conf_08: [16:23:23] Can't kekulize mol.  Unkekulized atoms: 2 3 12 13 14 15 17 18 20\n",
      "[16:23:23] sanitize [16:23:23] Luteolin_Iso0_entry_00001_conf_07: [16:23:23] Can't kekulize mol.  Unkekulized atoms: 2 3 12 13 14 15 17 18 20\n",
      "[16:23:23] sanitize [16:23:23] Luteolin_Iso0_entry_00001_conf_06: [16:23:23] Can't kekulize mol.  Unkekulized atoms: 2 3 12 13 14 15 17 18 20\n",
      "[16:23:23] sanitize [16:23:23] Luteolin_Iso0_entry_00001_conf_05: [16:23:23] Can't kekulize mol.  Unkekulized atoms: 2 3 12 13 14 15 17 18 20\n",
      "[16:23:23] sanitize [16:23:23] Luteolin_Iso0_entry_00001_conf_04: [16:23:23] Can't kekulize mol.  Unkekulized atoms: 2 3 12 13 14 15 17 18 20\n",
      "[16:23:23] sanitize [16:23:23] Luteolin_Iso0_entry_00001_conf_03: [16:23:23] Can't kekulize mol.  Unkekulized atoms: 2 3 12 13 14 15 17 18 20\n",
      "[16:23:23] sanitize [16:23:23] Luteolin_Iso0_entry_00001_conf_02: [16:23:23] Can't kekulize mol.  Unkekulized atoms: 2 3 12 13 14 15 17 18 20\n",
      "[16:23:23] sanitize [16:23:23] Luteolin_Iso0_entry_00001_conf_01: 2025-05-30 16:23:23,599 - HandsFreeDocking.Plants_Pipeline - ERROR - Error processing ligand Luteolin_Iso0: 'NoneType' object has no attribute 'GetProp'\n",
      "[16:23:24] Can't kekulize mol.  Unkekulized atoms: 2 4 12 13 14 15 17 18 20\n",
      "[16:23:24] sanitize [16:23:24] Kaempferol_Iso0_entry_00001_conf_10: [16:23:24] Can't kekulize mol.  Unkekulized atoms: 2 4 12 13 14 15 17 18 20\n",
      "[16:23:24] sanitize [16:23:24] Kaempferol_Iso0_entry_00001_conf_09: [16:23:24] Can't kekulize mol.  Unkekulized atoms: 2 4 12 13 14 15 17 18 20\n",
      "[16:23:24] sanitize [16:23:24] Kaempferol_Iso0_entry_00001_conf_08: [16:23:24] Can't kekulize mol.  Unkekulized atoms: 2 4 12 13 14 15 17 18 20\n",
      "[16:23:24] sanitize [16:23:24] Kaempferol_Iso0_entry_00001_conf_07: [16:23:24] Can't kekulize mol.  Unkekulized atoms: 2 4 12 13 14 15 17 18 20\n",
      "[16:23:24] sanitize [16:23:24] Kaempferol_Iso0_entry_00001_conf_06: [16:23:24] Can't kekulize mol.  Unkekulized atoms: 2 4 12 13 14 15 17 18 20\n",
      "[16:23:24] sanitize [16:23:24] Kaempferol_Iso0_entry_00001_conf_05: [16:23:24] Can't kekulize mol.  Unkekulized atoms: 2 4 12 13 14 15 17 18 20\n",
      "[16:23:24] sanitize [16:23:24] Kaempferol_Iso0_entry_00001_conf_04: [16:23:24] Can't kekulize mol.  Unkekulized atoms: 2 4 12 13 14 15 17 18 20\n",
      "[16:23:24] sanitize [16:23:24] Kaempferol_Iso0_entry_00001_conf_03: [16:23:24] Can't kekulize mol.  Unkekulized atoms: 2 4 12 13 14 15 17 18 20\n",
      "[16:23:24] sanitize [16:23:24] Kaempferol_Iso0_entry_00001_conf_02: [16:23:24] Can't kekulize mol.  Unkekulized atoms: 2 4 12 13 14 15 17 18 20\n",
      "[16:23:24] sanitize [16:23:24] Kaempferol_Iso0_entry_00001_conf_01: 2025-05-30 16:23:24,320 - HandsFreeDocking.Plants_Pipeline - ERROR - Error processing ligand Kaempferol_Iso0: 'NoneType' object has no attribute 'GetProp'\n",
      "2025-05-30 16:23:24,548 - HandsFreeDocking.Plants_Pipeline - INFO - Saving results for Eriodictyol_Iso0 to examples/TMP_Docking/Plants/output/Eriodictyol_Iso0_Plants.sdf\n",
      "[16:23:24] Can't kekulize mol.  Unkekulized atoms: 2 4 13 14 15 16 18 19 20\n",
      "[16:23:24] sanitize [16:23:24] Fisetin_Iso0_entry_00001_conf_10: [16:23:24] Can't kekulize mol.  Unkekulized atoms: 2 4 13 14 15 16 18 19 20\n",
      "[16:23:24] sanitize [16:23:24] Fisetin_Iso0_entry_00001_conf_09: [16:23:24] Can't kekulize mol.  Unkekulized atoms: 2 4 13 14 15 16 18 19 20\n",
      "[16:23:24] sanitize [16:23:24] Fisetin_Iso0_entry_00001_conf_08: [16:23:24] Can't kekulize mol.  Unkekulized atoms: 2 4 13 14 15 16 18 19 20\n",
      "[16:23:24] sanitize [16:23:24] Fisetin_Iso0_entry_00001_conf_07: [16:23:24] Can't kekulize mol.  Unkekulized atoms: 2 4 13 14 15 16 18 19 20\n",
      "[16:23:24] sanitize [16:23:24] Fisetin_Iso0_entry_00001_conf_06: [16:23:24] Can't kekulize mol.  Unkekulized atoms: 2 4 13 14 15 16 18 19 20\n",
      "[16:23:24] sanitize [16:23:24] Fisetin_Iso0_entry_00001_conf_05: [16:23:24] Can't kekulize mol.  Unkekulized atoms: 2 4 13 14 15 16 18 19 20\n",
      "[16:23:24] sanitize [16:23:24] Fisetin_Iso0_entry_00001_conf_04: [16:23:24] Can't kekulize mol.  Unkekulized atoms: 2 4 13 14 15 16 18 19 20\n",
      "[16:23:24] sanitize [16:23:24] Fisetin_Iso0_entry_00001_conf_03: [16:23:24] Can't kekulize mol.  Unkekulized atoms: 2 4 13 14 15 16 18 19 20\n",
      "[16:23:24] sanitize [16:23:24] Fisetin_Iso0_entry_00001_conf_02: [16:23:24] Can't kekulize mol.  Unkekulized atoms: 2 4 13 14 15 16 18 19 20\n",
      "[16:23:24] sanitize [16:23:24] Fisetin_Iso0_entry_00001_conf_01: 2025-05-30 16:23:24,947 - HandsFreeDocking.Plants_Pipeline - ERROR - Error processing ligand Fisetin_Iso0: 'NoneType' object has no attribute 'GetProp'\n",
      "2025-05-30 16:23:24,951 - HandsFreeDocking.Plants_Pipeline - INFO - Docking completed: 1 successful out of 7 ligands\n",
      "2025-05-30 16:23:24,963 - HandsFreeDocking.Wrapper_Docking - INFO - Plants docking completed with 1 results\n"
     ]
    }
   ],
   "source": [
    "if RERUN == True:\n",
    "    shutil.rmtree(docking_dir, ignore_errors=True)\n",
    "    \n",
    "    # Initialize the docking pipeline\n",
    "    docking = PipelineDocking(\n",
    "        workdir=docking_dir,\n",
    "        docking_software=[\"rxdock\", \"plants\"],                # Choose one or more: \"plants\", \"gnina\", \"openeye\"\n",
    "        settings=(10, 4),                                     # (n_conformers, n_cpus)\n",
    "        protein_pdb=protein_pdb,\n",
    "        ligands_input=ligands_sdf,                            # Can be SDF or SMILES file\n",
    "        crystal_sdf=cystal_sdf,\n",
    "        toolkit=\"cdpkit\"                                     # Choose \"cdpkit\" or \"openeye\"\n",
    "    )\n",
    "\n",
    "    # Run the docking and get results\n",
    "    results = docking.run()\n",
    "    FULL_DF = docking.concat_df()\n",
    "\n",
    "    with open(docking_pkl, \"wb\") as f:\n",
    "        pickle.dump(FULL_DF, f)\n",
    "\n",
    "    # clear_output()\n",
    "else:\n",
    "    with open(docking_pkl, \"rb\") as f:\n",
    "        FULL_DF = pickle.load(f)"
   ]
  },
  {
   "cell_type": "code",
   "execution_count": 4,
   "id": "8c7d7c32",
   "metadata": {},
   "outputs": [
    {
     "data": {
      "application/vnd.microsoft.datawrangler.viewer.v0+json": {
       "columns": [
        {
         "name": "index",
         "rawType": "int64",
         "type": "integer"
        },
        {
         "name": "ID",
         "rawType": "object",
         "type": "string"
        },
        {
         "name": "Score",
         "rawType": "float64",
         "type": "float"
        },
        {
         "name": "Molecule",
         "rawType": "object",
         "type": "unknown"
        },
        {
         "name": "Software",
         "rawType": "object",
         "type": "string"
        },
        {
         "name": "Protein_Path",
         "rawType": "object",
         "type": "unknown"
        }
       ],
       "ref": "6256f0b1-9e5b-49ac-b7d0-a5780e32a46f",
       "rows": [
        [
         "0",
         "6-methylflavone_Iso0_RxDock-P1",
         "0.4722852277359344",
         "<rdkit.Chem.rdchem.Mol object at 0x7f93368d9150>",
         "rxdock",
         "/home/hitesit/Python_Packages/Docking_Pipelines/HandsFreeDocking/examples/LAG3_Moloc_2.pdb"
        ],
        [
         "1",
         "6-methylflavone_Iso0_RxDock-P2",
         "0.472050880364957",
         "<rdkit.Chem.rdchem.Mol object at 0x7f9336c0d310>",
         "rxdock",
         "/home/hitesit/Python_Packages/Docking_Pipelines/HandsFreeDocking/examples/LAG3_Moloc_2.pdb"
        ],
        [
         "2",
         "6-methylflavone_Iso0_RxDock-P3",
         "0.46959378368743443",
         "<rdkit.Chem.rdchem.Mol object at 0x7f9336c0d230>",
         "rxdock",
         "/home/hitesit/Python_Packages/Docking_Pipelines/HandsFreeDocking/examples/LAG3_Moloc_2.pdb"
        ],
        [
         "3",
         "6-methylflavone_Iso0_RxDock-P4",
         "0.4691676975583845",
         "<rdkit.Chem.rdchem.Mol object at 0x7f9336966730>",
         "rxdock",
         "/home/hitesit/Python_Packages/Docking_Pipelines/HandsFreeDocking/examples/LAG3_Moloc_2.pdb"
        ],
        [
         "4",
         "6-methylflavone_Iso0_RxDock-P5",
         "0.42512459468556973",
         "<rdkit.Chem.rdchem.Mol object at 0x7f93369677d0>",
         "rxdock",
         "/home/hitesit/Python_Packages/Docking_Pipelines/HandsFreeDocking/examples/LAG3_Moloc_2.pdb"
        ],
        [
         "5",
         "6-methylflavone_Iso0_RxDock-P6",
         "0.4205228644918284",
         "<rdkit.Chem.rdchem.Mol object at 0x7f9336967a00>",
         "rxdock",
         "/home/hitesit/Python_Packages/Docking_Pipelines/HandsFreeDocking/examples/LAG3_Moloc_2.pdb"
        ],
        [
         "6",
         "6-methylflavone_Iso0_RxDock-P7",
         "0.34311011627890464",
         "<rdkit.Chem.rdchem.Mol object at 0x7f9336967ed0>",
         "rxdock",
         "/home/hitesit/Python_Packages/Docking_Pipelines/HandsFreeDocking/examples/LAG3_Moloc_2.pdb"
        ],
        [
         "7",
         "6-methylflavone_Iso0_RxDock-P8",
         "0.34296808756922115",
         "<rdkit.Chem.rdchem.Mol object at 0x7f94097c8970>",
         "rxdock",
         "/home/hitesit/Python_Packages/Docking_Pipelines/HandsFreeDocking/examples/LAG3_Moloc_2.pdb"
        ],
        [
         "8",
         "6-methylflavone_Iso0_RxDock-P9",
         "0.30687859243867543",
         "<rdkit.Chem.rdchem.Mol object at 0x7f94097c8c10>",
         "rxdock",
         "/home/hitesit/Python_Packages/Docking_Pipelines/HandsFreeDocking/examples/LAG3_Moloc_2.pdb"
        ],
        [
         "9",
         "6-methylflavone_Iso0_RxDock-P10",
         "0.2672738867434663",
         "<rdkit.Chem.rdchem.Mol object at 0x7f94097c8040>",
         "rxdock",
         "/home/hitesit/Python_Packages/Docking_Pipelines/HandsFreeDocking/examples/LAG3_Moloc_2.pdb"
        ],
        [
         "10",
         "Chrysin_Iso0_RxDock-P1",
         "0.7793726023778447",
         "<rdkit.Chem.rdchem.Mol object at 0x7f94097c8a50>",
         "rxdock",
         "/home/hitesit/Python_Packages/Docking_Pipelines/HandsFreeDocking/examples/LAG3_Moloc_2.pdb"
        ],
        [
         "11",
         "Chrysin_Iso0_RxDock-P2",
         "0.7709929085065255",
         "<rdkit.Chem.rdchem.Mol object at 0x7f94097c8ac0>",
         "rxdock",
         "/home/hitesit/Python_Packages/Docking_Pipelines/HandsFreeDocking/examples/LAG3_Moloc_2.pdb"
        ],
        [
         "12",
         "Chrysin_Iso0_RxDock-P3",
         "0.6439979377431355",
         "<rdkit.Chem.rdchem.Mol object at 0x7f94097c8b30>",
         "rxdock",
         "/home/hitesit/Python_Packages/Docking_Pipelines/HandsFreeDocking/examples/LAG3_Moloc_2.pdb"
        ],
        [
         "13",
         "Chrysin_Iso0_RxDock-P4",
         "0.6419314200172423",
         "<rdkit.Chem.rdchem.Mol object at 0x7f94097c8ba0>",
         "rxdock",
         "/home/hitesit/Python_Packages/Docking_Pipelines/HandsFreeDocking/examples/LAG3_Moloc_2.pdb"
        ],
        [
         "14",
         "Chrysin_Iso0_RxDock-P5",
         "0.56147215598161",
         "<rdkit.Chem.rdchem.Mol object at 0x7f94097c8740>",
         "rxdock",
         "/home/hitesit/Python_Packages/Docking_Pipelines/HandsFreeDocking/examples/LAG3_Moloc_2.pdb"
        ],
        [
         "15",
         "Chrysin_Iso0_RxDock-P6",
         "0.5608614325299717",
         "<rdkit.Chem.rdchem.Mol object at 0x7f94097c8c80>",
         "rxdock",
         "/home/hitesit/Python_Packages/Docking_Pipelines/HandsFreeDocking/examples/LAG3_Moloc_2.pdb"
        ],
        [
         "16",
         "Chrysin_Iso0_RxDock-P7",
         "0.4119301275559841",
         "<rdkit.Chem.rdchem.Mol object at 0x7f94097c86d0>",
         "rxdock",
         "/home/hitesit/Python_Packages/Docking_Pipelines/HandsFreeDocking/examples/LAG3_Moloc_2.pdb"
        ],
        [
         "17",
         "Chrysin_Iso0_RxDock-P8",
         "0.40154072744264524",
         "<rdkit.Chem.rdchem.Mol object at 0x7f94097c8cf0>",
         "rxdock",
         "/home/hitesit/Python_Packages/Docking_Pipelines/HandsFreeDocking/examples/LAG3_Moloc_2.pdb"
        ],
        [
         "18",
         "Chrysin_Iso0_RxDock-P9",
         "0.39186147087772316",
         "<rdkit.Chem.rdchem.Mol object at 0x7f94097c8d60>",
         "rxdock",
         "/home/hitesit/Python_Packages/Docking_Pipelines/HandsFreeDocking/examples/LAG3_Moloc_2.pdb"
        ],
        [
         "19",
         "Chrysin_Iso0_RxDock-P10",
         "0.0",
         "<rdkit.Chem.rdchem.Mol object at 0x7f94097c8dd0>",
         "rxdock",
         "/home/hitesit/Python_Packages/Docking_Pipelines/HandsFreeDocking/examples/LAG3_Moloc_2.pdb"
        ],
        [
         "20",
         "Apigenin_Iso0_RxDock-P1",
         "0.6997797134712811",
         "<rdkit.Chem.rdchem.Mol object at 0x7f94097c8eb0>",
         "rxdock",
         "/home/hitesit/Python_Packages/Docking_Pipelines/HandsFreeDocking/examples/LAG3_Moloc_2.pdb"
        ],
        [
         "21",
         "Apigenin_Iso0_RxDock-P2",
         "0.598541649208971",
         "<rdkit.Chem.rdchem.Mol object at 0x7f94097c8f20>",
         "rxdock",
         "/home/hitesit/Python_Packages/Docking_Pipelines/HandsFreeDocking/examples/LAG3_Moloc_2.pdb"
        ],
        [
         "22",
         "Apigenin_Iso0_RxDock-P3",
         "0.5969012176121282",
         "<rdkit.Chem.rdchem.Mol object at 0x7f94097c8f90>",
         "rxdock",
         "/home/hitesit/Python_Packages/Docking_Pipelines/HandsFreeDocking/examples/LAG3_Moloc_2.pdb"
        ],
        [
         "23",
         "Apigenin_Iso0_RxDock-P4",
         "0.5941884692571757",
         "<rdkit.Chem.rdchem.Mol object at 0x7f94097c9000>",
         "rxdock",
         "/home/hitesit/Python_Packages/Docking_Pipelines/HandsFreeDocking/examples/LAG3_Moloc_2.pdb"
        ],
        [
         "24",
         "Apigenin_Iso0_RxDock-P5",
         "0.5917739811925582",
         "<rdkit.Chem.rdchem.Mol object at 0x7f94097c9070>",
         "rxdock",
         "/home/hitesit/Python_Packages/Docking_Pipelines/HandsFreeDocking/examples/LAG3_Moloc_2.pdb"
        ],
        [
         "25",
         "Apigenin_Iso0_RxDock-P6",
         "0.42933574592768187",
         "<rdkit.Chem.rdchem.Mol object at 0x7f94097c90e0>",
         "rxdock",
         "/home/hitesit/Python_Packages/Docking_Pipelines/HandsFreeDocking/examples/LAG3_Moloc_2.pdb"
        ],
        [
         "26",
         "Apigenin_Iso0_RxDock-P7",
         "0.3687889069896588",
         "<rdkit.Chem.rdchem.Mol object at 0x7f94097c9150>",
         "rxdock",
         "/home/hitesit/Python_Packages/Docking_Pipelines/HandsFreeDocking/examples/LAG3_Moloc_2.pdb"
        ],
        [
         "27",
         "Apigenin_Iso0_RxDock-P8",
         "0.33892026934324493",
         "<rdkit.Chem.rdchem.Mol object at 0x7f94097c91c0>",
         "rxdock",
         "/home/hitesit/Python_Packages/Docking_Pipelines/HandsFreeDocking/examples/LAG3_Moloc_2.pdb"
        ],
        [
         "28",
         "Apigenin_Iso0_RxDock-P9",
         "0.25016652866210376",
         "<rdkit.Chem.rdchem.Mol object at 0x7f94097c9230>",
         "rxdock",
         "/home/hitesit/Python_Packages/Docking_Pipelines/HandsFreeDocking/examples/LAG3_Moloc_2.pdb"
        ],
        [
         "29",
         "Apigenin_Iso0_RxDock-P10",
         "0.016768619608767632",
         "<rdkit.Chem.rdchem.Mol object at 0x7f94097c92a0>",
         "rxdock",
         "/home/hitesit/Python_Packages/Docking_Pipelines/HandsFreeDocking/examples/LAG3_Moloc_2.pdb"
        ],
        [
         "30",
         "Luteolin_Iso0_RxDock-P1",
         "0.9569510980949689",
         "<rdkit.Chem.rdchem.Mol object at 0x7f94097c9380>",
         "rxdock",
         "/home/hitesit/Python_Packages/Docking_Pipelines/HandsFreeDocking/examples/LAG3_Moloc_2.pdb"
        ],
        [
         "31",
         "Luteolin_Iso0_RxDock-P2",
         "0.715182727036443",
         "<rdkit.Chem.rdchem.Mol object at 0x7f94097c93f0>",
         "rxdock",
         "/home/hitesit/Python_Packages/Docking_Pipelines/HandsFreeDocking/examples/LAG3_Moloc_2.pdb"
        ],
        [
         "32",
         "Luteolin_Iso0_RxDock-P3",
         "0.6245613088229653",
         "<rdkit.Chem.rdchem.Mol object at 0x7f94097c9460>",
         "rxdock",
         "/home/hitesit/Python_Packages/Docking_Pipelines/HandsFreeDocking/examples/LAG3_Moloc_2.pdb"
        ],
        [
         "33",
         "Luteolin_Iso0_RxDock-P4",
         "0.5685096785464214",
         "<rdkit.Chem.rdchem.Mol object at 0x7f94097c94d0>",
         "rxdock",
         "/home/hitesit/Python_Packages/Docking_Pipelines/HandsFreeDocking/examples/LAG3_Moloc_2.pdb"
        ],
        [
         "34",
         "Luteolin_Iso0_RxDock-P5",
         "0.5678350421754252",
         "<rdkit.Chem.rdchem.Mol object at 0x7f94097c9540>",
         "rxdock",
         "/home/hitesit/Python_Packages/Docking_Pipelines/HandsFreeDocking/examples/LAG3_Moloc_2.pdb"
        ],
        [
         "35",
         "Luteolin_Iso0_RxDock-P6",
         "0.40457304039438524",
         "<rdkit.Chem.rdchem.Mol object at 0x7f94097c95b0>",
         "rxdock",
         "/home/hitesit/Python_Packages/Docking_Pipelines/HandsFreeDocking/examples/LAG3_Moloc_2.pdb"
        ],
        [
         "36",
         "Luteolin_Iso0_RxDock-P7",
         "0.35018314602113665",
         "<rdkit.Chem.rdchem.Mol object at 0x7f94097c9620>",
         "rxdock",
         "/home/hitesit/Python_Packages/Docking_Pipelines/HandsFreeDocking/examples/LAG3_Moloc_2.pdb"
        ],
        [
         "37",
         "Luteolin_Iso0_RxDock-P8",
         "0.17830000156231574",
         "<rdkit.Chem.rdchem.Mol object at 0x7f94097c9690>",
         "rxdock",
         "/home/hitesit/Python_Packages/Docking_Pipelines/HandsFreeDocking/examples/LAG3_Moloc_2.pdb"
        ],
        [
         "38",
         "Luteolin_Iso0_RxDock-P9",
         "0.15496468456133716",
         "<rdkit.Chem.rdchem.Mol object at 0x7f94097c9700>",
         "rxdock",
         "/home/hitesit/Python_Packages/Docking_Pipelines/HandsFreeDocking/examples/LAG3_Moloc_2.pdb"
        ],
        [
         "39",
         "Luteolin_Iso0_RxDock-P10",
         "0.04696321314390495",
         "<rdkit.Chem.rdchem.Mol object at 0x7f94097c9770>",
         "rxdock",
         "/home/hitesit/Python_Packages/Docking_Pipelines/HandsFreeDocking/examples/LAG3_Moloc_2.pdb"
        ],
        [
         "40",
         "Kaempferol_Iso0_RxDock-P1",
         "0.4337883459762556",
         "<rdkit.Chem.rdchem.Mol object at 0x7f94097c9850>",
         "rxdock",
         "/home/hitesit/Python_Packages/Docking_Pipelines/HandsFreeDocking/examples/LAG3_Moloc_2.pdb"
        ],
        [
         "41",
         "Kaempferol_Iso0_RxDock-P2",
         "0.43096907608904067",
         "<rdkit.Chem.rdchem.Mol object at 0x7f94097c98c0>",
         "rxdock",
         "/home/hitesit/Python_Packages/Docking_Pipelines/HandsFreeDocking/examples/LAG3_Moloc_2.pdb"
        ],
        [
         "42",
         "Kaempferol_Iso0_RxDock-P3",
         "0.35391139965032525",
         "<rdkit.Chem.rdchem.Mol object at 0x7f94097c9930>",
         "rxdock",
         "/home/hitesit/Python_Packages/Docking_Pipelines/HandsFreeDocking/examples/LAG3_Moloc_2.pdb"
        ],
        [
         "43",
         "Kaempferol_Iso0_RxDock-P4",
         "0.35274676423092166",
         "<rdkit.Chem.rdchem.Mol object at 0x7f94097c99a0>",
         "rxdock",
         "/home/hitesit/Python_Packages/Docking_Pipelines/HandsFreeDocking/examples/LAG3_Moloc_2.pdb"
        ],
        [
         "44",
         "Kaempferol_Iso0_RxDock-P5",
         "0.34725025316617497",
         "<rdkit.Chem.rdchem.Mol object at 0x7f94097c9a10>",
         "rxdock",
         "/home/hitesit/Python_Packages/Docking_Pipelines/HandsFreeDocking/examples/LAG3_Moloc_2.pdb"
        ],
        [
         "45",
         "Kaempferol_Iso0_RxDock-P6",
         "0.3388847621658242",
         "<rdkit.Chem.rdchem.Mol object at 0x7f94097c9a80>",
         "rxdock",
         "/home/hitesit/Python_Packages/Docking_Pipelines/HandsFreeDocking/examples/LAG3_Moloc_2.pdb"
        ],
        [
         "46",
         "Kaempferol_Iso0_RxDock-P7",
         "0.33792606837546135",
         "<rdkit.Chem.rdchem.Mol object at 0x7f94097c9af0>",
         "rxdock",
         "/home/hitesit/Python_Packages/Docking_Pipelines/HandsFreeDocking/examples/LAG3_Moloc_2.pdb"
        ],
        [
         "47",
         "Kaempferol_Iso0_RxDock-P8",
         "0.32512218019750505",
         "<rdkit.Chem.rdchem.Mol object at 0x7f94097c9b60>",
         "rxdock",
         "/home/hitesit/Python_Packages/Docking_Pipelines/HandsFreeDocking/examples/LAG3_Moloc_2.pdb"
        ],
        [
         "48",
         "Kaempferol_Iso0_RxDock-P9",
         "0.2761790868406139",
         "<rdkit.Chem.rdchem.Mol object at 0x7f94097c9bd0>",
         "rxdock",
         "/home/hitesit/Python_Packages/Docking_Pipelines/HandsFreeDocking/examples/LAG3_Moloc_2.pdb"
        ],
        [
         "49",
         "Kaempferol_Iso0_RxDock-P10",
         "0.22680280591918844",
         "<rdkit.Chem.rdchem.Mol object at 0x7f94097c9c40>",
         "rxdock",
         "/home/hitesit/Python_Packages/Docking_Pipelines/HandsFreeDocking/examples/LAG3_Moloc_2.pdb"
        ]
       ],
       "shape": {
        "columns": 5,
        "rows": 80
       }
      },
      "text/html": [
       "<div>\n",
       "<style scoped>\n",
       "    .dataframe tbody tr th:only-of-type {\n",
       "        vertical-align: middle;\n",
       "    }\n",
       "\n",
       "    .dataframe tbody tr th {\n",
       "        vertical-align: top;\n",
       "    }\n",
       "\n",
       "    .dataframe thead th {\n",
       "        text-align: right;\n",
       "    }\n",
       "</style>\n",
       "<table border=\"1\" class=\"dataframe\">\n",
       "  <thead>\n",
       "    <tr style=\"text-align: right;\">\n",
       "      <th></th>\n",
       "      <th>ID</th>\n",
       "      <th>Score</th>\n",
       "      <th>Molecule</th>\n",
       "      <th>Software</th>\n",
       "      <th>Protein_Path</th>\n",
       "    </tr>\n",
       "  </thead>\n",
       "  <tbody>\n",
       "    <tr>\n",
       "      <th>0</th>\n",
       "      <td>6-methylflavone_Iso0_RxDock-P1</td>\n",
       "      <td>0.472285</td>\n",
       "      <td>&lt;rdkit.Chem.rdchem.Mol object at 0x7f93368d9150&gt;</td>\n",
       "      <td>rxdock</td>\n",
       "      <td>/home/hitesit/Python_Packages/Docking_Pipeline...</td>\n",
       "    </tr>\n",
       "    <tr>\n",
       "      <th>1</th>\n",
       "      <td>6-methylflavone_Iso0_RxDock-P2</td>\n",
       "      <td>0.472051</td>\n",
       "      <td>&lt;rdkit.Chem.rdchem.Mol object at 0x7f9336c0d310&gt;</td>\n",
       "      <td>rxdock</td>\n",
       "      <td>/home/hitesit/Python_Packages/Docking_Pipeline...</td>\n",
       "    </tr>\n",
       "    <tr>\n",
       "      <th>2</th>\n",
       "      <td>6-methylflavone_Iso0_RxDock-P3</td>\n",
       "      <td>0.469594</td>\n",
       "      <td>&lt;rdkit.Chem.rdchem.Mol object at 0x7f9336c0d230&gt;</td>\n",
       "      <td>rxdock</td>\n",
       "      <td>/home/hitesit/Python_Packages/Docking_Pipeline...</td>\n",
       "    </tr>\n",
       "    <tr>\n",
       "      <th>3</th>\n",
       "      <td>6-methylflavone_Iso0_RxDock-P4</td>\n",
       "      <td>0.469168</td>\n",
       "      <td>&lt;rdkit.Chem.rdchem.Mol object at 0x7f9336966730&gt;</td>\n",
       "      <td>rxdock</td>\n",
       "      <td>/home/hitesit/Python_Packages/Docking_Pipeline...</td>\n",
       "    </tr>\n",
       "    <tr>\n",
       "      <th>4</th>\n",
       "      <td>6-methylflavone_Iso0_RxDock-P5</td>\n",
       "      <td>0.425125</td>\n",
       "      <td>&lt;rdkit.Chem.rdchem.Mol object at 0x7f93369677d0&gt;</td>\n",
       "      <td>rxdock</td>\n",
       "      <td>/home/hitesit/Python_Packages/Docking_Pipeline...</td>\n",
       "    </tr>\n",
       "    <tr>\n",
       "      <th>...</th>\n",
       "      <td>...</td>\n",
       "      <td>...</td>\n",
       "      <td>...</td>\n",
       "      <td>...</td>\n",
       "      <td>...</td>\n",
       "    </tr>\n",
       "    <tr>\n",
       "      <th>75</th>\n",
       "      <td>Eriodictyol_Iso0_Plants-P6</td>\n",
       "      <td>0.794330</td>\n",
       "      <td>&lt;rdkit.Chem.rdchem.Mol object at 0x7f9336967450&gt;</td>\n",
       "      <td>plants</td>\n",
       "      <td>/home/hitesit/Python_Packages/Docking_Pipeline...</td>\n",
       "    </tr>\n",
       "    <tr>\n",
       "      <th>76</th>\n",
       "      <td>Eriodictyol_Iso0_Plants-P7</td>\n",
       "      <td>0.948057</td>\n",
       "      <td>&lt;rdkit.Chem.rdchem.Mol object at 0x7f9336967370&gt;</td>\n",
       "      <td>plants</td>\n",
       "      <td>/home/hitesit/Python_Packages/Docking_Pipeline...</td>\n",
       "    </tr>\n",
       "    <tr>\n",
       "      <th>77</th>\n",
       "      <td>Eriodictyol_Iso0_Plants-P8</td>\n",
       "      <td>0.949213</td>\n",
       "      <td>&lt;rdkit.Chem.rdchem.Mol object at 0x7f9336967610&gt;</td>\n",
       "      <td>plants</td>\n",
       "      <td>/home/hitesit/Python_Packages/Docking_Pipeline...</td>\n",
       "    </tr>\n",
       "    <tr>\n",
       "      <th>78</th>\n",
       "      <td>Eriodictyol_Iso0_Plants-P9</td>\n",
       "      <td>0.971715</td>\n",
       "      <td>&lt;rdkit.Chem.rdchem.Mol object at 0x7f9336966f10&gt;</td>\n",
       "      <td>plants</td>\n",
       "      <td>/home/hitesit/Python_Packages/Docking_Pipeline...</td>\n",
       "    </tr>\n",
       "    <tr>\n",
       "      <th>79</th>\n",
       "      <td>Eriodictyol_Iso0_Plants-P10</td>\n",
       "      <td>1.000000</td>\n",
       "      <td>&lt;rdkit.Chem.rdchem.Mol object at 0x7f9336966d50&gt;</td>\n",
       "      <td>plants</td>\n",
       "      <td>/home/hitesit/Python_Packages/Docking_Pipeline...</td>\n",
       "    </tr>\n",
       "  </tbody>\n",
       "</table>\n",
       "<p>80 rows × 5 columns</p>\n",
       "</div>"
      ],
      "text/plain": [
       "                                ID     Score  \\\n",
       "0   6-methylflavone_Iso0_RxDock-P1  0.472285   \n",
       "1   6-methylflavone_Iso0_RxDock-P2  0.472051   \n",
       "2   6-methylflavone_Iso0_RxDock-P3  0.469594   \n",
       "3   6-methylflavone_Iso0_RxDock-P4  0.469168   \n",
       "4   6-methylflavone_Iso0_RxDock-P5  0.425125   \n",
       "..                             ...       ...   \n",
       "75      Eriodictyol_Iso0_Plants-P6  0.794330   \n",
       "76      Eriodictyol_Iso0_Plants-P7  0.948057   \n",
       "77      Eriodictyol_Iso0_Plants-P8  0.949213   \n",
       "78      Eriodictyol_Iso0_Plants-P9  0.971715   \n",
       "79     Eriodictyol_Iso0_Plants-P10  1.000000   \n",
       "\n",
       "                                            Molecule Software  \\\n",
       "0   <rdkit.Chem.rdchem.Mol object at 0x7f93368d9150>   rxdock   \n",
       "1   <rdkit.Chem.rdchem.Mol object at 0x7f9336c0d310>   rxdock   \n",
       "2   <rdkit.Chem.rdchem.Mol object at 0x7f9336c0d230>   rxdock   \n",
       "3   <rdkit.Chem.rdchem.Mol object at 0x7f9336966730>   rxdock   \n",
       "4   <rdkit.Chem.rdchem.Mol object at 0x7f93369677d0>   rxdock   \n",
       "..                                               ...      ...   \n",
       "75  <rdkit.Chem.rdchem.Mol object at 0x7f9336967450>   plants   \n",
       "76  <rdkit.Chem.rdchem.Mol object at 0x7f9336967370>   plants   \n",
       "77  <rdkit.Chem.rdchem.Mol object at 0x7f9336967610>   plants   \n",
       "78  <rdkit.Chem.rdchem.Mol object at 0x7f9336966f10>   plants   \n",
       "79  <rdkit.Chem.rdchem.Mol object at 0x7f9336966d50>   plants   \n",
       "\n",
       "                                         Protein_Path  \n",
       "0   /home/hitesit/Python_Packages/Docking_Pipeline...  \n",
       "1   /home/hitesit/Python_Packages/Docking_Pipeline...  \n",
       "2   /home/hitesit/Python_Packages/Docking_Pipeline...  \n",
       "3   /home/hitesit/Python_Packages/Docking_Pipeline...  \n",
       "4   /home/hitesit/Python_Packages/Docking_Pipeline...  \n",
       "..                                                ...  \n",
       "75  /home/hitesit/Python_Packages/Docking_Pipeline...  \n",
       "76  /home/hitesit/Python_Packages/Docking_Pipeline...  \n",
       "77  /home/hitesit/Python_Packages/Docking_Pipeline...  \n",
       "78  /home/hitesit/Python_Packages/Docking_Pipeline...  \n",
       "79  /home/hitesit/Python_Packages/Docking_Pipeline...  \n",
       "\n",
       "[80 rows x 5 columns]"
      ]
     },
     "execution_count": 4,
     "metadata": {},
     "output_type": "execute_result"
    }
   ],
   "source": [
    "FULL_DF"
   ]
  },
  {
   "cell_type": "code",
   "execution_count": null,
   "id": "f94789e0",
   "metadata": {},
   "outputs": [],
   "source": []
  },
  {
   "cell_type": "code",
   "execution_count": null,
   "id": "0827a032",
   "metadata": {},
   "outputs": [],
   "source": []
  },
  {
   "cell_type": "code",
   "execution_count": null,
   "id": "697ce5be",
   "metadata": {},
   "outputs": [],
   "source": [
    "FULL_DF = FULL_DF[~FULL_DF['ID'].str.contains('L17')]\n",
    "lig_name_series = FULL_DF[\"ID\"].str.split(\"_\").str[0]\n",
    "\n",
    "FULL_DF.insert(1, \"Lig_Name\", lig_name_series)"
   ]
  },
  {
   "cell_type": "code",
   "execution_count": null,
   "id": "add66f8d",
   "metadata": {},
   "outputs": [],
   "source": [
    "ALL_MOLS = FULL_DF[\"Molecule\"].tolist()"
   ]
  },
  {
   "cell_type": "code",
   "execution_count": null,
   "id": "40cac38ee885fefa",
   "metadata": {},
   "outputs": [],
   "source": [
    "# Compute the distance matrix using your existing PairwiseMatrixComputer\n",
    "computer = PairwiseMatrixComputer(ALL_MOLS, n_jobs=8, timeout=60)\n",
    "rmsd_func = partial(calc_rmsd_mcs_with_timeout, timeout=60)\n",
    "distance_matrix = computer.compute_matrix(rmsd_func)"
   ]
  },
  {
   "cell_type": "code",
   "execution_count": null,
   "id": "84547d02",
   "metadata": {},
   "outputs": [],
   "source": [
    "# Initialize the hierarchical clustering\n",
    "clustering = OptimizedHierarchicalClustering(\n",
    "    linkage_methods=('ward', 'complete', 'average'),\n",
    "    use_dimensionality_reduction=True,\n",
    "    verbose=True\n",
    ")\n",
    "\n",
    "# Perform hierarchical clustering with automatic parameter optimization\n",
    "labels = clustering.fit(distance_matrix)"
   ]
  },
  {
   "cell_type": "code",
   "execution_count": null,
   "id": "27237b64",
   "metadata": {},
   "outputs": [],
   "source": [
    "# Extract clusters at different distance thresholds\n",
    "tight_clusters = clustering.get_clusters_by_distance(0.4)  # More stringent similarity\n",
    "loose_clusters = clustering.get_clusters_by_distance(1.5)  # More relaxed similarity\n",
    "\n",
    "# Compare different clustering solutions\n",
    "print(f\"Optimal clustering has {len(np.unique(labels))} clusters\")\n",
    "print(f\"Tight clustering has {len(np.unique(tight_clusters))} clusters\")\n",
    "print(f\"Loose clustering has {len(np.unique(loose_clusters))} clusters\")\n",
    "\n",
    "# custom_labels = clustering.get_clusters_constrained(\n",
    "#     distance_threshold=0.4,\n",
    "#     min_clusters=3,\n",
    "#     max_clusters=10\n",
    "# )\n",
    "# print(f\"Custom clustering has {len(np.unique(custom_labels))} clusters\")"
   ]
  },
  {
   "cell_type": "code",
   "execution_count": null,
   "id": "94de99a1",
   "metadata": {},
   "outputs": [],
   "source": [
    "FULL_DF[\"Type_3\"] = tight_clusters"
   ]
  },
  {
   "cell_type": "code",
   "execution_count": null,
   "id": "d35c7809",
   "metadata": {},
   "outputs": [],
   "source": [
    "from pymol import cmd\n",
    "cmd.reinitialize()\n",
    "cmd.load(protein_pdb)\n",
    "\n",
    "def tmp_save(mol: Chem.rdchem.Mol):\n",
    "    with NamedTemporaryFile(suffix=\".sdf\", delete=False) as f:\n",
    "        dm.to_sdf(mol, f.name)\n",
    "        return f.name\n",
    "\n",
    "for cluster, df in FULL_DF.groupby(\"Type_3\"):\n",
    "    IDs = []\n",
    "    for ndx, sub_df in df.groupby(\"Lig_Name\"):\n",
    "        sub_df.sort_values(by=\"Score\", ascending=False, inplace=True)\n",
    "        TOP = sub_df.iloc[0]\n",
    "        \n",
    "        ID = TOP[\"ID\"]\n",
    "        IDs.append(ID)\n",
    "        TMP_MOL = tmp_save(TOP[\"Molecule\"])\n",
    "    \n",
    "        cmd.load(TMP_MOL, ID)\n",
    "    \n",
    "    cmd.group(f\"Cluster_{cluster}\", \" \".join(IDs))\n",
    "\n",
    "cmd.save(\"TMP.pse\")"
   ]
  },
  {
   "cell_type": "code",
   "execution_count": null,
   "id": "ee190115",
   "metadata": {},
   "outputs": [],
   "source": []
  },
  {
   "cell_type": "markdown",
   "id": "19dd2689",
   "metadata": {},
   "source": [
    "## Paiwise Calculation"
   ]
  },
  {
   "cell_type": "markdown",
   "id": "23e5a000",
   "metadata": {},
   "source": [
    "```python\n",
    "clustering_kmed = OptimizedKMedoidsClustering(\n",
    "    k_range=(2, 20),\n",
    "    use_dimensionality_reduction=True,\n",
    "    verbose=True\n",
    ")\n",
    "labels_kmed = clustering_kmed.fit(rmsd_matrix)\n",
    "results_kmed = clustering_kmed.get_results()\n",
    "```"
   ]
  },
  {
   "cell_type": "markdown",
   "id": "6cf83a21",
   "metadata": {},
   "source": [
    "```python\n",
    "clustering_dbscan = OptimizedDBSCANClustering(\n",
    "    eps_range=(0.5, 5.0, 0.5),\n",
    "    min_samples_range=(2, 15),\n",
    "    max_noise_percent=15.0,\n",
    "    max_clusters = 10,\n",
    "    use_dimensionality_reduction=True,\n",
    "    verbose=True\n",
    ")\n",
    "labels_dbscan = clustering_dbscan.fit(rmsd_matrix)\n",
    "results_dbscan = clustering_dbscan.get_results()\n",
    "```"
   ]
  },
  {
   "cell_type": "code",
   "execution_count": null,
   "id": "de4b992d",
   "metadata": {},
   "outputs": [],
   "source": [
    "computer = PairwiseMatrixComputer(ALL_MOLS, n_jobs=8, timeout=60)\n",
    "rmsd_funct = partial(calc_rmsd_mcs_with_timeout, timeout=60)\n",
    "rmsd_matrix = computer.compute_matrix(rmsd_funct)"
   ]
  },
  {
   "cell_type": "code",
   "execution_count": null,
   "id": "b4c5de7f",
   "metadata": {},
   "outputs": [],
   "source": [
    "clustering_dbscan = OptimizedDBSCANClustering(\n",
    "    eps_range=(0.5, 5.0, 0.5),\n",
    "    min_samples_range=(2, 15),\n",
    "    max_noise_percent=15.0,\n",
    "    max_clusters = 10,\n",
    "    use_dimensionality_reduction=True,\n",
    "    verbose=True\n",
    ")\n",
    "labels_dbscan = clustering_dbscan.fit(rmsd_matrix)\n",
    "results_dbscan = clustering_dbscan.get_results()"
   ]
  },
  {
   "cell_type": "code",
   "execution_count": null,
   "id": "48304416",
   "metadata": {},
   "outputs": [],
   "source": [
    "FULL_DF[\"Cluster_DBSCAN\"] = labels_dbscan"
   ]
  },
  {
   "cell_type": "code",
   "execution_count": null,
   "id": "ae6af27b",
   "metadata": {},
   "outputs": [],
   "source": [
    "from pymol import cmd\n",
    "cmd.reinitialize()\n",
    "cmd.load(protein_pdb)\n",
    "\n",
    "def tmp_save(mol: Chem.rdchem.Mol):\n",
    "    with NamedTemporaryFile(suffix=\".sdf\", delete=False) as f:\n",
    "        dm.to_sdf(mol, f.name)\n",
    "        return f.name\n",
    "\n",
    "for cluster, df in FULL_DF.groupby(\"Cluster_DBSCAN\"):\n",
    "    IDs = []\n",
    "    for ndx, sub_df in df.groupby(\"Lig_Name\"):\n",
    "        sub_df.sort_values(by=\"Score\", ascending=False, inplace=True)\n",
    "        TOP = sub_df.iloc[0]\n",
    "        \n",
    "        ID = TOP[\"ID\"]\n",
    "        IDs.append(ID)\n",
    "        TMP_MOL = tmp_save(TOP[\"Molecule\"])\n",
    "    \n",
    "        cmd.load(TMP_MOL, ID)\n",
    "    \n",
    "    cmd.group(f\"Cluster_{cluster}\", \" \".join(IDs))\n",
    "\n",
    "cmd.save(\"TMP.pse\")"
   ]
  },
  {
   "cell_type": "markdown",
   "id": "d99bbd5a",
   "metadata": {},
   "source": [
    "## Protein Minimization"
   ]
  },
  {
   "cell_type": "code",
   "execution_count": null,
   "id": "f2dd6ec9",
   "metadata": {},
   "outputs": [],
   "source": [
    "from HandsFreeDocking.tools.Protein_Minimization import ProteinMinimizer"
   ]
  },
  {
   "cell_type": "markdown",
   "id": "f97b64b7",
   "metadata": {},
   "source": [
    "```python\n",
    "protein_minimizer = ProteinMinimizer(FULL_DF, \"Molecule\", \"PDB_Path\")\n",
    "protein_minimizer(protein_pdb, protein_pdb)\n",
    "```"
   ]
  },
  {
   "cell_type": "code",
   "execution_count": null,
   "id": "c597f042",
   "metadata": {},
   "outputs": [],
   "source": []
  }
 ],
 "metadata": {
  "kernelspec": {
   "display_name": "cheminf_3_11",
   "language": "python",
   "name": "python3"
  },
  "language_info": {
   "codemirror_mode": {
    "name": "ipython",
    "version": 3
   },
   "file_extension": ".py",
   "mimetype": "text/x-python",
   "name": "python",
   "nbconvert_exporter": "python",
   "pygments_lexer": "ipython3",
   "version": "3.11.8"
  }
 },
 "nbformat": 4,
 "nbformat_minor": 5
}
