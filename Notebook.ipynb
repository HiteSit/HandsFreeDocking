{
 "cells": [
  {
   "cell_type": "code",
   "id": "983d6300",
   "metadata": {
    "ExecuteTime": {
     "end_time": "2025-05-19T13:40:24.361442Z",
     "start_time": "2025-05-19T13:39:52.159278Z"
    }
   },
   "source": [
    "import os\n",
    "import shutil\n",
    "import logging\n",
    "import tabulate\n",
    "import cloudpickle as pickle\n",
    "import pandas as pd\n",
    "import numpy as np\n",
    "from functools import partial\n",
    "import time\n",
    "from pathlib import Path\n",
    "import datamol as dm\n",
    "from IPython.display import clear_output\n",
    "from tempfile import NamedTemporaryFile, TemporaryDirectory\n",
    "from itertools import combinations\n",
    "from joblib import Parallel, delayed\n",
    "from rdkit import Chem\n",
    "from rdkit.Chem import rdFMCS\n",
    "import concurrent.futures\n",
    "from spyrmsd import rmsd, molecule\n",
    "from espsim import GetEspSim\n",
    "from sklearn.preprocessing import MinMaxScaler\n",
    "from sklearn.cluster import DBSCAN\n",
    "\n",
    "import oddt\n",
    "import oddt.fingerprints\n",
    "import oddt.shape\n",
    "import oddt.toolkits.rdk\n",
    "\n",
    "from HandsFreeDocking.Wrapper_Docking import PipelineDocking\n",
    "from HandsFreeDocking.analysis.clustering import (\n",
    "    OptimizedDBSCANClustering, PairwiseMatrixComputer, OptimizedKMedoidsClustering,\n",
    "    calc_rmsd_mcs_with_timeout, calc_usr_similarity, calc_splif\n",
    ")\n",
    "\n",
    "from HandsFreeDocking.tools.Protein_Minimization import ProteinMinimizer\n",
    "from HandsFreeDocking.analysis.clustering import OptimizedHierarchicalClustering"
   ],
   "outputs": [],
   "execution_count": 1
  },
  {
   "cell_type": "code",
   "id": "33df468f",
   "metadata": {
    "ExecuteTime": {
     "end_time": "2025-05-19T13:33:48.272973Z",
     "start_time": "2025-05-19T13:33:48.264493Z"
    }
   },
   "source": [
    "protein_pdb = Path(\"./examples/LAG3_Moloc_2.pdb\")\n",
    "ligands_sdf = Path(\"./examples/Ligands_To_Dock.sdf\")\n",
    "cystal_sdf = Path(\"./examples/Fake_Crystal.sdf\")\n",
    "\n",
    "docking_pkl = Path(\"./examples/TMP_Docking/docking_results.pkl\")\n",
    "docking_dir = Path(\"./examples/TMP_Docking\")\n",
    "docking_dir_RXDOCK = Path(\"./examples/TMP_Docking_RXDOCK\")\n",
    "docking_pkl_RXDOCK = docking_dir_RXDOCK / \"docking_results.pkl\"\n",
    "\n",
    "docking_dir_PLANTS = Path(\"./examples/TMP_Docking_PLANTS\")\n",
    "docking_pkl_PLANTS = docking_dir_PLANTS / \"docking_results.pkl\"\n",
    "\n",
    "# Check if all files exist\n",
    "files_to_check = [protein_pdb, ligands_sdf, cystal_sdf]\n",
    "all_files_exist = all(file.exists() for file in files_to_check)\n",
    "\n",
    "RERUN = True"
   ],
   "outputs": [],
   "execution_count": 3
  },
  {
   "cell_type": "markdown",
   "id": "a2c5eb95",
   "metadata": {},
   "source": [
    "from HandsFreeDocking.RxDock_Pipeline import RxDock_Docking\n",
    "from HandsFreeDocking.Plants_Pipeline import Plants_Docking"
   ]
  },
  {
   "cell_type": "markdown",
   "id": "aff699cb",
   "metadata": {},
   "source": [
    "rxdock_pipeline = RxDock_Docking(docking_dir_RXDOCK, protein_pdb, cystal_sdf, ligands_sdf, toolkit=\"openeye\")\n",
    "rxdock_pipeline.main(n_poses=10, n_cpus=2)"
   ]
  },
  {
   "cell_type": "markdown",
   "id": "ae280f17",
   "metadata": {},
   "source": [
    "plants_pipeline = Plants_Docking(docking_dir_PLANTS, protein_pdb, cystal_sdf, ligands_sdf, toolkit=\"openeye\")\n",
    "plants_pipeline.main(n_confs=10, n_cpus=2)"
   ]
  },
  {
   "cell_type": "code",
   "id": "2ace6566",
   "metadata": {
    "ExecuteTime": {
     "end_time": "2025-05-19T13:33:49.700947Z",
     "start_time": "2025-05-19T13:33:49.697824Z"
    }
   },
   "source": [],
   "outputs": [],
   "execution_count": null
  },
  {
   "cell_type": "code",
   "id": "44ea000b",
   "metadata": {
    "ExecuteTime": {
     "end_time": "2025-05-19T13:33:51.736206Z",
     "start_time": "2025-05-19T13:33:51.732412Z"
    }
   },
   "source": [],
   "outputs": [],
   "execution_count": null
  },
  {
   "cell_type": "markdown",
   "id": "585e5847",
   "metadata": {},
   "source": [
    "---"
   ]
  },
  {
   "cell_type": "code",
   "execution_count": 3,
   "id": "c4c4f2a1",
   "metadata": {},
   "outputs": [
    {
     "name": "stderr",
     "output_type": "stream",
     "text": [
      "2025-05-19 14:46:24,717 - HandsFreeDocking.Wrapper_Docking - INFO - Using SDF input directly: examples/Ligands_To_Dock.sdf\n",
      "2025-05-19 14:46:24,718 - HandsFreeDocking.Wrapper_Docking - INFO - Starting Gnina docking\n",
      "2025-05-19 14:46:27,618 - HandsFreeDocking.Gnina_Pipeline - INFO - Preparing protein using Protoss\n"
     ]
    },
    {
     "name": "stdout",
     "output_type": "stream",
     "text": [
      "Preparing protein with ProtoSS ...\n",
      "Job 378840a6-ddc4-48de-bc56-0cd9eb2f7190 completed with success\n"
     ]
    },
    {
     "name": "stderr",
     "output_type": "stream",
     "text": [
      "2025-05-19 14:46:28,429 - HandsFreeDocking.Gnina_Pipeline - INFO - Extracting SMILES from SDF file to prepare with OpenEye toolkit\n",
      "2025-05-19 14:46:28,455 - HandsFreeDocking.Gnina_Pipeline - INFO - Generating 3D structures with OpenEye toolkit\n",
      "2025-05-19 14:46:28,750 - HandsFreeDocking.tools.OpeneEye_Utils - INFO - Protonating the molecule\n",
      "2025-05-19 14:46:28,868 - HandsFreeDocking.tools.OpeneEye_Utils - INFO - Generating 3D coordinates\n",
      "2025-05-19 14:46:38,032 - HandsFreeDocking.Gnina_Pipeline - INFO - Generated 1 stereoisomers for Apigenin\n",
      "2025-05-19 14:46:38,250 - HandsFreeDocking.tools.OpeneEye_Utils - INFO - Protonating the molecule\n",
      "2025-05-19 14:46:38,254 - HandsFreeDocking.tools.OpeneEye_Utils - INFO - Generating 3D coordinates\n",
      "2025-05-19 14:46:38,287 - HandsFreeDocking.Gnina_Pipeline - INFO - Generated 1 stereoisomers for 6-methylflavone\n",
      "2025-05-19 14:46:38,450 - HandsFreeDocking.tools.OpeneEye_Utils - INFO - Protonating the molecule\n",
      "2025-05-19 14:46:38,454 - HandsFreeDocking.tools.OpeneEye_Utils - INFO - Generating 3D coordinates\n",
      "2025-05-19 14:46:38,478 - HandsFreeDocking.Gnina_Pipeline - INFO - Generated 1 stereoisomers for Chrysin\n",
      "2025-05-19 14:46:38,693 - HandsFreeDocking.tools.OpeneEye_Utils - INFO - Protonating the molecule\n",
      "2025-05-19 14:46:38,743 - HandsFreeDocking.tools.OpeneEye_Utils - INFO - Generating 3D coordinates\n",
      "2025-05-19 14:46:38,786 - HandsFreeDocking.Gnina_Pipeline - INFO - Generated 1 stereoisomers for Luteolin\n",
      "2025-05-19 14:46:38,956 - HandsFreeDocking.tools.OpeneEye_Utils - INFO - Protonating the molecule\n",
      "2025-05-19 14:46:38,982 - HandsFreeDocking.tools.OpeneEye_Utils - INFO - Generating 3D coordinates\n",
      "2025-05-19 14:46:39,011 - HandsFreeDocking.Gnina_Pipeline - INFO - Generated 1 stereoisomers for Kaempferol\n",
      "2025-05-19 14:46:39,233 - HandsFreeDocking.tools.OpeneEye_Utils - INFO - Protonating the molecule\n",
      "2025-05-19 14:46:39,267 - HandsFreeDocking.tools.OpeneEye_Utils - INFO - Generating 3D coordinates\n",
      "2025-05-19 14:46:39,289 - HandsFreeDocking.tools.OpeneEye_Utils - INFO - Generating 3D coordinates\n",
      "2025-05-19 14:46:39,313 - HandsFreeDocking.Gnina_Pipeline - INFO - Generated 2 stereoisomers for Eriodictyol\n",
      "2025-05-19 14:46:39,516 - HandsFreeDocking.tools.OpeneEye_Utils - INFO - Protonating the molecule\n",
      "2025-05-19 14:46:39,543 - HandsFreeDocking.tools.OpeneEye_Utils - INFO - Generating 3D coordinates\n",
      "2025-05-19 14:46:39,566 - HandsFreeDocking.Gnina_Pipeline - INFO - Generated 1 stereoisomers for Fisetin\n",
      "2025-05-19 14:46:39,568 - HandsFreeDocking.Gnina_Pipeline - INFO - Running 8 gnina commands\n",
      "[14:55:12] Warning: molecule is tagged as 2D, but at least one Z coordinate is not zero. Marking the mol as 3D.\n",
      "[14:55:12] Warning: molecule is tagged as 2D, but at least one Z coordinate is not zero. Marking the mol as 3D.\n",
      "[14:55:12] Warning: molecule is tagged as 2D, but at least one Z coordinate is not zero. Marking the mol as 3D.\n",
      "[14:55:12] Warning: molecule is tagged as 2D, but at least one Z coordinate is not zero. Marking the mol as 3D.\n",
      "[14:55:12] Warning: molecule is tagged as 2D, but at least one Z coordinate is not zero. Marking the mol as 3D.\n",
      "[14:55:12] Warning: molecule is tagged as 2D, but at least one Z coordinate is not zero. Marking the mol as 3D.\n",
      "[14:55:12] Warning: molecule is tagged as 2D, but at least one Z coordinate is not zero. Marking the mol as 3D.\n",
      "[14:55:12] Warning: molecule is tagged as 2D, but at least one Z coordinate is not zero. Marking the mol as 3D.\n",
      "[14:55:12] Warning: molecule is tagged as 2D, but at least one Z coordinate is not zero. Marking the mol as 3D.\n",
      "[14:55:12] Warning: molecule is tagged as 2D, but at least one Z coordinate is not zero. Marking the mol as 3D.\n",
      "[14:55:12] Warning: molecule is tagged as 2D, but at least one Z coordinate is not zero. Marking the mol as 3D.\n",
      "[14:55:12] Warning: molecule is tagged as 2D, but at least one Z coordinate is not zero. Marking the mol as 3D.\n",
      "[14:55:12] Warning: molecule is tagged as 2D, but at least one Z coordinate is not zero. Marking the mol as 3D.\n",
      "[14:55:12] Warning: molecule is tagged as 2D, but at least one Z coordinate is not zero. Marking the mol as 3D.\n",
      "[14:55:12] Warning: molecule is tagged as 2D, but at least one Z coordinate is not zero. Marking the mol as 3D.\n",
      "[14:55:12] Warning: molecule is tagged as 2D, but at least one Z coordinate is not zero. Marking the mol as 3D.\n",
      "[14:55:12] Warning: molecule is tagged as 2D, but at least one Z coordinate is not zero. Marking the mol as 3D.\n",
      "[14:55:12] Warning: molecule is tagged as 2D, but at least one Z coordinate is not zero. Marking the mol as 3D.\n",
      "[14:55:12] Warning: molecule is tagged as 2D, but at least one Z coordinate is not zero. Marking the mol as 3D.\n",
      "[14:55:12] Warning: molecule is tagged as 2D, but at least one Z coordinate is not zero. Marking the mol as 3D.\n",
      "[14:55:12] Warning: molecule is tagged as 2D, but at least one Z coordinate is not zero. Marking the mol as 3D.\n",
      "[14:55:12] Warning: molecule is tagged as 2D, but at least one Z coordinate is not zero. Marking the mol as 3D.\n",
      "[14:55:12] Warning: molecule is tagged as 2D, but at least one Z coordinate is not zero. Marking the mol as 3D.\n",
      "[14:55:12] Warning: molecule is tagged as 2D, but at least one Z coordinate is not zero. Marking the mol as 3D.\n",
      "[14:55:12] Warning: molecule is tagged as 2D, but at least one Z coordinate is not zero. Marking the mol as 3D.\n",
      "[14:55:12] Warning: molecule is tagged as 2D, but at least one Z coordinate is not zero. Marking the mol as 3D.\n",
      "[14:55:12] Warning: molecule is tagged as 2D, but at least one Z coordinate is not zero. Marking the mol as 3D.\n",
      "[14:55:12] Warning: molecule is tagged as 2D, but at least one Z coordinate is not zero. Marking the mol as 3D.\n",
      "[14:55:12] Warning: molecule is tagged as 2D, but at least one Z coordinate is not zero. Marking the mol as 3D.\n",
      "[14:55:12] Warning: molecule is tagged as 2D, but at least one Z coordinate is not zero. Marking the mol as 3D.\n",
      "[14:55:12] Warning: molecule is tagged as 2D, but at least one Z coordinate is not zero. Marking the mol as 3D.\n",
      "[14:55:12] Warning: molecule is tagged as 2D, but at least one Z coordinate is not zero. Marking the mol as 3D.\n",
      "[14:55:12] Warning: molecule is tagged as 2D, but at least one Z coordinate is not zero. Marking the mol as 3D.\n",
      "[14:55:12] Warning: molecule is tagged as 2D, but at least one Z coordinate is not zero. Marking the mol as 3D.\n",
      "[14:55:12] Warning: molecule is tagged as 2D, but at least one Z coordinate is not zero. Marking the mol as 3D.\n",
      "[14:55:12] Warning: molecule is tagged as 2D, but at least one Z coordinate is not zero. Marking the mol as 3D.\n",
      "[14:55:12] Warning: molecule is tagged as 2D, but at least one Z coordinate is not zero. Marking the mol as 3D.\n",
      "[14:55:12] Warning: molecule is tagged as 2D, but at least one Z coordinate is not zero. Marking the mol as 3D.\n",
      "[14:55:12] Warning: molecule is tagged as 2D, but at least one Z coordinate is not zero. Marking the mol as 3D.\n",
      "[14:55:12] Warning: molecule is tagged as 2D, but at least one Z coordinate is not zero. Marking the mol as 3D.\n",
      "[14:55:12] Warning: molecule is tagged as 2D, but at least one Z coordinate is not zero. Marking the mol as 3D.\n",
      "[14:55:12] Warning: molecule is tagged as 2D, but at least one Z coordinate is not zero. Marking the mol as 3D.\n",
      "[14:55:12] Warning: molecule is tagged as 2D, but at least one Z coordinate is not zero. Marking the mol as 3D.\n",
      "[14:55:12] Warning: molecule is tagged as 2D, but at least one Z coordinate is not zero. Marking the mol as 3D.\n",
      "[14:55:12] Warning: molecule is tagged as 2D, but at least one Z coordinate is not zero. Marking the mol as 3D.\n",
      "[14:55:12] Warning: molecule is tagged as 2D, but at least one Z coordinate is not zero. Marking the mol as 3D.\n",
      "[14:55:12] Warning: molecule is tagged as 2D, but at least one Z coordinate is not zero. Marking the mol as 3D.\n",
      "[14:55:12] Warning: molecule is tagged as 2D, but at least one Z coordinate is not zero. Marking the mol as 3D.\n",
      "[14:55:12] Warning: molecule is tagged as 2D, but at least one Z coordinate is not zero. Marking the mol as 3D.\n",
      "[14:55:12] Warning: molecule is tagged as 2D, but at least one Z coordinate is not zero. Marking the mol as 3D.\n",
      "[14:55:12] Warning: molecule is tagged as 2D, but at least one Z coordinate is not zero. Marking the mol as 3D.\n",
      "[14:55:12] Warning: molecule is tagged as 2D, but at least one Z coordinate is not zero. Marking the mol as 3D.\n",
      "[14:55:12] Warning: molecule is tagged as 2D, but at least one Z coordinate is not zero. Marking the mol as 3D.\n",
      "[14:55:12] Warning: molecule is tagged as 2D, but at least one Z coordinate is not zero. Marking the mol as 3D.\n",
      "[14:55:12] Warning: molecule is tagged as 2D, but at least one Z coordinate is not zero. Marking the mol as 3D.\n",
      "[14:55:12] Warning: molecule is tagged as 2D, but at least one Z coordinate is not zero. Marking the mol as 3D.\n",
      "[14:55:12] Warning: molecule is tagged as 2D, but at least one Z coordinate is not zero. Marking the mol as 3D.\n",
      "[14:55:12] Warning: molecule is tagged as 2D, but at least one Z coordinate is not zero. Marking the mol as 3D.\n",
      "[14:55:12] Warning: molecule is tagged as 2D, but at least one Z coordinate is not zero. Marking the mol as 3D.\n",
      "[14:55:12] Warning: molecule is tagged as 2D, but at least one Z coordinate is not zero. Marking the mol as 3D.\n",
      "[14:55:12] Warning: molecule is tagged as 2D, but at least one Z coordinate is not zero. Marking the mol as 3D.\n",
      "[14:55:12] Warning: molecule is tagged as 2D, but at least one Z coordinate is not zero. Marking the mol as 3D.\n",
      "[14:55:12] Warning: molecule is tagged as 2D, but at least one Z coordinate is not zero. Marking the mol as 3D.\n",
      "[14:55:12] Warning: molecule is tagged as 2D, but at least one Z coordinate is not zero. Marking the mol as 3D.\n",
      "[14:55:12] Warning: molecule is tagged as 2D, but at least one Z coordinate is not zero. Marking the mol as 3D.\n",
      "[14:55:12] Warning: molecule is tagged as 2D, but at least one Z coordinate is not zero. Marking the mol as 3D.\n",
      "[14:55:12] Warning: molecule is tagged as 2D, but at least one Z coordinate is not zero. Marking the mol as 3D.\n",
      "[14:55:12] Warning: molecule is tagged as 2D, but at least one Z coordinate is not zero. Marking the mol as 3D.\n",
      "[14:55:12] Warning: molecule is tagged as 2D, but at least one Z coordinate is not zero. Marking the mol as 3D.\n",
      "[14:55:12] Warning: molecule is tagged as 2D, but at least one Z coordinate is not zero. Marking the mol as 3D.\n",
      "[14:55:12] Warning: molecule is tagged as 2D, but at least one Z coordinate is not zero. Marking the mol as 3D.\n",
      "[14:55:12] Warning: molecule is tagged as 2D, but at least one Z coordinate is not zero. Marking the mol as 3D.\n",
      "[14:55:12] Warning: molecule is tagged as 2D, but at least one Z coordinate is not zero. Marking the mol as 3D.\n",
      "[14:55:12] Warning: molecule is tagged as 2D, but at least one Z coordinate is not zero. Marking the mol as 3D.\n",
      "[14:55:12] Warning: molecule is tagged as 2D, but at least one Z coordinate is not zero. Marking the mol as 3D.\n",
      "[14:55:12] Warning: molecule is tagged as 2D, but at least one Z coordinate is not zero. Marking the mol as 3D.\n",
      "[14:55:12] Warning: molecule is tagged as 2D, but at least one Z coordinate is not zero. Marking the mol as 3D.\n",
      "[14:55:12] Warning: molecule is tagged as 2D, but at least one Z coordinate is not zero. Marking the mol as 3D.\n",
      "[14:55:12] Warning: molecule is tagged as 2D, but at least one Z coordinate is not zero. Marking the mol as 3D.\n",
      "[14:55:12] Warning: molecule is tagged as 2D, but at least one Z coordinate is not zero. Marking the mol as 3D.\n",
      "2025-05-19 14:55:13,451 - HandsFreeDocking.Wrapper_Docking - INFO - Gnina docking completed with 8 results\n",
      "2025-05-19 14:55:13,572 - HandsFreeDocking.Wrapper_Docking - INFO - Smina results extracted from Gnina output\n"
     ]
    }
   ],
   "source": [
    "if RERUN == True:\n",
    "    shutil.rmtree(docking_dir, ignore_errors=True)\n",
    "    \n",
    "    # Initialize the docking pipeline\n",
    "    docking = PipelineDocking(\n",
    "        workdir=docking_dir,\n",
    "        docking_software=[\"gnina\"],      # Choose one or more: \"plants\", \"gnina\", \"openeye\"\n",
    "        settings=(10, 4),                                     # (n_conformers, n_cpus)\n",
    "        protein_pdb=protein_pdb,\n",
    "        ligands_input=ligands_sdf,                            # Can be SDF or SMILES file\n",
    "        crystal_sdf=cystal_sdf,\n",
    "        toolkit=\"openeye\"                                     # Choose \"cdpkit\" or \"openeye\"\n",
    "    )\n",
    "\n",
    "    # Run the docking and get results\n",
    "    results = docking.run()\n",
    "    FULL_DF = docking.concat_df()\n",
    "\n",
    "    with open(docking_pkl, \"wb\") as f:\n",
    "        pickle.dump(FULL_DF, f)\n",
    "\n",
    "    # clear_output()\n",
    "else:\n",
    "    with open(docking_pkl, \"rb\") as f:\n",
    "        FULL_DF = pickle.load(f)"
   ]
  },
  {
   "cell_type": "code",
   "execution_count": null,
   "id": "5fbe1b02",
   "metadata": {},
   "outputs": [],
   "source": []
  },
  {
   "cell_type": "code",
   "execution_count": null,
   "id": "0827a032",
   "metadata": {},
   "outputs": [],
   "source": []
  },
  {
   "cell_type": "code",
   "execution_count": null,
   "id": "697ce5be",
   "metadata": {},
   "outputs": [],
   "source": [
    "FULL_DF = FULL_DF[~FULL_DF['ID'].str.contains('L17')]\n",
    "lig_name_series = FULL_DF[\"ID\"].str.split(\"_\").str[0]\n",
    "\n",
    "FULL_DF.insert(1, \"Lig_Name\", lig_name_series)"
   ]
  },
  {
   "cell_type": "code",
   "execution_count": null,
   "id": "add66f8d",
   "metadata": {},
   "outputs": [],
   "source": [
    "ALL_MOLS = FULL_DF[\"Molecule\"].tolist()"
   ]
  },
  {
   "cell_type": "code",
   "execution_count": null,
   "metadata": {},
   "outputs": [],
   "source": [
    "# Compute the distance matrix using your existing PairwiseMatrixComputer\n",
    "computer = PairwiseMatrixComputer(ALL_MOLS, n_jobs=8, timeout=60)\n",
    "rmsd_func = partial(calc_rmsd_mcs_with_timeout, timeout=60)\n",
    "distance_matrix = computer.compute_matrix(rmsd_func)"
   ],
   "id": "40cac38ee885fefa"
  },
  {
   "cell_type": "code",
   "execution_count": null,
   "id": "84547d02",
   "metadata": {},
   "outputs": [],
   "source": [
    "# Initialize the hierarchical clustering\n",
    "clustering = OptimizedHierarchicalClustering(\n",
    "    linkage_methods=('ward', 'complete', 'average'),\n",
    "    use_dimensionality_reduction=True,\n",
    "    verbose=True\n",
    ")\n",
    "\n",
    "# Perform hierarchical clustering with automatic parameter optimization\n",
    "labels = clustering.fit(distance_matrix)"
   ]
  },
  {
   "cell_type": "code",
   "execution_count": null,
   "id": "27237b64",
   "metadata": {},
   "outputs": [],
   "source": [
    "# Extract clusters at different distance thresholds\n",
    "tight_clusters = clustering.get_clusters_by_distance(0.4)  # More stringent similarity\n",
    "loose_clusters = clustering.get_clusters_by_distance(1.5)  # More relaxed similarity\n",
    "\n",
    "# Compare different clustering solutions\n",
    "print(f\"Optimal clustering has {len(np.unique(labels))} clusters\")\n",
    "print(f\"Tight clustering has {len(np.unique(tight_clusters))} clusters\")\n",
    "print(f\"Loose clustering has {len(np.unique(loose_clusters))} clusters\")\n",
    "\n",
    "# custom_labels = clustering.get_clusters_constrained(\n",
    "#     distance_threshold=0.4,\n",
    "#     min_clusters=3,\n",
    "#     max_clusters=10\n",
    "# )\n",
    "# print(f\"Custom clustering has {len(np.unique(custom_labels))} clusters\")"
   ]
  },
  {
   "cell_type": "code",
   "execution_count": null,
   "id": "94de99a1",
   "metadata": {},
   "outputs": [],
   "source": [
    "FULL_DF[\"Type_3\"] = tight_clusters"
   ]
  },
  {
   "cell_type": "code",
   "execution_count": null,
   "id": "d35c7809",
   "metadata": {},
   "outputs": [],
   "source": [
    "from pymol import cmd\n",
    "cmd.reinitialize()\n",
    "cmd.load(protein_pdb)\n",
    "\n",
    "def tmp_save(mol: Chem.rdchem.Mol):\n",
    "    with NamedTemporaryFile(suffix=\".sdf\", delete=False) as f:\n",
    "        dm.to_sdf(mol, f.name)\n",
    "        return f.name\n",
    "\n",
    "for cluster, df in FULL_DF.groupby(\"Type_3\"):\n",
    "    IDs = []\n",
    "    for ndx, sub_df in df.groupby(\"Lig_Name\"):\n",
    "        sub_df.sort_values(by=\"Score\", ascending=False, inplace=True)\n",
    "        TOP = sub_df.iloc[0]\n",
    "        \n",
    "        ID = TOP[\"ID\"]\n",
    "        IDs.append(ID)\n",
    "        TMP_MOL = tmp_save(TOP[\"Molecule\"])\n",
    "    \n",
    "        cmd.load(TMP_MOL, ID)\n",
    "    \n",
    "    cmd.group(f\"Cluster_{cluster}\", \" \".join(IDs))\n",
    "\n",
    "cmd.save(\"TMP.pse\")"
   ]
  },
  {
   "cell_type": "code",
   "execution_count": null,
   "id": "ee190115",
   "metadata": {},
   "outputs": [],
   "source": []
  },
  {
   "cell_type": "markdown",
   "id": "19dd2689",
   "metadata": {},
   "source": [
    "## Paiwise Calculation"
   ]
  },
  {
   "cell_type": "markdown",
   "id": "23e5a000",
   "metadata": {},
   "source": [
    "```python\n",
    "clustering_kmed = OptimizedKMedoidsClustering(\n",
    "    k_range=(2, 20),\n",
    "    use_dimensionality_reduction=True,\n",
    "    verbose=True\n",
    ")\n",
    "labels_kmed = clustering_kmed.fit(rmsd_matrix)\n",
    "results_kmed = clustering_kmed.get_results()\n",
    "```"
   ]
  },
  {
   "cell_type": "markdown",
   "id": "6cf83a21",
   "metadata": {},
   "source": [
    "```python\n",
    "clustering_dbscan = OptimizedDBSCANClustering(\n",
    "    eps_range=(0.5, 5.0, 0.5),\n",
    "    min_samples_range=(2, 15),\n",
    "    max_noise_percent=15.0,\n",
    "    max_clusters = 10,\n",
    "    use_dimensionality_reduction=True,\n",
    "    verbose=True\n",
    ")\n",
    "labels_dbscan = clustering_dbscan.fit(rmsd_matrix)\n",
    "results_dbscan = clustering_dbscan.get_results()\n",
    "```"
   ]
  },
  {
   "cell_type": "code",
   "execution_count": null,
   "id": "de4b992d",
   "metadata": {},
   "outputs": [],
   "source": [
    "computer = PairwiseMatrixComputer(ALL_MOLS, n_jobs=8, timeout=60)\n",
    "rmsd_funct = partial(calc_rmsd_mcs_with_timeout, timeout=60)\n",
    "rmsd_matrix = computer.compute_matrix(rmsd_funct)"
   ]
  },
  {
   "cell_type": "code",
   "execution_count": null,
   "id": "b4c5de7f",
   "metadata": {},
   "outputs": [],
   "source": [
    "clustering_dbscan = OptimizedDBSCANClustering(\n",
    "    eps_range=(0.5, 5.0, 0.5),\n",
    "    min_samples_range=(2, 15),\n",
    "    max_noise_percent=15.0,\n",
    "    max_clusters = 10,\n",
    "    use_dimensionality_reduction=True,\n",
    "    verbose=True\n",
    ")\n",
    "labels_dbscan = clustering_dbscan.fit(rmsd_matrix)\n",
    "results_dbscan = clustering_dbscan.get_results()"
   ]
  },
  {
   "cell_type": "code",
   "execution_count": null,
   "id": "48304416",
   "metadata": {},
   "outputs": [],
   "source": [
    "FULL_DF[\"Cluster_DBSCAN\"] = labels_dbscan"
   ]
  },
  {
   "cell_type": "code",
   "execution_count": null,
   "id": "ae6af27b",
   "metadata": {},
   "outputs": [],
   "source": [
    "from pymol import cmd\n",
    "cmd.reinitialize()\n",
    "cmd.load(protein_pdb)\n",
    "\n",
    "def tmp_save(mol: Chem.rdchem.Mol):\n",
    "    with NamedTemporaryFile(suffix=\".sdf\", delete=False) as f:\n",
    "        dm.to_sdf(mol, f.name)\n",
    "        return f.name\n",
    "\n",
    "for cluster, df in FULL_DF.groupby(\"Cluster_DBSCAN\"):\n",
    "    IDs = []\n",
    "    for ndx, sub_df in df.groupby(\"Lig_Name\"):\n",
    "        sub_df.sort_values(by=\"Score\", ascending=False, inplace=True)\n",
    "        TOP = sub_df.iloc[0]\n",
    "        \n",
    "        ID = TOP[\"ID\"]\n",
    "        IDs.append(ID)\n",
    "        TMP_MOL = tmp_save(TOP[\"Molecule\"])\n",
    "    \n",
    "        cmd.load(TMP_MOL, ID)\n",
    "    \n",
    "    cmd.group(f\"Cluster_{cluster}\", \" \".join(IDs))\n",
    "\n",
    "cmd.save(\"TMP.pse\")"
   ]
  },
  {
   "cell_type": "markdown",
   "id": "d99bbd5a",
   "metadata": {},
   "source": [
    "## Protein Minimization"
   ]
  },
  {
   "cell_type": "code",
   "execution_count": null,
   "id": "f2dd6ec9",
   "metadata": {},
   "outputs": [],
   "source": [
    "from HandsFreeDocking.tools.Protein_Minimization import ProteinMinimizer"
   ]
  },
  {
   "cell_type": "markdown",
   "id": "f97b64b7",
   "metadata": {},
   "source": [
    "```python\n",
    "protein_minimizer = ProteinMinimizer(FULL_DF, \"Molecule\", \"PDB_Path\")\n",
    "protein_minimizer(protein_pdb, protein_pdb)\n",
    "```"
   ]
  },
  {
   "cell_type": "code",
   "execution_count": null,
   "id": "c597f042",
   "metadata": {},
   "outputs": [],
   "source": []
  }
 ],
 "metadata": {
  "kernelspec": {
   "display_name": "cheminf_3_11",
   "language": "python",
   "name": "python3"
  },
  "language_info": {
   "codemirror_mode": {
    "name": "ipython",
    "version": 3
   },
   "file_extension": ".py",
   "mimetype": "text/x-python",
   "name": "python",
   "nbconvert_exporter": "python",
   "pygments_lexer": "ipython3",
   "version": "3.11.8"
  }
 },
 "nbformat": 4,
 "nbformat_minor": 5
}
