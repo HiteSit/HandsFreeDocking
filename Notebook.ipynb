{
 "cells": [
  {
   "cell_type": "code",
   "execution_count": 1,
   "id": "983d6300",
   "metadata": {},
   "outputs": [],
   "source": [
    "import os\n",
    "import shutil\n",
    "import logging\n",
    "import tabulate\n",
    "import cloudpickle as pickle\n",
    "import pandas as pd\n",
    "import numpy as np\n",
    "from functools import partial\n",
    "import time\n",
    "from pathlib import Path\n",
    "import datamol as dm\n",
    "from IPython.display import clear_output\n",
    "from tempfile import NamedTemporaryFile, TemporaryDirectory\n",
    "from itertools import combinations\n",
    "from joblib import Parallel, delayed\n",
    "from rdkit import Chem\n",
    "from rdkit.Chem import rdFMCS\n",
    "import concurrent.futures\n",
    "from spyrmsd import rmsd, molecule\n",
    "from espsim import GetEspSim\n",
    "from sklearn.preprocessing import MinMaxScaler\n",
    "from sklearn.cluster import DBSCAN\n",
    "\n",
    "import oddt\n",
    "import oddt.fingerprints\n",
    "import oddt.shape\n",
    "import oddt.toolkits.rdk\n",
    "\n",
    "from HandsFreeDocking.Wrapper_Docking import PipelineDocking\n",
    "from HandsFreeDocking.analysis.clustering import (\n",
    "    OptimizedDBSCANClustering, PairwiseMatrixComputer, OptimizedKMedoidsClustering,\n",
    "    calc_rmsd_mcs_with_timeout, calc_usr_similarity, calc_splif\n",
    ")\n",
    "\n",
    "from HandsFreeDocking.tools.Protein_Minimization import ProteinMinimizer"
   ]
  },
  {
   "cell_type": "code",
   "execution_count": 2,
   "id": "33df468f",
   "metadata": {},
   "outputs": [],
   "source": [
    "protein_pdb = Path(\"./examples/LAG3_Moloc_2.pdb\")\n",
    "ligands_sdf = Path(\"./examples/Ligands_To_Dock.sdf\")\n",
    "cystal_sdf = Path(\"./examples/Fake_Crystal.sdf\")\n",
    "\n",
    "docking_dir = Path(\"./examples/TMP_Docking\")\n",
    "docking_pkl = docking_dir / \"docking_results.pkl\"\n",
    "\n",
    "# Check if all files exist\n",
    "files_to_check = [protein_pdb, ligands_sdf, cystal_sdf, docking_dir]\n",
    "all_files_exist = all(file.exists() for file in files_to_check)\n",
    "\n",
    "RERUN = False"
   ]
  },
  {
   "cell_type": "code",
   "execution_count": null,
   "id": "c4c4f2a1",
   "metadata": {},
   "outputs": [],
   "source": [
    "if RERUN == True:\n",
    "    # Initialize the docking pipeline\n",
    "    docking = PipelineDocking(\n",
    "        workdir=docking_dir,\n",
    "        docking_software=[\"plants\", \"gnina\", \"openeye\"],      # Choose one or more: \"plants\", \"gnina\", \"openeye\"\n",
    "        settings=(10, 4),                                     # (n_conformers, n_cpus)\n",
    "        protein_pdb=protein_pdb,\n",
    "        ligands_input=ligands_sdf,                            # Can be SDF or SMILES file\n",
    "        crystal_sdf=cystal_sdf,\n",
    "        toolkit=\"openeye\"                                     # Choose \"cdpkit\" or \"openeye\"\n",
    "    )\n",
    "\n",
    "    # Run the docking and get results\n",
    "    results = docking.run()\n",
    "    FULL_DF = docking.concat_df()\n",
    "\n",
    "    with open(docking_pkl, \"wb\") as f:\n",
    "        pickle.dump(FULL_DF, f)\n",
    "\n",
    "    clear_output()\n",
    "else:\n",
    "    with open(docking_pkl, \"rb\") as f:\n",
    "        FULL_DF = pickle.load(f)"
   ]
  },
  {
   "cell_type": "code",
   "execution_count": 5,
   "id": "697ce5be",
   "metadata": {},
   "outputs": [],
   "source": [
    "FULL_DF = FULL_DF[~FULL_DF['ID'].str.contains('L17')]\n",
    "lig_name_series = FULL_DF[\"ID\"].str.split(\"_\").str[0]\n",
    "\n",
    "FULL_DF.insert(1, \"Lig_Name\", lig_name_series)"
   ]
  },
  {
   "cell_type": "code",
   "execution_count": 9,
   "id": "add66f8d",
   "metadata": {},
   "outputs": [],
   "source": [
    "ALL_MOLS = FULL_DF[\"Molecule\"].tolist()"
   ]
  },
  {
   "cell_type": "markdown",
   "id": "19dd2689",
   "metadata": {},
   "source": [
    "## Paiwise Calculation"
   ]
  },
  {
   "cell_type": "markdown",
   "id": "23e5a000",
   "metadata": {},
   "source": [
    "```python\n",
    "clustering_kmed = OptimizedKMedoidsClustering(\n",
    "    k_range=(2, 20),\n",
    "    use_dimensionality_reduction=True,\n",
    "    verbose=True\n",
    ")\n",
    "labels_kmed = clustering_kmed.fit(rmsd_matrix)\n",
    "results_kmed = clustering_kmed.get_results()\n",
    "```"
   ]
  },
  {
   "cell_type": "markdown",
   "id": "6cf83a21",
   "metadata": {},
   "source": [
    "```python\n",
    "clustering_dbscan = OptimizedDBSCANClustering(\n",
    "    eps_range=(0.5, 5.0, 0.5),\n",
    "    min_samples_range=(2, 15),\n",
    "    max_noise_percent=15.0,\n",
    "    max_clusters = 10,\n",
    "    use_dimensionality_reduction=True,\n",
    "    verbose=True\n",
    ")\n",
    "labels_dbscan = clustering_dbscan.fit(rmsd_matrix)\n",
    "results_dbscan = clustering_dbscan.get_results()\n",
    "```"
   ]
  },
  {
   "cell_type": "code",
   "execution_count": null,
   "id": "de4b992d",
   "metadata": {},
   "outputs": [],
   "source": [
    "computer = PairwiseMatrixComputer(ALL_MOLS, n_jobs=8, timeout=60)\n",
    "rmsd_funct = partial(calc_rmsd_mcs_with_timeout, timeout=60)\n",
    "rmsd_matrix = computer.compute_matrix(rmsd_funct)"
   ]
  },
  {
   "cell_type": "code",
   "execution_count": null,
   "id": "b4c5de7f",
   "metadata": {},
   "outputs": [],
   "source": [
    "clustering_dbscan = OptimizedDBSCANClustering(\n",
    "    eps_range=(0.5, 5.0, 0.5),\n",
    "    min_samples_range=(2, 15),\n",
    "    max_noise_percent=15.0,\n",
    "    max_clusters = 10,\n",
    "    use_dimensionality_reduction=True,\n",
    "    verbose=True\n",
    ")\n",
    "labels_dbscan = clustering_dbscan.fit(rmsd_matrix)\n",
    "results_dbscan = clustering_dbscan.get_results()"
   ]
  },
  {
   "cell_type": "code",
   "execution_count": 16,
   "id": "48304416",
   "metadata": {},
   "outputs": [],
   "source": [
    "FULL_DF[\"Cluster_DBSCAN\"] = labels_dbscan"
   ]
  },
  {
   "cell_type": "code",
   "execution_count": 36,
   "id": "ae6af27b",
   "metadata": {},
   "outputs": [],
   "source": [
    "from pymol import cmd\n",
    "cmd.reinitialize()\n",
    "cmd.load(protein_pdb)\n",
    "\n",
    "def tmp_save(mol: Chem.rdchem.Mol):\n",
    "    with NamedTemporaryFile(suffix=\".sdf\", delete=False) as f:\n",
    "        dm.to_sdf(mol, f.name)\n",
    "        return f.name\n",
    "\n",
    "for cluster, df in FULL_DF.groupby(\"Cluster_DBSCAN\"):\n",
    "    IDs = []\n",
    "    for ndx, sub_df in df.groupby(\"Lig_Name\"):\n",
    "        sub_df.sort_values(by=\"Score\", ascending=False, inplace=True)\n",
    "        TOP = sub_df.iloc[0]\n",
    "        \n",
    "        ID = TOP[\"ID\"]\n",
    "        IDs.append(ID)\n",
    "        TMP_MOL = tmp_save(TOP[\"Molecule\"])\n",
    "    \n",
    "        cmd.load(TMP_MOL, ID)\n",
    "    \n",
    "    cmd.group(f\"Cluster_{cluster}\", \" \".join(IDs))\n",
    "\n",
    "cmd.save(\"TMP.pse\")"
   ]
  },
  {
   "cell_type": "markdown",
   "id": "d99bbd5a",
   "metadata": {},
   "source": [
    "## Protein Minimization"
   ]
  },
  {
   "cell_type": "code",
   "execution_count": 2,
   "id": "f2dd6ec9",
   "metadata": {},
   "outputs": [],
   "source": [
    "from HandsFreeDocking.tools.Protein_Minimization import ProteinMinimizer"
   ]
  },
  {
   "cell_type": "markdown",
   "id": "f97b64b7",
   "metadata": {},
   "source": [
    "```python\n",
    "protein_minimizer = ProteinMinimizer(FULL_DF, \"Molecule\", \"PDB_Path\")\n",
    "protein_minimizer(protein_pdb, protein_pdb)\n",
    "```"
   ]
  },
  {
   "cell_type": "code",
   "execution_count": null,
   "id": "c597f042",
   "metadata": {},
   "outputs": [],
   "source": []
  }
 ],
 "metadata": {
  "kernelspec": {
   "display_name": "cheminf_3_11",
   "language": "python",
   "name": "python3"
  },
  "language_info": {
   "codemirror_mode": {
    "name": "ipython",
    "version": 3
   },
   "file_extension": ".py",
   "mimetype": "text/x-python",
   "name": "python",
   "nbconvert_exporter": "python",
   "pygments_lexer": "ipython3",
   "version": "3.11.8"
  }
 },
 "nbformat": 4,
 "nbformat_minor": 5
}
