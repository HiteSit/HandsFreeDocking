{
 "cells": [
  {
   "cell_type": "code",
   "execution_count": 21,
   "id": "9043a7fe",
   "metadata": {},
   "outputs": [],
   "source": [
    "import os\n",
    "import shutil\n",
    "from pathlib import Path\n",
    "from HandsFreeDocking.Wrapper_Docking import PipelineDocking"
   ]
  },
  {
   "cell_type": "code",
   "execution_count": 22,
   "id": "3311f1cb",
   "metadata": {},
   "outputs": [],
   "source": [
    "protein_pdb = Path(\"./examples/LAG3_Moloc_2.pdb\")\n",
    "ligands_sdf = Path(\"./examples/Ligands_To_Dock.sdf\")\n",
    "cystal_sdf = Path(\"./examples/Fake_Crystal.sdf\")\n",
    "\n",
    "docking_dir = Path(\"./examples/TMP_Docking\")"
   ]
  },
  {
   "cell_type": "code",
   "execution_count": 23,
   "id": "8f255855",
   "metadata": {},
   "outputs": [],
   "source": [
    "docking = PipelineDocking(\n",
    "    workdir=docking_dir,\n",
    "    docking_software=[\"plants\", \"rxdock\"],\n",
    "    settings=(10, 4),\n",
    "    protein_pdb=protein_pdb,\n",
    "    ligands_input=ligands_sdf,\n",
    "    crystal_sdf=cystal_sdf,\n",
    "    protonation_method=\"cdp\"\n",
    ")"
   ]
  },
  {
   "cell_type": "code",
   "execution_count": 24,
   "id": "875a142b",
   "metadata": {},
   "outputs": [
    {
     "name": "stderr",
     "output_type": "stream",
     "text": [
      "2025-05-30 17:51:15,421 - HandsFreeDocking.Wrapper_Docking - INFO - Using SDF input directly: examples/Ligands_To_Dock.sdf\n",
      "2025-05-30 17:51:15,423 - HandsFreeDocking.Wrapper_Docking - INFO - Starting Plants docking\n"
     ]
    },
    {
     "name": "stdout",
     "output_type": "stream",
     "text": [
      "Preparing protein with Chimera ...\n"
     ]
    },
    {
     "name": "stderr",
     "output_type": "stream",
     "text": [
      "2025-05-30 17:51:16,918 - HandsFreeDocking.Plants_Pipeline - INFO - Preparing ligands using cdp protonation method\n",
      "2025-05-30 17:51:16,919 - HandsFreeDocking.tools.Ligand_Preparation - INFO - Processing Apigenin from SDF\n",
      "2025-05-30 17:51:16,992 - HandsFreeDocking.tools.Ligand_Preparation - INFO - Processing 6-methylflavone from SDF\n",
      "2025-05-30 17:51:17,012 - HandsFreeDocking.tools.Ligand_Preparation - INFO - Processing Chrysin from SDF\n",
      "2025-05-30 17:51:17,039 - HandsFreeDocking.tools.Ligand_Preparation - INFO - Processing Luteolin from SDF\n",
      "2025-05-30 17:51:17,186 - HandsFreeDocking.tools.Ligand_Preparation - INFO - Processing Kaempferol from SDF\n",
      "2025-05-30 17:51:17,318 - HandsFreeDocking.tools.Ligand_Preparation - INFO - Processing Eriodictyol from SDF\n",
      "2025-05-30 17:51:17,511 - HandsFreeDocking.tools.Ligand_Preparation - INFO - Processing Fisetin from SDF\n",
      "2025-05-30 17:51:17,668 - HandsFreeDocking.Plants_Pipeline - INFO - Converting prepared ligands to mol2 format\n",
      "2025-05-30 17:51:17,682 - HandsFreeDocking.tools.Ligand_Preparation - INFO - Saved 7 molecules to MOL2 format in examples/TMP_Docking/Plants/ligands_mol2\n",
      "2025-05-30 17:51:17,686 - HandsFreeDocking.Plants_Pipeline - INFO - Running: plants.64bit --mode screen Apigenin_Iso0_conf.txt\n",
      "2025-05-30 17:51:17,686 - HandsFreeDocking.Plants_Pipeline - INFO - Running: plants.64bit --mode screen 6-methylflavone_Iso0_conf.txt\n",
      "2025-05-30 17:51:17,687 - HandsFreeDocking.Plants_Pipeline - INFO - Running: plants.64bit --mode screen Chrysin_Iso0_conf.txt\n",
      "2025-05-30 17:51:17,691 - HandsFreeDocking.Plants_Pipeline - INFO - Running: plants.64bit --mode screen Luteolin_Iso0_conf.txt\n",
      "[17:51:18] Can't kekulize mol.  Unkekulized atoms: 1 2 3 4 5 6 13 16 17\n",
      "[17:51:18] sanitize [17:51:18] 6-methylflavone_Iso0_entry_00001_conf_10: [17:51:18] Can't kekulize mol.  Unkekulized atoms: 1 2 3 4 5 6 13 16 17\n",
      "[17:51:18] sanitize [17:51:18] 6-methylflavone_Iso0_entry_00001_conf_09: [17:51:18] Can't kekulize mol.  Unkekulized atoms: 1 2 3 4 5 6 13 16 17\n",
      "[17:51:18] sanitize [17:51:18] 6-methylflavone_Iso0_entry_00001_conf_08: [17:51:18] Can't kekulize mol.  Unkekulized atoms: 1 2 3 4 5 6 13 16 17\n",
      "[17:51:18] sanitize [17:51:18] 6-methylflavone_Iso0_entry_00001_conf_07: [17:51:18] Can't kekulize mol.  Unkekulized atoms: 1 2 3 4 5 6 13 16 17\n",
      "[17:51:18] sanitize [17:51:18] 6-methylflavone_Iso0_entry_00001_conf_06: [17:51:18] Can't kekulize mol.  Unkekulized atoms: 1 2 3 4 5 6 13 16 17\n",
      "[17:51:18] sanitize [17:51:18] 6-methylflavone_Iso0_entry_00001_conf_05: [17:51:18] Can't kekulize mol.  Unkekulized atoms: 1 2 3 4 5 6 13 16 17\n",
      "[17:51:18] sanitize [17:51:18] 6-methylflavone_Iso0_entry_00001_conf_04: [17:51:18] Can't kekulize mol.  Unkekulized atoms: 1 2 3 4 5 6 13 16 17\n",
      "[17:51:18] sanitize [17:51:18] 6-methylflavone_Iso0_entry_00001_conf_03: [17:51:18] Can't kekulize mol.  Unkekulized atoms: 1 2 3 4 5 6 13 16 17\n",
      "[17:51:18] sanitize [17:51:18] 6-methylflavone_Iso0_entry_00001_conf_02: [17:51:18] Can't kekulize mol.  Unkekulized atoms: 1 2 3 4 5 6 13 16 17\n",
      "[17:51:18] sanitize [17:51:18] 6-methylflavone_Iso0_entry_00001_conf_01: 2025-05-30 17:51:18,282 - HandsFreeDocking.Plants_Pipeline - ERROR - Error processing ligand 6-methylflavone_Iso0: 'NoneType' object has no attribute 'GetProp'\n",
      "2025-05-30 17:51:18,283 - HandsFreeDocking.Plants_Pipeline - INFO - Running: plants.64bit --mode screen Kaempferol_Iso0_conf.txt\n",
      "[17:51:18] Can't kekulize mol.  Unkekulized atoms: 2 3 10 11 12 13 15 16 18\n",
      "[17:51:18] sanitize [17:51:18] Chrysin_Iso0_entry_00001_conf_10: [17:51:18] Can't kekulize mol.  Unkekulized atoms: 2 3 10 11 12 13 15 16 18\n",
      "[17:51:18] sanitize [17:51:18] Chrysin_Iso0_entry_00001_conf_09: [17:51:18] Can't kekulize mol.  Unkekulized atoms: 2 3 10 11 12 13 15 16 18\n",
      "[17:51:18] sanitize [17:51:18] Chrysin_Iso0_entry_00001_conf_08: [17:51:18] Can't kekulize mol.  Unkekulized atoms: 2 3 10 11 12 13 15 16 18\n",
      "[17:51:18] sanitize [17:51:18] Chrysin_Iso0_entry_00001_conf_07: [17:51:18] Can't kekulize mol.  Unkekulized atoms: 2 3 10 11 12 13 15 16 18\n",
      "[17:51:18] sanitize [17:51:18] Chrysin_Iso0_entry_00001_conf_06: [17:51:18] Can't kekulize mol.  Unkekulized atoms: 2 3 10 11 12 13 15 16 18\n",
      "[17:51:18] sanitize [17:51:18] Chrysin_Iso0_entry_00001_conf_05: [17:51:18] Can't kekulize mol.  Unkekulized atoms: 2 3 10 11 12 13 15 16 18\n",
      "[17:51:18] sanitize [17:51:18] Chrysin_Iso0_entry_00001_conf_04: [17:51:18] Can't kekulize mol.  Unkekulized atoms: 2 3 10 11 12 13 15 16 18\n",
      "[17:51:18] sanitize [17:51:18] Chrysin_Iso0_entry_00001_conf_03: [17:51:18] Can't kekulize mol.  Unkekulized atoms: 2 3 10 11 12 13 15 16 18\n",
      "[17:51:18] sanitize [17:51:18] Chrysin_Iso0_entry_00001_conf_02: [17:51:18] Can't kekulize mol.  Unkekulized atoms: 2 3 10 11 12 13 15 16 18\n",
      "[17:51:18] sanitize [17:51:18] Chrysin_Iso0_entry_00001_conf_01: 2025-05-30 17:51:18,607 - HandsFreeDocking.Plants_Pipeline - ERROR - Error processing ligand Chrysin_Iso0: 'NoneType' object has no attribute 'GetProp'\n",
      "2025-05-30 17:51:18,609 - HandsFreeDocking.Plants_Pipeline - INFO - Running: plants.64bit --mode screen Eriodictyol_Iso0_conf.txt\n",
      "[17:51:18] Can't kekulize mol.  Unkekulized atoms: 2 3 11 12 13 14 16 17 19\n",
      "[17:51:18] sanitize [17:51:18] Apigenin_Iso0_entry_00001_conf_10: [17:51:18] Can't kekulize mol.  Unkekulized atoms: 2 3 11 12 13 14 16 17 19\n",
      "[17:51:18] sanitize [17:51:18] Apigenin_Iso0_entry_00001_conf_09: [17:51:18] Can't kekulize mol.  Unkekulized atoms: 2 3 11 12 13 14 16 17 19\n",
      "[17:51:18] sanitize [17:51:18] Apigenin_Iso0_entry_00001_conf_08: [17:51:18] Can't kekulize mol.  Unkekulized atoms: 2 3 11 12 13 14 16 17 19\n",
      "[17:51:18] sanitize [17:51:18] Apigenin_Iso0_entry_00001_conf_07: [17:51:18] Can't kekulize mol.  Unkekulized atoms: 2 3 11 12 13 14 16 17 19\n",
      "[17:51:18] sanitize [17:51:18] Apigenin_Iso0_entry_00001_conf_06: [17:51:18] Can't kekulize mol.  Unkekulized atoms: 2 3 11 12 13 14 16 17 19\n",
      "[17:51:18] sanitize [17:51:18] Apigenin_Iso0_entry_00001_conf_05: [17:51:18] Can't kekulize mol.  Unkekulized atoms: 2 3 11 12 13 14 16 17 19\n",
      "[17:51:18] sanitize [17:51:18] Apigenin_Iso0_entry_00001_conf_04: [17:51:18] Can't kekulize mol.  Unkekulized atoms: 2 3 11 12 13 14 16 17 19\n",
      "[17:51:18] sanitize [17:51:18] Apigenin_Iso0_entry_00001_conf_03: [17:51:18] Can't kekulize mol.  Unkekulized atoms: 2 3 11 12 13 14 16 17 19\n",
      "[17:51:18] sanitize [17:51:18] Apigenin_Iso0_entry_00001_conf_02: [17:51:18] Can't kekulize mol.  Unkekulized atoms: 2 3 11 12 13 14 16 17 19\n",
      "[17:51:18] sanitize [17:51:18] Apigenin_Iso0_entry_00001_conf_01: 2025-05-30 17:51:18,898 - HandsFreeDocking.Plants_Pipeline - ERROR - Error processing ligand Apigenin_Iso0: 'NoneType' object has no attribute 'GetProp'\n",
      "2025-05-30 17:51:18,899 - HandsFreeDocking.Plants_Pipeline - INFO - Running: plants.64bit --mode screen Fisetin_Iso0_conf.txt\n",
      "[17:51:19] Can't kekulize mol.  Unkekulized atoms: 2 3 12 13 14 15 17 18 20\n",
      "[17:51:19] sanitize [17:51:19] Luteolin_Iso0_entry_00001_conf_10: [17:51:19] Can't kekulize mol.  Unkekulized atoms: 2 3 12 13 14 15 17 18 20\n",
      "[17:51:19] sanitize [17:51:19] Luteolin_Iso0_entry_00001_conf_09: [17:51:19] Can't kekulize mol.  Unkekulized atoms: 2 3 12 13 14 15 17 18 20\n",
      "[17:51:19] sanitize [17:51:19] Luteolin_Iso0_entry_00001_conf_08: [17:51:19] Can't kekulize mol.  Unkekulized atoms: 2 3 12 13 14 15 17 18 20\n",
      "[17:51:19] sanitize [17:51:19] Luteolin_Iso0_entry_00001_conf_07: [17:51:19] Can't kekulize mol.  Unkekulized atoms: 2 3 12 13 14 15 17 18 20\n",
      "[17:51:19] sanitize [17:51:19] Luteolin_Iso0_entry_00001_conf_06: [17:51:19] Can't kekulize mol.  Unkekulized atoms: 2 3 12 13 14 15 17 18 20\n",
      "[17:51:19] sanitize [17:51:19] Luteolin_Iso0_entry_00001_conf_05: [17:51:19] Can't kekulize mol.  Unkekulized atoms: 2 3 12 13 14 15 17 18 20\n",
      "[17:51:19] sanitize [17:51:19] Luteolin_Iso0_entry_00001_conf_04: [17:51:19] Can't kekulize mol.  Unkekulized atoms: 2 3 12 13 14 15 17 18 20\n",
      "[17:51:19] sanitize [17:51:19] Luteolin_Iso0_entry_00001_conf_03: [17:51:19] Can't kekulize mol.  Unkekulized atoms: 2 3 12 13 14 15 17 18 20\n",
      "[17:51:19] sanitize [17:51:19] Luteolin_Iso0_entry_00001_conf_02: [17:51:19] Can't kekulize mol.  Unkekulized atoms: 2 3 12 13 14 15 17 18 20\n",
      "[17:51:19] sanitize [17:51:19] Luteolin_Iso0_entry_00001_conf_01: 2025-05-30 17:51:19,258 - HandsFreeDocking.Plants_Pipeline - ERROR - Error processing ligand Luteolin_Iso0: 'NoneType' object has no attribute 'GetProp'\n",
      "[17:51:19] Can't kekulize mol.  Unkekulized atoms: 2 4 12 13 14 15 17 18 20\n",
      "[17:51:19] sanitize [17:51:19] Kaempferol_Iso0_entry_00001_conf_10: [17:51:19] Can't kekulize mol.  Unkekulized atoms: 2 4 12 13 14 15 17 18 20\n",
      "[17:51:19] sanitize [17:51:19] Kaempferol_Iso0_entry_00001_conf_09: [17:51:19] Can't kekulize mol.  Unkekulized atoms: 2 4 12 13 14 15 17 18 20\n",
      "[17:51:19] sanitize [17:51:19] Kaempferol_Iso0_entry_00001_conf_08: [17:51:19] Can't kekulize mol.  Unkekulized atoms: 2 4 12 13 14 15 17 18 20\n",
      "[17:51:19] sanitize [17:51:19] Kaempferol_Iso0_entry_00001_conf_07: [17:51:19] Can't kekulize mol.  Unkekulized atoms: 2 4 12 13 14 15 17 18 20\n",
      "[17:51:19] sanitize [17:51:19] Kaempferol_Iso0_entry_00001_conf_06: [17:51:19] Can't kekulize mol.  Unkekulized atoms: 2 4 12 13 14 15 17 18 20\n",
      "[17:51:19] sanitize [17:51:19] Kaempferol_Iso0_entry_00001_conf_05: [17:51:19] Can't kekulize mol.  Unkekulized atoms: 2 4 12 13 14 15 17 18 20\n",
      "[17:51:19] sanitize [17:51:19] Kaempferol_Iso0_entry_00001_conf_04: [17:51:19] Can't kekulize mol.  Unkekulized atoms: 2 4 12 13 14 15 17 18 20\n",
      "[17:51:19] sanitize [17:51:19] Kaempferol_Iso0_entry_00001_conf_03: [17:51:19] Can't kekulize mol.  Unkekulized atoms: 2 4 12 13 14 15 17 18 20\n",
      "[17:51:19] sanitize [17:51:19] Kaempferol_Iso0_entry_00001_conf_02: [17:51:19] Can't kekulize mol.  Unkekulized atoms: 2 4 12 13 14 15 17 18 20\n",
      "[17:51:19] sanitize [17:51:19] Kaempferol_Iso0_entry_00001_conf_01: 2025-05-30 17:51:19,912 - HandsFreeDocking.Plants_Pipeline - ERROR - Error processing ligand Kaempferol_Iso0: 'NoneType' object has no attribute 'GetProp'\n",
      "2025-05-30 17:51:20,140 - HandsFreeDocking.Plants_Pipeline - INFO - Saving results for Eriodictyol_Iso0 to examples/TMP_Docking/Plants/output/Eriodictyol_Iso0_Plants.sdf\n",
      "[17:51:20] Can't kekulize mol.  Unkekulized atoms: 2 4 13 14 15 16 18 19 20\n",
      "[17:51:20] sanitize [17:51:20] Fisetin_Iso0_entry_00001_conf_10: [17:51:20] Can't kekulize mol.  Unkekulized atoms: 2 4 13 14 15 16 18 19 20\n",
      "[17:51:20] sanitize [17:51:20] Fisetin_Iso0_entry_00001_conf_09: [17:51:20] Can't kekulize mol.  Unkekulized atoms: 2 4 13 14 15 16 18 19 20\n",
      "[17:51:20] sanitize [17:51:20] Fisetin_Iso0_entry_00001_conf_08: [17:51:20] Can't kekulize mol.  Unkekulized atoms: 2 4 13 14 15 16 18 19 20\n",
      "[17:51:20] sanitize [17:51:20] Fisetin_Iso0_entry_00001_conf_07: [17:51:20] Can't kekulize mol.  Unkekulized atoms: 2 4 13 14 15 16 18 19 20\n",
      "[17:51:20] sanitize [17:51:20] Fisetin_Iso0_entry_00001_conf_06: [17:51:20] Can't kekulize mol.  Unkekulized atoms: 2 4 13 14 15 16 18 19 20\n",
      "[17:51:20] sanitize [17:51:20] Fisetin_Iso0_entry_00001_conf_05: [17:51:20] Can't kekulize mol.  Unkekulized atoms: 2 4 13 14 15 16 18 19 20\n",
      "[17:51:20] sanitize [17:51:20] Fisetin_Iso0_entry_00001_conf_04: [17:51:20] Can't kekulize mol.  Unkekulized atoms: 2 4 13 14 15 16 18 19 20\n",
      "[17:51:20] sanitize [17:51:20] Fisetin_Iso0_entry_00001_conf_03: [17:51:20] Can't kekulize mol.  Unkekulized atoms: 2 4 13 14 15 16 18 19 20\n",
      "[17:51:20] sanitize [17:51:20] Fisetin_Iso0_entry_00001_conf_02: [17:51:20] Can't kekulize mol.  Unkekulized atoms: 2 4 13 14 15 16 18 19 20\n",
      "[17:51:20] sanitize [17:51:20] Fisetin_Iso0_entry_00001_conf_01: 2025-05-30 17:51:20,538 - HandsFreeDocking.Plants_Pipeline - ERROR - Error processing ligand Fisetin_Iso0: 'NoneType' object has no attribute 'GetProp'\n",
      "2025-05-30 17:51:20,545 - HandsFreeDocking.Plants_Pipeline - INFO - Docking completed: 1 successful out of 7 ligands\n",
      "2025-05-30 17:51:20,550 - HandsFreeDocking.Wrapper_Docking - INFO - Plants docking completed with 1 results\n",
      "2025-05-30 17:51:20,551 - HandsFreeDocking.Wrapper_Docking - INFO - Starting RxDock docking\n",
      "2025-05-30 17:51:20,552 - HandsFreeDocking.RxDock_Pipeline - INFO - Starting RxDock docking pipeline...\n",
      "2025-05-30 17:51:20,552 - HandsFreeDocking.RxDock_Pipeline - INFO - Step 1: Sourcing macro (cleaning protein)...\n",
      "2025-05-30 17:51:20,595 - HandsFreeDocking.RxDock_Pipeline - INFO - Step 2: Preparing protein...\n"
     ]
    },
    {
     "name": "stdout",
     "output_type": "stream",
     "text": [
      "Preparing protein with Chimera ...\n"
     ]
    },
    {
     "name": "stderr",
     "output_type": "stream",
     "text": [
      "2025-05-30 17:51:22,010 - HandsFreeDocking.RxDock_Pipeline - INFO - Step 3: Defining binding site...\n",
      "2025-05-30 17:51:22,011 - HandsFreeDocking.RxDock_Pipeline - INFO - Creating RxDock parameter file and defining binding site...\n",
      "2025-05-30 17:51:22,012 - HandsFreeDocking.RxDock_Pipeline - INFO - Running command: rbcavity -W -d -r examples/TMP_Docking/RxDock/rxdock.prm\n",
      "2025-05-30 17:51:22,559 - HandsFreeDocking.Wrapper_Docking - ERROR - Error running rxdock docking: 'ascii' codec can't decode byte 0xc4 in position 160: ordinal not in range(128)\n"
     ]
    }
   ],
   "source": [
    "results = docking.run()"
   ]
  },
  {
   "cell_type": "code",
   "execution_count": 25,
   "id": "8371f5e1",
   "metadata": {},
   "outputs": [],
   "source": [
    "df = docking.concat_df()"
   ]
  },
  {
   "cell_type": "code",
   "execution_count": 26,
   "id": "d9204b60",
   "metadata": {},
   "outputs": [
    {
     "data": {
      "application/vnd.microsoft.datawrangler.viewer.v0+json": {
       "columns": [
        {
         "name": "index",
         "rawType": "int64",
         "type": "integer"
        },
        {
         "name": "ID",
         "rawType": "object",
         "type": "string"
        },
        {
         "name": "Score",
         "rawType": "float64",
         "type": "float"
        },
        {
         "name": "Molecule",
         "rawType": "object",
         "type": "unknown"
        },
        {
         "name": "Software",
         "rawType": "object",
         "type": "string"
        },
        {
         "name": "Protein_Path",
         "rawType": "object",
         "type": "unknown"
        }
       ],
       "ref": "08e9161c-5eb2-4037-8902-74ee05e22ef2",
       "rows": [
        [
         "0",
         "Eriodictyol_Iso0_Plants-P1",
         "0.0",
         "<rdkit.Chem.rdchem.Mol object at 0x7fb9abfabf40>",
         "plants",
         "/home/hitesit/Python_Packages/Docking_Pipelines/HandsFreeDocking/examples/LAG3_Moloc_2.pdb"
        ],
        [
         "1",
         "Eriodictyol_Iso0_Plants-P2",
         "0.015162317600646347",
         "<rdkit.Chem.rdchem.Mol object at 0x7fb9abfaba00>",
         "plants",
         "/home/hitesit/Python_Packages/Docking_Pipelines/HandsFreeDocking/examples/LAG3_Moloc_2.pdb"
        ],
        [
         "2",
         "Eriodictyol_Iso0_Plants-P3",
         "0.3007430644675768",
         "<rdkit.Chem.rdchem.Mol object at 0x7fb9abfabed0>",
         "plants",
         "/home/hitesit/Python_Packages/Docking_Pipelines/HandsFreeDocking/examples/LAG3_Moloc_2.pdb"
        ],
        [
         "3",
         "Eriodictyol_Iso0_Plants-P4",
         "0.3409065703376264",
         "<rdkit.Chem.rdchem.Mol object at 0x7fb9abfaac00>",
         "plants",
         "/home/hitesit/Python_Packages/Docking_Pipelines/HandsFreeDocking/examples/LAG3_Moloc_2.pdb"
        ],
        [
         "4",
         "Eriodictyol_Iso0_Plants-P5",
         "0.37750526799436024",
         "<rdkit.Chem.rdchem.Mol object at 0x7fba794340b0>",
         "plants",
         "/home/hitesit/Python_Packages/Docking_Pipelines/HandsFreeDocking/examples/LAG3_Moloc_2.pdb"
        ],
        [
         "5",
         "Eriodictyol_Iso0_Plants-P6",
         "0.37813901167672803",
         "<rdkit.Chem.rdchem.Mol object at 0x7fba79437f40>",
         "plants",
         "/home/hitesit/Python_Packages/Docking_Pipelines/HandsFreeDocking/examples/LAG3_Moloc_2.pdb"
        ],
        [
         "6",
         "Eriodictyol_Iso0_Plants-P7",
         "0.5498043316380681",
         "<rdkit.Chem.rdchem.Mol object at 0x7fba79437df0>",
         "plants",
         "/home/hitesit/Python_Packages/Docking_Pipelines/HandsFreeDocking/examples/LAG3_Moloc_2.pdb"
        ],
        [
         "7",
         "Eriodictyol_Iso0_Plants-P8",
         "0.6718792084541416",
         "<rdkit.Chem.rdchem.Mol object at 0x7fba79437920>",
         "plants",
         "/home/hitesit/Python_Packages/Docking_Pipelines/HandsFreeDocking/examples/LAG3_Moloc_2.pdb"
        ],
        [
         "8",
         "Eriodictyol_Iso0_Plants-P9",
         "0.9774228813156522",
         "<rdkit.Chem.rdchem.Mol object at 0x7fba794375a0>",
         "plants",
         "/home/hitesit/Python_Packages/Docking_Pipelines/HandsFreeDocking/examples/LAG3_Moloc_2.pdb"
        ],
        [
         "9",
         "Eriodictyol_Iso0_Plants-P10",
         "1.0",
         "<rdkit.Chem.rdchem.Mol object at 0x7fba79436c00>",
         "plants",
         "/home/hitesit/Python_Packages/Docking_Pipelines/HandsFreeDocking/examples/LAG3_Moloc_2.pdb"
        ]
       ],
       "shape": {
        "columns": 5,
        "rows": 10
       }
      },
      "text/html": [
       "<div>\n",
       "<style scoped>\n",
       "    .dataframe tbody tr th:only-of-type {\n",
       "        vertical-align: middle;\n",
       "    }\n",
       "\n",
       "    .dataframe tbody tr th {\n",
       "        vertical-align: top;\n",
       "    }\n",
       "\n",
       "    .dataframe thead th {\n",
       "        text-align: right;\n",
       "    }\n",
       "</style>\n",
       "<table border=\"1\" class=\"dataframe\">\n",
       "  <thead>\n",
       "    <tr style=\"text-align: right;\">\n",
       "      <th></th>\n",
       "      <th>ID</th>\n",
       "      <th>Score</th>\n",
       "      <th>Molecule</th>\n",
       "      <th>Software</th>\n",
       "      <th>Protein_Path</th>\n",
       "    </tr>\n",
       "  </thead>\n",
       "  <tbody>\n",
       "    <tr>\n",
       "      <th>0</th>\n",
       "      <td>Eriodictyol_Iso0_Plants-P1</td>\n",
       "      <td>0.000000</td>\n",
       "      <td>&lt;rdkit.Chem.rdchem.Mol object at 0x7fb9abfabf40&gt;</td>\n",
       "      <td>plants</td>\n",
       "      <td>/home/hitesit/Python_Packages/Docking_Pipeline...</td>\n",
       "    </tr>\n",
       "    <tr>\n",
       "      <th>1</th>\n",
       "      <td>Eriodictyol_Iso0_Plants-P2</td>\n",
       "      <td>0.015162</td>\n",
       "      <td>&lt;rdkit.Chem.rdchem.Mol object at 0x7fb9abfaba00&gt;</td>\n",
       "      <td>plants</td>\n",
       "      <td>/home/hitesit/Python_Packages/Docking_Pipeline...</td>\n",
       "    </tr>\n",
       "    <tr>\n",
       "      <th>2</th>\n",
       "      <td>Eriodictyol_Iso0_Plants-P3</td>\n",
       "      <td>0.300743</td>\n",
       "      <td>&lt;rdkit.Chem.rdchem.Mol object at 0x7fb9abfabed0&gt;</td>\n",
       "      <td>plants</td>\n",
       "      <td>/home/hitesit/Python_Packages/Docking_Pipeline...</td>\n",
       "    </tr>\n",
       "    <tr>\n",
       "      <th>3</th>\n",
       "      <td>Eriodictyol_Iso0_Plants-P4</td>\n",
       "      <td>0.340907</td>\n",
       "      <td>&lt;rdkit.Chem.rdchem.Mol object at 0x7fb9abfaac00&gt;</td>\n",
       "      <td>plants</td>\n",
       "      <td>/home/hitesit/Python_Packages/Docking_Pipeline...</td>\n",
       "    </tr>\n",
       "    <tr>\n",
       "      <th>4</th>\n",
       "      <td>Eriodictyol_Iso0_Plants-P5</td>\n",
       "      <td>0.377505</td>\n",
       "      <td>&lt;rdkit.Chem.rdchem.Mol object at 0x7fba794340b0&gt;</td>\n",
       "      <td>plants</td>\n",
       "      <td>/home/hitesit/Python_Packages/Docking_Pipeline...</td>\n",
       "    </tr>\n",
       "    <tr>\n",
       "      <th>5</th>\n",
       "      <td>Eriodictyol_Iso0_Plants-P6</td>\n",
       "      <td>0.378139</td>\n",
       "      <td>&lt;rdkit.Chem.rdchem.Mol object at 0x7fba79437f40&gt;</td>\n",
       "      <td>plants</td>\n",
       "      <td>/home/hitesit/Python_Packages/Docking_Pipeline...</td>\n",
       "    </tr>\n",
       "    <tr>\n",
       "      <th>6</th>\n",
       "      <td>Eriodictyol_Iso0_Plants-P7</td>\n",
       "      <td>0.549804</td>\n",
       "      <td>&lt;rdkit.Chem.rdchem.Mol object at 0x7fba79437df0&gt;</td>\n",
       "      <td>plants</td>\n",
       "      <td>/home/hitesit/Python_Packages/Docking_Pipeline...</td>\n",
       "    </tr>\n",
       "    <tr>\n",
       "      <th>7</th>\n",
       "      <td>Eriodictyol_Iso0_Plants-P8</td>\n",
       "      <td>0.671879</td>\n",
       "      <td>&lt;rdkit.Chem.rdchem.Mol object at 0x7fba79437920&gt;</td>\n",
       "      <td>plants</td>\n",
       "      <td>/home/hitesit/Python_Packages/Docking_Pipeline...</td>\n",
       "    </tr>\n",
       "    <tr>\n",
       "      <th>8</th>\n",
       "      <td>Eriodictyol_Iso0_Plants-P9</td>\n",
       "      <td>0.977423</td>\n",
       "      <td>&lt;rdkit.Chem.rdchem.Mol object at 0x7fba794375a0&gt;</td>\n",
       "      <td>plants</td>\n",
       "      <td>/home/hitesit/Python_Packages/Docking_Pipeline...</td>\n",
       "    </tr>\n",
       "    <tr>\n",
       "      <th>9</th>\n",
       "      <td>Eriodictyol_Iso0_Plants-P10</td>\n",
       "      <td>1.000000</td>\n",
       "      <td>&lt;rdkit.Chem.rdchem.Mol object at 0x7fba79436c00&gt;</td>\n",
       "      <td>plants</td>\n",
       "      <td>/home/hitesit/Python_Packages/Docking_Pipeline...</td>\n",
       "    </tr>\n",
       "  </tbody>\n",
       "</table>\n",
       "</div>"
      ],
      "text/plain": [
       "                            ID     Score  \\\n",
       "0   Eriodictyol_Iso0_Plants-P1  0.000000   \n",
       "1   Eriodictyol_Iso0_Plants-P2  0.015162   \n",
       "2   Eriodictyol_Iso0_Plants-P3  0.300743   \n",
       "3   Eriodictyol_Iso0_Plants-P4  0.340907   \n",
       "4   Eriodictyol_Iso0_Plants-P5  0.377505   \n",
       "5   Eriodictyol_Iso0_Plants-P6  0.378139   \n",
       "6   Eriodictyol_Iso0_Plants-P7  0.549804   \n",
       "7   Eriodictyol_Iso0_Plants-P8  0.671879   \n",
       "8   Eriodictyol_Iso0_Plants-P9  0.977423   \n",
       "9  Eriodictyol_Iso0_Plants-P10  1.000000   \n",
       "\n",
       "                                           Molecule Software  \\\n",
       "0  <rdkit.Chem.rdchem.Mol object at 0x7fb9abfabf40>   plants   \n",
       "1  <rdkit.Chem.rdchem.Mol object at 0x7fb9abfaba00>   plants   \n",
       "2  <rdkit.Chem.rdchem.Mol object at 0x7fb9abfabed0>   plants   \n",
       "3  <rdkit.Chem.rdchem.Mol object at 0x7fb9abfaac00>   plants   \n",
       "4  <rdkit.Chem.rdchem.Mol object at 0x7fba794340b0>   plants   \n",
       "5  <rdkit.Chem.rdchem.Mol object at 0x7fba79437f40>   plants   \n",
       "6  <rdkit.Chem.rdchem.Mol object at 0x7fba79437df0>   plants   \n",
       "7  <rdkit.Chem.rdchem.Mol object at 0x7fba79437920>   plants   \n",
       "8  <rdkit.Chem.rdchem.Mol object at 0x7fba794375a0>   plants   \n",
       "9  <rdkit.Chem.rdchem.Mol object at 0x7fba79436c00>   plants   \n",
       "\n",
       "                                        Protein_Path  \n",
       "0  /home/hitesit/Python_Packages/Docking_Pipeline...  \n",
       "1  /home/hitesit/Python_Packages/Docking_Pipeline...  \n",
       "2  /home/hitesit/Python_Packages/Docking_Pipeline...  \n",
       "3  /home/hitesit/Python_Packages/Docking_Pipeline...  \n",
       "4  /home/hitesit/Python_Packages/Docking_Pipeline...  \n",
       "5  /home/hitesit/Python_Packages/Docking_Pipeline...  \n",
       "6  /home/hitesit/Python_Packages/Docking_Pipeline...  \n",
       "7  /home/hitesit/Python_Packages/Docking_Pipeline...  \n",
       "8  /home/hitesit/Python_Packages/Docking_Pipeline...  \n",
       "9  /home/hitesit/Python_Packages/Docking_Pipeline...  "
      ]
     },
     "execution_count": 26,
     "metadata": {},
     "output_type": "execute_result"
    }
   ],
   "source": [
    "df"
   ]
  },
  {
   "cell_type": "code",
   "execution_count": null,
   "id": "af165ef5",
   "metadata": {},
   "outputs": [],
   "source": []
  }
 ],
 "metadata": {
  "kernelspec": {
   "display_name": "cheminf_3_11",
   "language": "python",
   "name": "python3"
  },
  "language_info": {
   "codemirror_mode": {
    "name": "ipython",
    "version": 3
   },
   "file_extension": ".py",
   "mimetype": "text/x-python",
   "name": "python",
   "nbconvert_exporter": "python",
   "pygments_lexer": "ipython3",
   "version": "3.11.8"
  }
 },
 "nbformat": 4,
 "nbformat_minor": 5
}
