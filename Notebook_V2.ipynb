{
 "cells": [
  {
   "cell_type": "code",
   "execution_count": null,
   "id": "9043a7fe",
   "metadata": {},
   "outputs": [],
   "source": [
    "import os\n",
    "import shutil\n",
    "from pathlib import Path\n",
    "from HandsFreeDocking.Wrapper_Docking import PipelineDocking\n",
    "from HandsFreeDocking.tools.Ligand_Preparation import LigandPreparator"
   ]
  },
  {
   "cell_type": "code",
   "execution_count": null,
   "id": "3311f1cb",
   "metadata": {},
   "outputs": [],
   "source": [
    "protein_pdb = Path(\"./examples/LAG3_Moloc_2.pdb\")\n",
    "ligands_sdf = Path(\"./examples/Ligands_To_Dock.sdf\")\n",
    "cystal_sdf = Path(\"./examples/Fake_Crystal.sdf\")\n",
    "\n",
    "docking_dir = Path(\"./examples/TMP_Docking\")"
   ]
  },
  {
   "cell_type": "code",
   "execution_count": null,
   "id": "8e472f21",
   "metadata": {},
   "outputs": [],
   "source": [
    "if docking_dir.exists():\n",
    "    shutil.rmtree(docking_dir, ignore_errors=True)"
   ]
  },
  {
   "cell_type": "code",
   "execution_count": null,
   "id": "8f255855",
   "metadata": {},
   "outputs": [],
   "source": [
    "docking = PipelineDocking(\n",
    "    workdir=docking_dir,\n",
    "    docking_software=[\"plants\"],\n",
    "    settings=(10, 4),\n",
    "    protein_pdb=protein_pdb,\n",
    "    ligands_input=ligands_sdf,\n",
    "    crystal_sdf=cystal_sdf,\n",
    "    protonation_method=\"cdp\"\n",
    ")"
   ]
  },
  {
   "cell_type": "code",
   "execution_count": null,
   "id": "875a142b",
   "metadata": {},
   "outputs": [],
   "source": [
    "results = docking.run()\n",
    "FULL_DF = docking.concat_df()"
   ]
  },
  {
   "cell_type": "code",
   "execution_count": null,
   "id": "d9400777",
   "metadata": {},
   "outputs": [],
   "source": []
  },
  {
   "cell_type": "code",
   "execution_count": null,
   "id": "99a23e43",
   "metadata": {},
   "outputs": [],
   "source": []
  },
  {
   "cell_type": "markdown",
   "id": "cfb28a0d",
   "metadata": {},
   "source": [
    "## Ligand Preparation"
   ]
  },
  {
   "cell_type": "code",
   "execution_count": null,
   "id": "2f0ecc73",
   "metadata": {},
   "outputs": [],
   "source": [
    "smiles_to_test = [\n",
    "    \"C1C(C[NH3+])=CC2=C(C(N[C@@H](C3C=CC=C(C(=O)[O-])C=3)C)=NS2(=O)=O)C=1\",\n",
    "    \"C1C(C[NH3+])=CC2=C(C(NC(C3C=CC=C(C(=O)[O-])C=3)C)=NS2(=O)=O)C=1\",\n",
    "    \"N1C=C(C2CC2)C(=O)NC1=O\",\n",
    "    \"C1C=CN2C(NC(C)C)=C(CC)N=C2C=1\",\n",
    "    \"C1C=CN2C(NC(C)C)=CN=C2C=1\",\n",
    "    \"C1=CC(=CC=C1C2=CC(=O)C3=C(C=C(C=C3O2)O)O)O\"\n",
    "]\n",
    "\n",
    "names_of_smiles = [\n",
    "    \"NUM_1\",\n",
    "    \"NUM_2\",\n",
    "    \"NUM_3\",\n",
    "    \"NUM_4\",\n",
    "    \"NUM_5\",\n",
    "    \"NUM_6\"\n",
    "]\n",
    "\n",
    "assert len(smiles_to_test) == len(names_of_smiles), \"The number of SMILES and names must match.\""
   ]
  },
  {
   "cell_type": "code",
   "execution_count": null,
   "id": "522e4c9d",
   "metadata": {},
   "outputs": [],
   "source": [
    "preparator = LigandPreparator(\n",
    "    protonation_method=\"cdp\",\n",
    "    enumerate_stereo=True,\n",
    "    tautomer_score_threshold=None,\n",
    "    generate_3d=True\n",
    ")\n",
    "\n",
    "# Prepare molecules from SDF\n",
    "prepared_mols = preparator.prepare_from_smiles(smiles_to_test, names_of_smiles)\n",
    "print(len(prepared_mols), \"molecules prepared from SMILES.\")"
   ]
  },
  {
   "cell_type": "code",
   "execution_count": null,
   "id": "1ee8d228",
   "metadata": {},
   "outputs": [],
   "source": []
  },
  {
   "cell_type": "markdown",
   "id": "b5a49b73",
   "metadata": {},
   "source": [
    "## MOL2 -> SDF Conv"
   ]
  },
  {
   "cell_type": "code",
   "execution_count": null,
   "id": "30bd7cb0",
   "metadata": {},
   "outputs": [],
   "source": [
    "import os\n",
    "import shutil\n",
    "from pathlib import Path\n",
    "from HandsFreeDocking.Wrapper_Docking import PipelineDocking\n",
    "from HandsFreeDocking.tools.Ligand_Preparation import LigandPreparator"
   ]
  },
  {
   "cell_type": "code",
   "execution_count": null,
   "id": "b780f8af",
   "metadata": {},
   "outputs": [],
   "source": [
    "from HandsFreeDocking.tools.Fix_Mol2 import process_mol2_file\n",
    "from rdkit import Chem\n",
    "from rdkit.Chem import AllChem\n",
    "import datamol as dm\n",
    "from typing import List, Tuple, Optional"
   ]
  },
  {
   "cell_type": "code",
   "execution_count": null,
   "id": "ad614e70",
   "metadata": {},
   "outputs": [],
   "source": [
    "mol2_example = Path(\"examples/TMP_Docking/Plants/output_plants/Apigenin_Iso0/docked_ligands.mol2\")\n",
    "assert mol2_example.exists(), f\"Expected {mol2_example} to exist.\"\n",
    "\n",
    "smiles_example = \"C1=CC(=CC=C1C2=CC(=O)C3=C(C=C(C=C3O2)O)O)O\""
   ]
  },
  {
   "cell_type": "code",
   "execution_count": null,
   "id": "5ff1127d",
   "metadata": {},
   "outputs": [],
   "source": [
    "process_mol2_file(mol2_example, smiles_example)"
   ]
  },
  {
   "cell_type": "code",
   "execution_count": null,
   "id": "e2f93139",
   "metadata": {},
   "outputs": [],
   "source": []
  }
 ],
 "metadata": {
  "kernelspec": {
   "display_name": "cheminf_3_11",
   "language": "python",
   "name": "python3"
  },
  "language_info": {
   "codemirror_mode": {
    "name": "ipython",
    "version": 3
   },
   "file_extension": ".py",
   "mimetype": "text/x-python",
   "name": "python",
   "nbconvert_exporter": "python",
   "pygments_lexer": "ipython3",
   "version": "3.11.8"
  }
 },
 "nbformat": 4,
 "nbformat_minor": 5
}
